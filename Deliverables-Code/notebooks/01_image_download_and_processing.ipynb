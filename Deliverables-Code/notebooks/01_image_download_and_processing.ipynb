{
 "cells": [
  {
   "cell_type": "markdown",
   "id": "4af789d9",
   "metadata": {},
   "source": [
    "# Image Download and Processing Pipeline\n",
    "\n",
    "This notebook handles:\n",
    "1. Download images from Google Drive URLs\n",
    "2. Auto-orient images to portrait\n",
    "3. Interactive image selection and processing markup\n",
    "4. Automated image processing based on selections\n",
    "5. Final review and confirmation interface\n",
    "\n",
    "**Environment Setup:**\n",
    "- Local: Create `.venv` and run this notebook\n",
    "- Runpod: Clone repo and run requirements install cell"
   ]
  },
  {
   "cell_type": "markdown",
   "id": "1143fc6f",
   "metadata": {},
   "source": [
    "## Cell Block 1: Setup & Authentication"
   ]
  },
  {
   "cell_type": "code",
   "execution_count": 2,
   "id": "9d0d1fa5",
   "metadata": {},
   "outputs": [
    {
     "name": "stdout",
     "output_type": "stream",
     "text": [
      "🔧 To install requirements, uncomment and run the next line:\n",
      "install_requirements()\n",
      "🔧 If some packages failed, try: install_failed_packages()\n"
     ]
    }
   ],
   "source": [
    "# Cell 1: Imports and configuration\n",
    "import os\n",
    "import sys\n",
    "import csv\n",
    "import json\n",
    "from pathlib import Path\n",
    "from typing import Dict, List, Tuple, Optional\n",
    "import subprocess\n",
    "\n",
    "def find_project_root():\n",
    "    \"\"\"Find the project root directory (where .gitattributes and .gitignore files are located).\"\"\"\n",
    "    current = Path.cwd()\n",
    "    \n",
    "    # Walk up to find .gitattributes or .gitignore files (project root indicators)\n",
    "    while current.parent != current:\n",
    "        if (current / \".gitattributes\").exists() or (current / \".gitignore\").exists() or (current / \".git\").exists():\n",
    "            return current\n",
    "        current = current.parent\n",
    "    \n",
    "    # If nothing found, use current directory\n",
    "    return Path.cwd()\n",
    "\n",
    "# Requirements installation function\n",
    "def upgrade_pip():\n",
    "    \"\"\"Upgrade pip to the latest version.\"\"\"\n",
    "    print(\"🔧 Upgrading pip to latest version...\")\n",
    "    try:\n",
    "        result = subprocess.run([\n",
    "            sys.executable, \"-m\", \"pip\", \"install\", \"--upgrade\", \"pip\"\n",
    "        ], capture_output=True, text=True, encoding='utf-8', errors='replace')\n",
    "        \n",
    "        if result.returncode == 0:\n",
    "            print(\"✅ Pip upgraded successfully!\")\n",
    "            return True\n",
    "        else:\n",
    "            print(\"⚠️  Pip upgrade failed, but continuing with installation...\")\n",
    "            if result.stderr:\n",
    "                print(f\"   Error: {result.stderr.strip()}\")\n",
    "            return False\n",
    "    except Exception as e:\n",
    "        print(f\"⚠️  Pip upgrade failed: {e}\")\n",
    "        return False\n",
    "\n",
    "def install_requirements():\n",
    "    \"\"\"Install requirements from the requirements file.\"\"\"\n",
    "    # Find project root first\n",
    "    project_root = find_project_root()\n",
    "    print(f\"📁 Project root: {project_root}\")\n",
    "    \n",
    "    # Upgrade pip first\n",
    "    upgrade_pip()\n",
    "    \n",
    "    # Look for requirements file in Deliverables-Code subdirectory\n",
    "    requirements_path = project_root / \"Deliverables-Code\" / \"requirements\" / \"requirements_image_download_and_processing.txt\"\n",
    "    \n",
    "    if requirements_path.exists():\n",
    "        print(f\"📦 Installing requirements from: {requirements_path}\")\n",
    "        print(\"⏳ Installing packages... (this may take a few minutes)\")\n",
    "        \n",
    "        try:\n",
    "            # Read requirements to show what's being installed\n",
    "            with open(requirements_path, 'r') as f:\n",
    "                requirements = [line.strip() for line in f if line.strip() and not line.startswith('#')]\n",
    "            \n",
    "            print(f\"📋 Found {len(requirements)} packages to install:\")\n",
    "            for req in requirements[:5]:  # Show first 5 packages\n",
    "                package_name = req.split('==')[0].split('>=')[0].split('<=')[0]\n",
    "                print(f\"   • {package_name}\")\n",
    "            if len(requirements) > 5:\n",
    "                print(f\"   • ... and {len(requirements) - 5} more packages\")\n",
    "            \n",
    "            print(\"🔧 Running pip install...\")\n",
    "            \n",
    "            # Run pip install with proper encoding for Windows\n",
    "            result = subprocess.run([\n",
    "                sys.executable, \"-m\", \"pip\", \"install\", \"-r\", str(requirements_path)\n",
    "            ], capture_output=True, text=True, encoding='utf-8', errors='replace')\n",
    "            \n",
    "            if result.returncode == 0:\n",
    "                print(\"✅ Requirements installed successfully!\")\n",
    "                return True\n",
    "            else:\n",
    "                print(\"❌ Pip installation failed. Analyzing error...\")\n",
    "                print(f\"🔍 Return code: {result.returncode}\")\n",
    "                \n",
    "                # Show stderr output for debugging\n",
    "                if result.stderr:\n",
    "                    print(\"📝 Error details:\")\n",
    "                    error_lines = result.stderr.split('\\n')\n",
    "                    for line in error_lines[-10:]:  # Show last 10 lines of error\n",
    "                        if line.strip():\n",
    "                            print(f\"   {line}\")\n",
    "                \n",
    "                # Try individual package installation with Windows-specific handling\n",
    "                print(\"\\n🔄 Attempting individual package installation...\")\n",
    "                failed_packages = []\n",
    "                successful_packages = []\n",
    "                \n",
    "                # Define problematic packages that often need special handling on Windows\n",
    "                problematic_packages = {'numpy', 'pandas', 'Pillow', 'scikit-image', 'opencv-python'}\n",
    "                \n",
    "                for req in requirements:\n",
    "                    package_name = req.split('==')[0].split('>=')[0].split('<=')[0]\n",
    "                    print(f\"   Installing {package_name}...\", end=\" \")\n",
    "                    \n",
    "                    # For problematic packages, try without version constraints first\n",
    "                    if package_name in problematic_packages:\n",
    "                        # Try without version constraints and force binary wheels\n",
    "                        individual_result = subprocess.run([\n",
    "                            sys.executable, \"-m\", \"pip\", \"install\", \n",
    "                            \"--only-binary=all\", \"--no-build-isolation\", package_name\n",
    "                        ], capture_output=True, text=True, encoding='utf-8', errors='replace')\n",
    "                        \n",
    "                        if individual_result.returncode != 0:\n",
    "                            # Fallback: try with just the package name\n",
    "                            individual_result = subprocess.run([\n",
    "                                sys.executable, \"-m\", \"pip\", \"install\", package_name\n",
    "                            ], capture_output=True, text=True, encoding='utf-8', errors='replace')\n",
    "                    else:\n",
    "                        # For other packages, try normal installation\n",
    "                        individual_result = subprocess.run([\n",
    "                            sys.executable, \"-m\", \"pip\", \"install\", req\n",
    "                        ], capture_output=True, text=True, encoding='utf-8', errors='replace')\n",
    "                    \n",
    "                    if individual_result.returncode == 0:\n",
    "                        print(\"✓\")\n",
    "                        successful_packages.append(req)\n",
    "                    else:\n",
    "                        print(\"✗\")\n",
    "                        failed_packages.append(req)\n",
    "                \n",
    "                # Report results\n",
    "                print(f\"\\n📊 Installation Results:\")\n",
    "                print(f\"   ✅ Successful: {len(successful_packages)} packages\")\n",
    "                print(f\"   ❌ Failed: {len(failed_packages)} packages\")\n",
    "                \n",
    "                if failed_packages:\n",
    "                    print(f\"\\n🚨 Failed packages:\")\n",
    "                    for pkg in failed_packages:\n",
    "                        print(f\"   • {pkg}\")\n",
    "                    \n",
    "                    print(f\"\\n💡 Windows-specific troubleshooting suggestions:\")\n",
    "                    print(f\"   1. Install Microsoft Visual C++ Build Tools\")\n",
    "                    print(f\"   2. Try installing packages without version constraints:\")\n",
    "                    for pkg in failed_packages:\n",
    "                        base_name = pkg.split('==')[0].split('>=')[0].split('<=')[0]\n",
    "                        print(f\"      pip install {base_name}\")\n",
    "                    print(f\"   3. For numpy/pandas, try: pip install --only-binary=all numpy pandas\")\n",
    "                    print(f\"   4. For Pillow, try: pip install --upgrade Pillow\")\n",
    "                    print(f\"   5. Consider using conda instead: conda install numpy pandas pillow\")\n",
    "                \n",
    "                return len(failed_packages) == 0\n",
    "                \n",
    "        except subprocess.CalledProcessError as e:\n",
    "            print(f\"❌ Error running pip: {e}\")\n",
    "            return False\n",
    "        except Exception as e:\n",
    "            print(f\"❌ Error reading requirements file: {e}\")\n",
    "            return False\n",
    "    else:\n",
    "        print(f\"❌ Requirements file not found at: {requirements_path}\")\n",
    "        print(\"💡 Please install dependencies manually:\")\n",
    "        print(\"   pip install google-auth google-auth-oauthlib google-api-python-client\")\n",
    "        print(\"   pip install Pillow opencv-python pandas numpy ipywidgets tqdm\")\n",
    "        return False\n",
    "\n",
    "# Install requirements (uncomment to run)\n",
    "print(\"🔧 To install requirements, uncomment and run the next line:\")\n",
    "print(\"install_requirements()\")\n",
    "\n",
    "def install_failed_packages():\n",
    "    \"\"\"Install the packages that commonly fail on Windows.\"\"\"\n",
    "    print(\"🔧 Installing commonly problematic packages with Windows-specific approaches...\")\n",
    "    \n",
    "    # Packages that failed and their Windows-friendly installation commands\n",
    "    packages_to_try = [\n",
    "        (\"numpy\", [\"--only-binary=all\", \"numpy\"]),\n",
    "        (\"pandas\", [\"--only-binary=all\", \"pandas\"]),\n",
    "        (\"Pillow\", [\"--upgrade\", \"Pillow\"]),\n",
    "        (\"scikit-image\", [\"--only-binary=all\", \"scikit-image\"])\n",
    "    ]\n",
    "    \n",
    "    successful = []\n",
    "    failed = []\n",
    "    \n",
    "    for package_name, install_args in packages_to_try:\n",
    "        print(f\"   Installing {package_name}...\", end=\" \")\n",
    "        try:\n",
    "            result = subprocess.run([\n",
    "                sys.executable, \"-m\", \"pip\", \"install\"\n",
    "            ] + install_args, \n",
    "            capture_output=True, text=True, encoding='utf-8', errors='replace')\n",
    "            \n",
    "            if result.returncode == 0:\n",
    "                print(\"✓\")\n",
    "                successful.append(package_name)\n",
    "            else:\n",
    "                print(\"✗\")\n",
    "                failed.append(package_name)\n",
    "        except Exception as e:\n",
    "            print(f\"✗ (Error: {e})\")\n",
    "            failed.append(package_name)\n",
    "    \n",
    "    print(f\"\\n📊 Results:\")\n",
    "    print(f\"   ✅ Successful: {len(successful)} packages\")\n",
    "    print(f\"   ❌ Still failed: {len(failed)} packages\")\n",
    "    \n",
    "    if failed:\n",
    "        print(f\"\\n🚨 Still failing: {', '.join(failed)}\")\n",
    "        print(f\"💡 Manual installation commands:\")\n",
    "        for pkg in failed:\n",
    "            print(f\"   pip install {pkg}\")\n",
    "    \n",
    "    return len(failed) == 0\n",
    "\n",
    "print(\"🔧 If some packages failed, try: install_failed_packages()\")"
   ]
  },
  {
   "cell_type": "code",
   "execution_count": 3,
   "id": "a5c8d589",
   "metadata": {},
   "outputs": [
    {
     "name": "stdout",
     "output_type": "stream",
     "text": [
      "📁 Project root: d:\\UCSD_MJM\n",
      "🔧 Upgrading pip to latest version...\n",
      "✅ Pip upgraded successfully!\n",
      "📦 Installing requirements from: d:\\UCSD_MJM\\Deliverables-Code\\requirements\\requirements_image_download_and_processing.txt\n",
      "⏳ Installing packages... (this may take a few minutes)\n",
      "📋 Found 13 packages to install:\n",
      "   • google-auth\n",
      "   • google-auth-oauthlib\n",
      "   • google-auth-httplib2\n",
      "   • google-api-python-client\n",
      "   • Pillow\n",
      "   • ... and 8 more packages\n",
      "🔧 Running pip install...\n",
      "❌ Pip installation failed. Analyzing error...\n",
      "🔍 Return code: 1\n",
      "📝 Error details:\n",
      "     note: This error originates from a subprocess, and is likely not a problem with pip.\n",
      "   error: subprocess-exited-with-error\n",
      "   × Getting requirements to build wheel did not run successfully.\n",
      "   │ exit code: 1\n",
      "   ╰─> See above for output.\n",
      "   note: This error originates from a subprocess, and is likely not a problem with pip.\n",
      "\n",
      "🔄 Attempting individual package installation...\n",
      "   Installing google-auth... ✓\n",
      "   Installing google-auth-oauthlib... ✓\n",
      "   Installing google-auth-httplib2... ✓\n",
      "   Installing google-api-python-client... ✓\n",
      "   Installing Pillow... ✓\n",
      "   Installing opencv-python... ✓\n",
      "   Installing pandas... ✓\n",
      "   Installing numpy... ✓\n",
      "   Installing ipywidgets... ✓\n",
      "   Installing IPython... ✓\n",
      "   Installing tqdm... ✓\n",
      "   Installing pathlib2... ✓\n",
      "   Installing scikit-image... ✓\n",
      "\n",
      "📊 Installation Results:\n",
      "   ✅ Successful: 13 packages\n",
      "   ❌ Failed: 0 packages\n"
     ]
    },
    {
     "data": {
      "text/plain": [
       "True"
      ]
     },
     "execution_count": 3,
     "metadata": {},
     "output_type": "execute_result"
    }
   ],
   "source": [
    "# Cell 1b: Install Requirements (uncomment to run)\n",
    "install_requirements()"
   ]
  },
  {
   "cell_type": "code",
   "execution_count": 4,
   "id": "325b211b",
   "metadata": {},
   "outputs": [
    {
     "name": "stdout",
     "output_type": "stream",
     "text": [
      "📦 Loading required libraries...\n",
      "   • Loading pandas & numpy... ✓\n",
      "   • Loading PIL & OpenCV... "
     ]
    },
    {
     "name": "stderr",
     "output_type": "stream",
     "text": [
      "\n",
      "A module that was compiled using NumPy 1.x cannot be run in\n",
      "NumPy 2.2.6 as it may crash. To support both 1.x and 2.x\n",
      "versions of NumPy, modules must be compiled with NumPy 2.0.\n",
      "Some module may need to rebuild instead e.g. with 'pybind11>=2.12'.\n",
      "\n",
      "If you are a user of the module, the easiest solution will be to\n",
      "downgrade to 'numpy<2' or try to upgrade the affected module.\n",
      "We expect that some modules will need time to support NumPy 2.\n",
      "\n",
      "Traceback (most recent call last):  File \"<frozen runpy>\", line 198, in _run_module_as_main\n",
      "  File \"<frozen runpy>\", line 88, in _run_code\n",
      "  File \"d:\\UCSD_MJM\\.venv\\Lib\\site-packages\\ipykernel_launcher.py\", line 18, in <module>\n",
      "    app.launch_new_instance()\n",
      "  File \"d:\\UCSD_MJM\\.venv\\Lib\\site-packages\\traitlets\\config\\application.py\", line 1075, in launch_instance\n",
      "    app.start()\n",
      "  File \"d:\\UCSD_MJM\\.venv\\Lib\\site-packages\\ipykernel\\kernelapp.py\", line 739, in start\n",
      "    self.io_loop.start()\n",
      "  File \"d:\\UCSD_MJM\\.venv\\Lib\\site-packages\\tornado\\platform\\asyncio.py\", line 211, in start\n",
      "    self.asyncio_loop.run_forever()\n",
      "  File \"C:\\Users\\alden\\AppData\\Local\\Programs\\Python\\Python313\\Lib\\asyncio\\base_events.py\", line 683, in run_forever\n",
      "    self._run_once()\n",
      "  File \"C:\\Users\\alden\\AppData\\Local\\Programs\\Python\\Python313\\Lib\\asyncio\\base_events.py\", line 2040, in _run_once\n",
      "    handle._run()\n",
      "  File \"C:\\Users\\alden\\AppData\\Local\\Programs\\Python\\Python313\\Lib\\asyncio\\events.py\", line 89, in _run\n",
      "    self._context.run(self._callback, *self._args)\n",
      "  File \"d:\\UCSD_MJM\\.venv\\Lib\\site-packages\\ipykernel\\kernelbase.py\", line 545, in dispatch_queue\n",
      "    await self.process_one()\n",
      "  File \"d:\\UCSD_MJM\\.venv\\Lib\\site-packages\\ipykernel\\kernelbase.py\", line 534, in process_one\n",
      "    await dispatch(*args)\n",
      "  File \"d:\\UCSD_MJM\\.venv\\Lib\\site-packages\\ipykernel\\kernelbase.py\", line 437, in dispatch_shell\n",
      "    await result\n",
      "  File \"d:\\UCSD_MJM\\.venv\\Lib\\site-packages\\ipykernel\\ipkernel.py\", line 362, in execute_request\n",
      "    await super().execute_request(stream, ident, parent)\n",
      "  File \"d:\\UCSD_MJM\\.venv\\Lib\\site-packages\\ipykernel\\kernelbase.py\", line 778, in execute_request\n",
      "    reply_content = await reply_content\n",
      "  File \"d:\\UCSD_MJM\\.venv\\Lib\\site-packages\\ipykernel\\ipkernel.py\", line 449, in do_execute\n",
      "    res = shell.run_cell(\n",
      "  File \"d:\\UCSD_MJM\\.venv\\Lib\\site-packages\\ipykernel\\zmqshell.py\", line 549, in run_cell\n",
      "    return super().run_cell(*args, **kwargs)\n",
      "  File \"d:\\UCSD_MJM\\.venv\\Lib\\site-packages\\IPython\\core\\interactiveshell.py\", line 3051, in run_cell\n",
      "    result = self._run_cell(\n",
      "  File \"d:\\UCSD_MJM\\.venv\\Lib\\site-packages\\IPython\\core\\interactiveshell.py\", line 3106, in _run_cell\n",
      "    result = runner(coro)\n",
      "  File \"d:\\UCSD_MJM\\.venv\\Lib\\site-packages\\IPython\\core\\async_helpers.py\", line 129, in _pseudo_sync_runner\n",
      "    coro.send(None)\n",
      "  File \"d:\\UCSD_MJM\\.venv\\Lib\\site-packages\\IPython\\core\\interactiveshell.py\", line 3311, in run_cell_async\n",
      "    has_raised = await self.run_ast_nodes(code_ast.body, cell_name,\n",
      "  File \"d:\\UCSD_MJM\\.venv\\Lib\\site-packages\\IPython\\core\\interactiveshell.py\", line 3493, in run_ast_nodes\n",
      "    if await self.run_code(code, result, async_=asy):\n",
      "  File \"d:\\UCSD_MJM\\.venv\\Lib\\site-packages\\IPython\\core\\interactiveshell.py\", line 3553, in run_code\n",
      "    exec(code_obj, self.user_global_ns, self.user_ns)\n",
      "  File \"C:\\Users\\alden\\AppData\\Local\\Temp\\ipykernel_25800\\2228688935.py\", line 17, in <module>\n",
      "    import cv2\n",
      "  File \"d:\\UCSD_MJM\\.venv\\Lib\\site-packages\\cv2\\__init__.py\", line 181, in <module>\n",
      "    bootstrap()\n",
      "  File \"d:\\UCSD_MJM\\.venv\\Lib\\site-packages\\cv2\\__init__.py\", line 153, in bootstrap\n",
      "    native_module = importlib.import_module(\"cv2\")\n",
      "  File \"C:\\Users\\alden\\AppData\\Local\\Programs\\Python\\Python313\\Lib\\importlib\\__init__.py\", line 88, in import_module\n",
      "    return _bootstrap._gcd_import(name[level:], package, level)\n"
     ]
    },
    {
     "ename": "AttributeError",
     "evalue": "_ARRAY_API not found",
     "output_type": "error",
     "traceback": [
      "\u001b[1;31m---------------------------------------------------------------------------\u001b[0m",
      "\u001b[1;31mAttributeError\u001b[0m                            Traceback (most recent call last)",
      "\u001b[1;31mAttributeError\u001b[0m: _ARRAY_API not found"
     ]
    },
    {
     "name": "stdout",
     "output_type": "stream",
     "text": [
      "✗ (PIL/OpenCV: numpy.core.multiarray failed to import)\n",
      "   • Loading tqdm & ipywidgets... ✓\n",
      "   • Loading Google APIs... ✓\n",
      "   • Loading utilities... ✓\n",
      "✅ Import process complete!\n",
      "❌ Some imports failed: PIL/OpenCV\n",
      "🔧 Please run the requirements installation cell above.\n",
      "💡 Or manually install missing packages:\n",
      "   pip install opencv-python\n",
      "   pip install Pillow\n"
     ]
    }
   ],
   "source": [
    "# Cell 2: Import all required libraries\n",
    "print(\"📦 Loading required libraries...\")\n",
    "\n",
    "# Core data science libraries\n",
    "try:\n",
    "    print(\"   • Loading pandas & numpy...\", end=\" \")\n",
    "    import pandas as pd\n",
    "    import numpy as np\n",
    "    print(\"✓\")\n",
    "except ImportError as e:\n",
    "    print(f\"✗ (pandas/numpy: {e})\")\n",
    "\n",
    "# Image processing libraries  \n",
    "try:\n",
    "    print(\"   • Loading PIL & OpenCV...\", end=\" \")\n",
    "    from PIL import Image, ImageEnhance\n",
    "    import cv2\n",
    "    print(\"✓\")\n",
    "except ImportError as e:\n",
    "    print(f\"✗ (PIL/OpenCV: {e})\")\n",
    "\n",
    "# Progress and UI libraries\n",
    "try:\n",
    "    print(\"   • Loading tqdm & ipywidgets...\", end=\" \")\n",
    "    from tqdm import tqdm\n",
    "    import ipywidgets as widgets\n",
    "    from IPython.display import display, clear_output, HTML\n",
    "    print(\"✓\")\n",
    "except ImportError as e:\n",
    "    print(f\"✗ (tqdm/ipywidgets: {e})\")\n",
    "\n",
    "# Google API libraries\n",
    "try:\n",
    "    print(\"   • Loading Google APIs...\", end=\" \")\n",
    "    from google.auth.transport.requests import Request\n",
    "    from google.oauth2.credentials import Credentials\n",
    "    from google_auth_oauthlib.flow import InstalledAppFlow\n",
    "    from googleapiclient.discovery import build\n",
    "    from googleapiclient.errors import HttpError\n",
    "    from googleapiclient.http import MediaIoBaseDownload\n",
    "    print(\"✓\")\n",
    "except ImportError as e:\n",
    "    print(f\"✗ (Google APIs: {e})\")\n",
    "\n",
    "# Utility libraries\n",
    "try:\n",
    "    print(\"   • Loading utilities...\", end=\" \")\n",
    "    import io\n",
    "    import requests\n",
    "    import shutil\n",
    "    import base64\n",
    "    print(\"✓\")\n",
    "except ImportError as e:\n",
    "    print(f\"✗ (utilities: {e})\")\n",
    "\n",
    "print(\"✅ Import process complete!\")\n",
    "\n",
    "# Check if any imports failed\n",
    "import_errors = []\n",
    "missing_packages = []\n",
    "\n",
    "try:\n",
    "    pandas_test = pd.DataFrame()\n",
    "    numpy_test = np.array([1,2,3])\n",
    "except NameError:\n",
    "    import_errors.append(\"pandas/numpy\")\n",
    "    missing_packages.extend([\"pandas\", \"numpy\"])\n",
    "\n",
    "try:\n",
    "    pil_test = Image.new('RGB', (1, 1))\n",
    "    cv2_test = cv2.__version__\n",
    "except NameError:\n",
    "    import_errors.append(\"PIL/OpenCV\")\n",
    "    missing_packages.extend([\"Pillow\", \"opencv-python\"])\n",
    "\n",
    "try:\n",
    "    tqdm_test = tqdm\n",
    "    widgets_test = widgets\n",
    "except NameError:\n",
    "    import_errors.append(\"tqdm/ipywidgets\")\n",
    "    missing_packages.extend([\"tqdm\", \"ipywidgets\"])\n",
    "\n",
    "try:\n",
    "    google_test = Request\n",
    "except NameError:\n",
    "    import_errors.append(\"Google APIs\")\n",
    "    missing_packages.extend([\"google-auth\", \"google-auth-oauthlib\", \"google-api-python-client\"])\n",
    "\n",
    "if import_errors:\n",
    "    print(f\"❌ Some imports failed: {', '.join(import_errors)}\")\n",
    "    print(\"🔧 Please run the requirements installation cell above.\")\n",
    "    print(\"💡 Or manually install missing packages:\")\n",
    "    for package in set(missing_packages):\n",
    "        print(f\"   pip install {package}\")\n",
    "else:\n",
    "    print(\"🎉 All libraries loaded successfully!\")"
   ]
  },
  {
   "cell_type": "code",
   "execution_count": 5,
   "id": "e0bb23cf",
   "metadata": {
    "lines_to_next_cell": 1
   },
   "outputs": [
    {
     "name": "stdout",
     "output_type": "stream",
     "text": [
      "🔍 Project root: d:\\UCSD_MJM\n",
      "📂 Current working directory: d:\\UCSD_MJM\\Deliverables-Code\\notebooks\n",
      "✅ Configuration complete!\n",
      "📁 Data directory: d:\\UCSD_MJM\\Deliverables-Code\\data\\images\n",
      "🔑 Credentials directory: d:\\UCSD_MJM\\Deliverables-Code\n",
      "🏗️ Deliverables directory: d:\\UCSD_MJM\\Deliverables-Code\n"
     ]
    }
   ],
   "source": [
    "# Cell 3: Configuration and directory setup\n",
    "# Configuration\n",
    "SCOPES = ['https://www.googleapis.com/auth/spreadsheets.readonly',\n",
    "          'https://www.googleapis.com/auth/drive.readonly']\n",
    "\n",
    "# Find project root and set up directories\n",
    "project_root = find_project_root()\n",
    "print(f\"🔍 Project root: {project_root}\")\n",
    "print(f\"📂 Current working directory: {Path.cwd()}\")\n",
    "\n",
    "# Set up paths - project files are in Deliverables-Code subdirectory\n",
    "deliverables_dir = project_root / \"Deliverables-Code\"\n",
    "BASE_DIR = deliverables_dir / \"data\" / \"images\"\n",
    "CREDENTIALS_BASE = deliverables_dir\n",
    "\n",
    "RAW_DOWNLOAD_DIR = BASE_DIR / \"0_raw_download\" \n",
    "CURATED_DIR = BASE_DIR / \"1_curated\"\n",
    "METADATA_DIR = BASE_DIR / \"metadata\"\n",
    "DISPLAY_CACHE_DIR = BASE_DIR / \"display_cache\"\n",
    "\n",
    "# Create directories\n",
    "for dir_path in [RAW_DOWNLOAD_DIR, CURATED_DIR, METADATA_DIR, DISPLAY_CACHE_DIR]:\n",
    "    dir_path.mkdir(parents=True, exist_ok=True)\n",
    "\n",
    "# Display settings\n",
    "REVIEW_SIZE = (600, 800)\n",
    "COMPARISON_SIZE = (500, 667)\n",
    "\n",
    "print(\"✅ Configuration complete!\")\n",
    "print(f\"📁 Data directory: {BASE_DIR}\")\n",
    "print(f\"🔑 Credentials directory: {CREDENTIALS_BASE}\")\n",
    "print(f\"🏗️ Deliverables directory: {deliverables_dir}\")"
   ]
  },
  {
   "cell_type": "code",
   "execution_count": 6,
   "id": "38943047",
   "metadata": {
    "lines_to_next_cell": 1
   },
   "outputs": [
    {
     "name": "stdout",
     "output_type": "stream",
     "text": [
      "🔍 Looking for credentials at: d:\\UCSD_MJM\\Deliverables-Code\\gdrive_oauth.json\n",
      "📋 Loading existing token...\n",
      "📋 Loaded sheets configuration from gdrive_oauth.json:\n",
      "   Spreadsheet ID: 1gdjS8gaGFaQs6J09yv7SeiYKy6ZdOLnXoZfIrQQpGoY\n",
      "   Sheet Name: Estimates/Invoices\n",
      "   URL Column: H\n",
      "✅ Google Drive authentication successful!\n"
     ]
    }
   ],
   "source": [
    "# Cell 4: Google Drive authentication\n",
    "def authenticate_google_drive():\n",
    "    \"\"\"Authenticate with Google Drive API.\"\"\"\n",
    "    creds = None\n",
    "    token_path = CREDENTIALS_BASE / \"token.json\"\n",
    "    credentials_path = CREDENTIALS_BASE / \"gdrive_oauth.json\"\n",
    "    \n",
    "    print(f\"🔍 Looking for credentials at: {credentials_path}\")\n",
    "    \n",
    "    # Load existing token\n",
    "    if token_path.exists():\n",
    "        print(\"📋 Loading existing token...\")\n",
    "        creds = Credentials.from_authorized_user_file(str(token_path), SCOPES)\n",
    "    \n",
    "    # If there are no valid credentials, get new ones\n",
    "    if not creds or not creds.valid:\n",
    "        if creds and creds.expired and creds.refresh_token:\n",
    "            print(\"🔄 Refreshing expired token...\")\n",
    "            creds.refresh(Request())\n",
    "        else:\n",
    "            if not credentials_path.exists():\n",
    "                raise FileNotFoundError(\n",
    "                    f\"OAuth credentials file not found: {credentials_path}\\n\"\n",
    "                    \"Please ensure gdrive_oauth.json is in the correct location.\"\n",
    "                )\n",
    "            \n",
    "            print(\"🆕 Getting new authentication...\")\n",
    "            flow = InstalledAppFlow.from_client_secrets_file(str(credentials_path), SCOPES)\n",
    "            creds = flow.run_local_server(port=0)\n",
    "        \n",
    "        # Save credentials for next run\n",
    "        print(\"💾 Saving credentials...\")\n",
    "        with open(token_path, 'w') as token:\n",
    "            token.write(creds.to_json())\n",
    "    \n",
    "    return build('drive', 'v3', credentials=creds), build('sheets', 'v4', credentials=creds)\n",
    "\n",
    "def load_sheets_config():\n",
    "    \"\"\"Load Google Sheets configuration from gdrive_oauth.json.\"\"\"\n",
    "    credentials_path = CREDENTIALS_BASE / \"gdrive_oauth.json\"\n",
    "    \n",
    "    try:\n",
    "        with open(credentials_path, 'r') as f:\n",
    "            config = json.load(f)\n",
    "        \n",
    "        sheets_config = config.get('sheets_config', {})\n",
    "        if sheets_config:\n",
    "            print(\"📋 Loaded sheets configuration from gdrive_oauth.json:\")\n",
    "            print(f\"   Spreadsheet ID: {sheets_config.get('spreadsheet_id', 'Not set')}\")\n",
    "            print(f\"   Sheet Name: {sheets_config.get('sheet_name', 'Not set')}\")\n",
    "            print(f\"   URL Column: {sheets_config.get('url_column', 'Not set')}\")\n",
    "            return sheets_config\n",
    "        else:\n",
    "            print(\"⚠️  No sheets_config found in gdrive_oauth.json\")\n",
    "            return {}\n",
    "    except Exception as e:\n",
    "        print(f\"❌ Error loading sheets config: {e}\")\n",
    "        return {}\n",
    "\n",
    "# Authenticate\n",
    "try:\n",
    "    drive_service, sheets_service = authenticate_google_drive()\n",
    "    sheets_config = load_sheets_config()\n",
    "    print(\"✅ Google Drive authentication successful!\")\n",
    "except Exception as e:\n",
    "    print(f\"❌ Authentication failed: {e}\")\n",
    "    print(\"💡 Make sure gdrive_oauth.json is in the correct location\")\n",
    "    drive_service, sheets_service = None, None\n",
    "    sheets_config = {}"
   ]
  },
  {
   "cell_type": "code",
   "execution_count": 7,
   "id": "92e84979",
   "metadata": {
    "lines_to_next_cell": 1
   },
   "outputs": [
    {
     "name": "stdout",
     "output_type": "stream",
     "text": [
      "⚠️  Metadata file is empty, creating new one...\n",
      "✅ Creating new metadata file...\n",
      "✅ New metadata file created successfully\n",
      "✅ Creating new ground truth file...\n",
      "✅ New ground truth file created successfully\n"
     ]
    }
   ],
   "source": [
    "# Cell 5: Load existing metadata or create new CSV files\n",
    "def load_or_create_metadata():\n",
    "    \"\"\"Load existing processing log or create new one.\"\"\"\n",
    "    metadata_path = METADATA_DIR / \"processing_log.csv\"\n",
    "    \n",
    "    if metadata_path.exists():\n",
    "        try:\n",
    "            # Check if file is empty or corrupted\n",
    "            if metadata_path.stat().st_size == 0:\n",
    "                print(\"⚠️  Metadata file is empty, creating new one...\")\n",
    "                # File exists but is empty, recreate it\n",
    "                metadata_path.unlink()  # Delete empty file\n",
    "            else:\n",
    "                df = pd.read_csv(metadata_path)\n",
    "                if len(df.columns) == 0 or len(df) == 0:\n",
    "                    print(\"⚠️  Metadata file is corrupted, creating new one...\")\n",
    "                    metadata_path.unlink()  # Delete corrupted file\n",
    "                else:\n",
    "                    print(f\"✅ Loaded existing metadata: {len(df)} records\")\n",
    "                    return df, metadata_path\n",
    "        except (pd.errors.EmptyDataError, pd.errors.ParserError) as e:\n",
    "            print(f\"⚠️  Metadata file is corrupted ({e}), creating new one...\")\n",
    "            metadata_path.unlink()  # Delete corrupted file\n",
    "        except Exception as e:\n",
    "            print(f\"⚠️  Error reading metadata file ({e}), creating new one...\")\n",
    "            metadata_path.unlink()  # Delete problematic file\n",
    "    \n",
    "    # Create new metadata file with headers\n",
    "    print(\"✅ Creating new metadata file...\")\n",
    "    columns = [\n",
    "        'filename', 'work_order_number', 'downloaded', 'rotated', 'rotation_angle', \n",
    "        'hand_selected', 'brightness_needed', 'brightness_direction', 'brightness_amount',\n",
    "        'contrast_needed', 'contrast_direction', 'contrast_amount',\n",
    "        'color_needed', 'color_direction', 'color_amount', 'notes',\n",
    "        'moved_to_curated', 'processed_version_created', 'final_choice', 'processing_complete'\n",
    "    ]\n",
    "    df = pd.DataFrame(columns=columns)\n",
    "    df.to_csv(metadata_path, index=False)\n",
    "    print(\"✅ New metadata file created successfully\")\n",
    "    \n",
    "    return df, metadata_path\n",
    "\n",
    "def load_or_create_ground_truth():\n",
    "    \"\"\"Load existing ground truth CSV or create new one.\"\"\"\n",
    "    ground_truth_path = METADATA_DIR / \"ground_truth.csv\"\n",
    "    \n",
    "    if ground_truth_path.exists():\n",
    "        try:\n",
    "            # Check if file is empty or corrupted\n",
    "            if ground_truth_path.stat().st_size == 0:\n",
    "                print(\"⚠️  Ground truth file is empty, creating new one...\")\n",
    "                # File exists but is empty, recreate it\n",
    "                ground_truth_path.unlink()  # Delete empty file\n",
    "            else:\n",
    "                df = pd.read_csv(ground_truth_path)\n",
    "                if len(df.columns) == 0 or len(df) == 0:\n",
    "                    print(\"⚠️  Ground truth file is corrupted, creating new one...\")\n",
    "                    ground_truth_path.unlink()  # Delete corrupted file\n",
    "                else:\n",
    "                    print(f\"✅ Loaded existing ground truth: {len(df)} records\")\n",
    "                    return df, ground_truth_path\n",
    "        except (pd.errors.EmptyDataError, pd.errors.ParserError) as e:\n",
    "            print(f\"⚠️  Ground truth file is corrupted ({e}), creating new one...\")\n",
    "            ground_truth_path.unlink()  # Delete corrupted file\n",
    "        except Exception as e:\n",
    "            print(f\"⚠️  Error reading ground truth file ({e}), creating new one...\")\n",
    "            ground_truth_path.unlink()  # Delete problematic file\n",
    "    \n",
    "    # Create new ground truth file with headers\n",
    "    print(\"✅ Creating new ground truth file...\")\n",
    "    columns = [\n",
    "        'filename', 'work_order_number', 'total', 'date', 'name', \n",
    "        'drive_url', 'download_status', 'file_id'\n",
    "    ]\n",
    "    df = pd.DataFrame(columns=columns)\n",
    "    df.to_csv(ground_truth_path, index=False)\n",
    "    print(\"✅ New ground truth file created successfully\")\n",
    "    \n",
    "    return df, ground_truth_path\n",
    "\n",
    "metadata_df, metadata_path = load_or_create_metadata()\n",
    "ground_truth_df, ground_truth_path = load_or_create_ground_truth()"
   ]
  },
  {
   "cell_type": "markdown",
   "id": "5b334b8e",
   "metadata": {},
   "source": [
    "## Cell Block 2: Enhanced Download & Initial Processing"
   ]
  },
  {
   "cell_type": "code",
   "execution_count": 8,
   "id": "8aba9b15",
   "metadata": {
    "lines_to_next_cell": 1
   },
   "outputs": [
    {
     "name": "stdout",
     "output_type": "stream",
     "text": [
      "📥 To download 'Estimate' images with ground truth, run:\n",
      "download_estimate_images()\n"
     ]
    }
   ],
   "source": [
    "# Cell 6: Enhanced download with filtering and ground truth creation\n",
    "def extract_file_id_from_url(url):\n",
    "    \"\"\"Extract Google Drive file ID from various URL formats.\"\"\"\n",
    "    if not url or 'drive.google.com' not in url:\n",
    "        return None\n",
    "    \n",
    "    # Handle different URL formats\n",
    "    if '/file/d/' in url:\n",
    "        return url.split('/file/d/')[1].split('/')[0]\n",
    "    elif 'id=' in url:\n",
    "        return url.split('id=')[1].split('&')[0]\n",
    "    else:\n",
    "        return None\n",
    "\n",
    "def validate_required_fields(row_data, row_num):\n",
    "    \"\"\"Validate that required fields are populated.\"\"\"\n",
    "    # Check Work Order Number (column G, index 3)\n",
    "    work_order = row_data[3] if len(row_data) > 3 and row_data[3] else None\n",
    "    if not work_order or str(work_order).strip() == '':\n",
    "        return False, f\"Row {row_num}: Missing Work Order Number\"\n",
    "    \n",
    "    # Check Total (column I, index 5)  \n",
    "    total = row_data[5] if len(row_data) > 5 and row_data[5] else None\n",
    "    if not total or str(total).strip() == '':\n",
    "        return False, f\"Row {row_num}: Missing Total\"\n",
    "    \n",
    "    # Check URL (column H, index 4)\n",
    "    url = row_data[4] if len(row_data) > 4 and row_data[4] else None\n",
    "    if not url or str(url).strip() == '':\n",
    "        return False, f\"Row {row_num}: Missing URL\"\n",
    "    \n",
    "    return True, None\n",
    "\n",
    "def sanitize_filename(work_order):\n",
    "    \"\"\"Create safe filename from work order number.\"\"\"\n",
    "    # Remove any non-alphanumeric characters except periods and hyphens\n",
    "    import re\n",
    "    safe_name = re.sub(r'[^\\w\\-.]', '', str(work_order))\n",
    "    return f\"{safe_name}.jpg\"\n",
    "\n",
    "def download_image_from_drive(file_id, filename, drive_service):\n",
    "    \"\"\"Download image from Google Drive.\"\"\"\n",
    "    try:\n",
    "        # Get file metadata first\n",
    "        file_metadata = drive_service.files().get(fileId=file_id).execute()\n",
    "        print(f\"📁 Downloading: {file_metadata.get('name', filename)} → {filename}\")\n",
    "        \n",
    "        # Download file content\n",
    "        request = drive_service.files().get_media(fileId=file_id)\n",
    "        file_content = io.BytesIO()\n",
    "        \n",
    "        downloader = MediaIoBaseDownload(file_content, request)\n",
    "        done = False\n",
    "        while done is False:\n",
    "            status, done = downloader.next_chunk()\n",
    "        \n",
    "        # Save to file\n",
    "        output_path = RAW_DOWNLOAD_DIR / filename\n",
    "        with open(output_path, 'wb') as f:\n",
    "            f.write(file_content.getvalue())\n",
    "        \n",
    "        return True, None\n",
    "    except Exception as e:\n",
    "        return False, str(e)\n",
    "\n",
    "def download_estimate_images():\n",
    "    \"\"\"Download images filtered for 'Estimate' entries with ground truth creation.\"\"\"\n",
    "    global metadata_df, ground_truth_df\n",
    "    \n",
    "    if not drive_service or not sheets_service:\n",
    "        print(\"❌ Google Drive services not authenticated. Please run authentication cell first.\")\n",
    "        return\n",
    "    \n",
    "    # Use configuration from gdrive_oauth.json\n",
    "    spreadsheet_id = sheets_config.get('spreadsheet_id')\n",
    "    sheet_name = sheets_config.get('sheet_name')\n",
    "    \n",
    "    if not spreadsheet_id or not sheet_name:\n",
    "        print(\"❌ Missing configuration in gdrive_oauth.json\")\n",
    "        print(\"Required: spreadsheet_id, sheet_name\")\n",
    "        return\n",
    "    \n",
    "    # Read multiple columns: D, E, F, G, H, I\n",
    "    # D=Type, E=Date, F=Name, G=Work Order, H=URL, I=Total\n",
    "    try:\n",
    "        range_name = f\"{sheet_name}!D:I\"\n",
    "        print(f\"📖 Reading from: {range_name}\")\n",
    "        print(\"📋 Column mapping: D=Type, E=Date, F=Name, G=Work Order, H=URL, I=Total\")\n",
    "        \n",
    "        result = sheets_service.spreadsheets().values().get(\n",
    "            spreadsheetId=spreadsheet_id, range=range_name).execute()\n",
    "        \n",
    "        all_data = result.get('values', [])\n",
    "        print(f\"🔍 Found {len(all_data)} total rows\")\n",
    "        \n",
    "        # Filter for \"Estimate\" entries (column D)\n",
    "        estimate_rows = []\n",
    "        for i, row in enumerate(all_data[1:], start=2):  # Skip header, start row numbering at 2\n",
    "            if len(row) > 0 and row[0] and str(row[0]).strip().lower() == 'estimate':\n",
    "                estimate_rows.append((i, row))\n",
    "        \n",
    "        print(f\"📊 Found {len(estimate_rows)} 'Estimate' entries\")\n",
    "        \n",
    "        if len(estimate_rows) == 0:\n",
    "            print(\"⚠️  No 'Estimate' entries found. Check column D values.\")\n",
    "            return\n",
    "        \n",
    "        downloaded_count = 0\n",
    "        skipped_count = 0\n",
    "        validation_failures = 0\n",
    "        \n",
    "        for row_num, row_data in tqdm(estimate_rows, desc=\"Processing estimates\"):\n",
    "            # Validate required fields\n",
    "            is_valid, validation_error = validate_required_fields(row_data, row_num)\n",
    "            if not is_valid:\n",
    "                print(f\"⚠️  {validation_error}\")\n",
    "                validation_failures += 1\n",
    "                continue\n",
    "            \n",
    "            # Extract data\n",
    "            doc_type = row_data[0]  # D: Type\n",
    "            date = row_data[1] if len(row_data) > 1 else ''  # E: Date\n",
    "            name = row_data[2] if len(row_data) > 2 else ''  # F: Name\n",
    "            work_order = row_data[3]  # G: Work Order Number\n",
    "            url = row_data[4]  # H: URL\n",
    "            total = row_data[5]  # I: Total\n",
    "            \n",
    "            # Generate filename from work order number\n",
    "            filename = sanitize_filename(work_order)\n",
    "            file_id = extract_file_id_from_url(url)\n",
    "            \n",
    "            if not file_id:\n",
    "                print(f\"⚠️  Row {row_num}: Invalid Google Drive URL\")\n",
    "                skipped_count += 1\n",
    "                continue\n",
    "            \n",
    "            # Check if already downloaded\n",
    "            existing_ground_truth = ground_truth_df[ground_truth_df['work_order_number'] == str(work_order)]\n",
    "            if not existing_ground_truth.empty and existing_ground_truth.iloc[0]['download_status'] == 'downloaded':\n",
    "                print(f\"⏭️  Skipping {filename} (already downloaded)\")\n",
    "                continue\n",
    "            \n",
    "            # Download image\n",
    "            success, error = download_image_from_drive(file_id, filename, drive_service)\n",
    "            \n",
    "            # Update ground truth CSV\n",
    "            ground_truth_record = {\n",
    "                'filename': filename,\n",
    "                'work_order_number': str(work_order),\n",
    "                'total': str(total),\n",
    "                'date': str(date),\n",
    "                'name': str(name),\n",
    "                'drive_url': url,\n",
    "                'download_status': 'downloaded' if success else 'failed',\n",
    "                'file_id': file_id\n",
    "            }\n",
    "            \n",
    "            if str(work_order) not in ground_truth_df['work_order_number'].values:\n",
    "                new_ground_truth = pd.DataFrame([ground_truth_record])\n",
    "                ground_truth_df = pd.concat([ground_truth_df, new_ground_truth], ignore_index=True)\n",
    "            else:\n",
    "                # Update existing record\n",
    "                mask = ground_truth_df['work_order_number'] == str(work_order)\n",
    "                for key, value in ground_truth_record.items():\n",
    "                    ground_truth_df.loc[mask, key] = value\n",
    "            \n",
    "            # Update processing metadata\n",
    "            metadata_record = {\n",
    "                'filename': filename,\n",
    "                'work_order_number': str(work_order),\n",
    "                'downloaded': success,\n",
    "                'rotated': False,\n",
    "                'rotation_angle': 0,\n",
    "                'hand_selected': False,\n",
    "                'brightness_needed': False,\n",
    "                'brightness_direction': '',\n",
    "                'brightness_amount': 0,\n",
    "                'contrast_needed': False,\n",
    "                'contrast_direction': '',\n",
    "                'contrast_amount': 0,\n",
    "                'color_needed': False,\n",
    "                'color_direction': '',\n",
    "                'color_amount': 0,\n",
    "                'notes': error if error else '',\n",
    "                'moved_to_curated': False,\n",
    "                'processed_version_created': False,\n",
    "                'final_choice': '',\n",
    "                'processing_complete': False\n",
    "            }\n",
    "            \n",
    "            if filename not in metadata_df['filename'].values:\n",
    "                new_metadata = pd.DataFrame([metadata_record])\n",
    "                metadata_df = pd.concat([metadata_df, new_metadata], ignore_index=True)\n",
    "            else:\n",
    "                # Update existing record\n",
    "                mask = metadata_df['filename'] == filename\n",
    "                for key, value in metadata_record.items():\n",
    "                    metadata_df.loc[mask, key] = value\n",
    "            \n",
    "            if success:\n",
    "                downloaded_count += 1\n",
    "            else:\n",
    "                skipped_count += 1\n",
    "            \n",
    "            # Save progress periodically\n",
    "            if (downloaded_count + skipped_count) % 10 == 0:\n",
    "                ground_truth_df.to_csv(ground_truth_path, index=False)\n",
    "                metadata_df.to_csv(metadata_path, index=False)\n",
    "                print(f\"💾 Progress saved: {downloaded_count} downloaded, {skipped_count} failed\")\n",
    "        \n",
    "        # Final save\n",
    "        ground_truth_df.to_csv(ground_truth_path, index=False)\n",
    "        metadata_df.to_csv(metadata_path, index=False)\n",
    "        \n",
    "        print(f\"✅ Download complete!\")\n",
    "        print(f\"   Downloaded: {downloaded_count} images\")\n",
    "        print(f\"   Skipped/Failed: {skipped_count} images\")\n",
    "        print(f\"   Validation failures: {validation_failures} rows\")\n",
    "        print(f\"   Ground truth records: {len(ground_truth_df)}\")\n",
    "        print(f\"📁 Ground truth saved to: {ground_truth_path}\")\n",
    "        \n",
    "    except Exception as e:\n",
    "        print(f\"❌ Error downloading images: {e}\")\n",
    "        import traceback\n",
    "        traceback.print_exc()\n",
    "\n",
    "# Legacy function for compatibility (now points to new function)\n",
    "def download_images_from_sheet(spreadsheet_id=None, sheet_name=None, url_column=None):\n",
    "    \"\"\"Legacy function - now redirects to enhanced estimate download.\"\"\"\n",
    "    print(\"ℹ️  Redirecting to enhanced estimate download function...\")\n",
    "    download_estimate_images()\n",
    "\n",
    "# To run download, uncomment and execute:\n",
    "print(\"📥 To download 'Estimate' images with ground truth, run:\")\n",
    "print(\"download_estimate_images()\")"
   ]
  },
  {
   "cell_type": "code",
   "execution_count": 9,
   "id": "a903a510",
   "metadata": {},
   "outputs": [
    {
     "name": "stdout",
     "output_type": "stream",
     "text": [
      "📖 Reading from: Estimates/Invoices!D:I\n",
      "📋 Column mapping: D=Type, E=Date, F=Name, G=Work Order, H=URL, I=Total\n",
      "🔍 Found 1648 total rows\n",
      "📊 Found 576 'Estimate' entries\n"
     ]
    },
    {
     "name": "stderr",
     "output_type": "stream",
     "text": [
      "Processing estimates:   0%|          | 0/576 [00:00<?, ?it/s]"
     ]
    },
    {
     "name": "stdout",
     "output_type": "stream",
     "text": [
      "📁 Downloading: 20241030_094824 - Marcos Lucas.jpg → Aston.jpg\n"
     ]
    },
    {
     "name": "stderr",
     "output_type": "stream",
     "text": [
      "Processing estimates:   0%|          | 1/576 [00:02<21:28,  2.24s/it]"
     ]
    },
    {
     "name": "stdout",
     "output_type": "stream",
     "text": [
      "📁 Downloading: image - Edgar Menendez.jpg → 16616.jpg\n"
     ]
    },
    {
     "name": "stderr",
     "output_type": "stream",
     "text": [
      "Processing estimates:   0%|          | 2/576 [00:03<15:14,  1.59s/it]"
     ]
    },
    {
     "name": "stdout",
     "output_type": "stream",
     "text": [
      "📁 Downloading: 20240 - pedro pelico.jpg → 20240.jpg\n"
     ]
    },
    {
     "name": "stderr",
     "output_type": "stream",
     "text": [
      "Processing estimates:   1%|          | 3/576 [00:04<15:10,  1.59s/it]"
     ]
    },
    {
     "name": "stdout",
     "output_type": "stream",
     "text": [
      "📁 Downloading: 20379- Marcelo Morinigo.jpg → 20379.jpg\n"
     ]
    },
    {
     "name": "stderr",
     "output_type": "stream",
     "text": [
      "Processing estimates:   1%|          | 4/576 [00:06<14:59,  1.57s/it]"
     ]
    },
    {
     "name": "stdout",
     "output_type": "stream",
     "text": [
      "📁 Downloading: 20249- Marcelo Morinigo.jpg → 20249.jpg\n"
     ]
    },
    {
     "name": "stderr",
     "output_type": "stream",
     "text": [
      "Processing estimates:   1%|          | 5/576 [00:08<15:20,  1.61s/it]"
     ]
    },
    {
     "name": "stdout",
     "output_type": "stream",
     "text": [
      "📁 Downloading: 20521- Pedro Pelico Guox.jpg → 20521.jpg\n"
     ]
    },
    {
     "name": "stderr",
     "output_type": "stream",
     "text": [
      "Processing estimates:   1%|          | 6/576 [00:10<16:25,  1.73s/it]"
     ]
    },
    {
     "name": "stdout",
     "output_type": "stream",
     "text": [
      "📁 Downloading: 20508 - Pedro Pelico Guox.jpg → 20508.jpg\n"
     ]
    },
    {
     "name": "stderr",
     "output_type": "stream",
     "text": [
      "Processing estimates:   1%|          | 7/576 [00:11<16:02,  1.69s/it]"
     ]
    },
    {
     "name": "stdout",
     "output_type": "stream",
     "text": [
      "📁 Downloading: image - Edgar Menendez.jpg → 20524.jpg\n"
     ]
    },
    {
     "name": "stderr",
     "output_type": "stream",
     "text": [
      "Processing estimates:   1%|▏         | 8/576 [00:12<14:31,  1.53s/it]"
     ]
    },
    {
     "name": "stdout",
     "output_type": "stream",
     "text": [
      "📁 Downloading: image - Marcelo Morinigo.jpg → GStreet.jpg\n"
     ]
    },
    {
     "name": "stderr",
     "output_type": "stream",
     "text": [
      "Processing estimates:   2%|▏         | 9/576 [00:14<14:32,  1.54s/it]"
     ]
    },
    {
     "name": "stdout",
     "output_type": "stream",
     "text": [
      "📁 Downloading: image - Edgar Menendez.jpg → 21945.jpg\n"
     ]
    },
    {
     "name": "stderr",
     "output_type": "stream",
     "text": [
      "Processing estimates:   2%|▏         | 10/576 [00:15<14:00,  1.49s/it]"
     ]
    },
    {
     "name": "stdout",
     "output_type": "stream",
     "text": [
      "💾 Progress saved: 10 downloaded, 0 failed\n",
      "📁 Downloading: image - Marcelo Morinigo.jpg → Otis.jpg\n"
     ]
    },
    {
     "name": "stderr",
     "output_type": "stream",
     "text": [
      "Processing estimates:   2%|▏         | 11/576 [00:17<13:27,  1.43s/it]"
     ]
    },
    {
     "name": "stdout",
     "output_type": "stream",
     "text": [
      "📁 Downloading: image - Marcelo Morinigo.jpg → Gstreet.jpg\n"
     ]
    },
    {
     "name": "stderr",
     "output_type": "stream",
     "text": [
      "Processing estimates:   2%|▏         | 12/576 [00:18<13:01,  1.39s/it]"
     ]
    },
    {
     "name": "stdout",
     "output_type": "stream",
     "text": [
      "📁 Downloading: 20241222_180337 - Marcos Lucas.jpg → 21701.jpg\n"
     ]
    },
    {
     "name": "stderr",
     "output_type": "stream",
     "text": [
      "Processing estimates:   2%|▏         | 13/576 [00:20<15:05,  1.61s/it]"
     ]
    },
    {
     "name": "stdout",
     "output_type": "stream",
     "text": [
      "📁 Downloading: image - Josue Cruz.jpg → 22106.jpg\n"
     ]
    },
    {
     "name": "stderr",
     "output_type": "stream",
     "text": [
      "Processing estimates:   2%|▏         | 14/576 [00:22<15:10,  1.62s/it]"
     ]
    },
    {
     "name": "stdout",
     "output_type": "stream",
     "text": [
      "📁 Downloading: image - Pedro Pelico Guox.jpg → 20721.jpg\n"
     ]
    },
    {
     "name": "stderr",
     "output_type": "stream",
     "text": [
      "Processing estimates:   3%|▎         | 16/576 [00:24<13:33,  1.45s/it]"
     ]
    },
    {
     "name": "stdout",
     "output_type": "stream",
     "text": [
      "📁 Downloading: image - Pedro Pelico Guox.jpg → 20722.jpg\n"
     ]
    },
    {
     "name": "stderr",
     "output_type": "stream",
     "text": [
      "Processing estimates:   3%|▎         | 17/576 [00:27<15:55,  1.71s/it]"
     ]
    },
    {
     "name": "stdout",
     "output_type": "stream",
     "text": [
      "📁 Downloading: image - Frank Larin.jpg → 20776.jpg\n"
     ]
    },
    {
     "name": "stderr",
     "output_type": "stream",
     "text": [
      "Processing estimates:   3%|▎         | 18/576 [00:28<14:43,  1.58s/it]"
     ]
    },
    {
     "name": "stdout",
     "output_type": "stream",
     "text": [
      "📁 Downloading: image - Edgar Menendez.jpg → 20782.jpg\n"
     ]
    },
    {
     "name": "stderr",
     "output_type": "stream",
     "text": [
      "Processing estimates:   3%|▎         | 19/576 [00:29<13:23,  1.44s/it]"
     ]
    },
    {
     "name": "stdout",
     "output_type": "stream",
     "text": [
      "📁 Downloading: image - Edgar Menendez.jpg → 20778.jpg\n"
     ]
    },
    {
     "name": "stderr",
     "output_type": "stream",
     "text": [
      "Processing estimates:   3%|▎         | 20/576 [00:30<12:24,  1.34s/it]"
     ]
    },
    {
     "name": "stdout",
     "output_type": "stream",
     "text": [
      "💾 Progress saved: 19 downloaded, 1 failed\n",
      "📁 Downloading: 20241031_225305 - Marcos Lucas.jpg → 20780.jpg\n"
     ]
    },
    {
     "name": "stderr",
     "output_type": "stream",
     "text": [
      "Processing estimates:   4%|▎         | 21/576 [00:32<13:42,  1.48s/it]"
     ]
    },
    {
     "name": "stdout",
     "output_type": "stream",
     "text": [
      "📁 Downloading: 20241031_231643 - Marcos Lucas.jpg → 20691.jpg\n"
     ]
    },
    {
     "name": "stderr",
     "output_type": "stream",
     "text": [
      "Processing estimates:   4%|▍         | 22/576 [00:34<14:19,  1.55s/it]"
     ]
    },
    {
     "name": "stdout",
     "output_type": "stream",
     "text": [
      "📁 Downloading: 20241031_232656 - Marcos Lucas.jpg → 20779.jpg\n"
     ]
    },
    {
     "name": "stderr",
     "output_type": "stream",
     "text": [
      "Processing estimates:   4%|▍         | 23/576 [00:36<16:48,  1.82s/it]"
     ]
    },
    {
     "name": "stdout",
     "output_type": "stream",
     "text": [
      "📁 Downloading: image - Frank Larin.jpg → 20777.jpg\n"
     ]
    },
    {
     "name": "stderr",
     "output_type": "stream",
     "text": [
      "Processing estimates:   4%|▍         | 24/576 [00:38<16:10,  1.76s/it]"
     ]
    },
    {
     "name": "stdout",
     "output_type": "stream",
     "text": [
      "📁 Downloading: image - Edgar Menendez.jpg → 20363.jpg\n"
     ]
    },
    {
     "name": "stderr",
     "output_type": "stream",
     "text": [
      "Processing estimates:   4%|▍         | 25/576 [00:39<14:15,  1.55s/it]"
     ]
    },
    {
     "name": "stdout",
     "output_type": "stream",
     "text": [
      "📁 Downloading: image - Frank Larin.jpg → 20809.jpg\n"
     ]
    },
    {
     "name": "stderr",
     "output_type": "stream",
     "text": [
      "Processing estimates:   5%|▍         | 26/576 [00:40<13:18,  1.45s/it]"
     ]
    },
    {
     "name": "stdout",
     "output_type": "stream",
     "text": [
      "📁 Downloading: image - Edgar Menendez.jpg → 20654.jpg\n"
     ]
    },
    {
     "name": "stderr",
     "output_type": "stream",
     "text": [
      "Processing estimates:   5%|▍         | 27/576 [00:41<12:33,  1.37s/it]"
     ]
    },
    {
     "name": "stdout",
     "output_type": "stream",
     "text": [
      "📁 Downloading: image - Edgar Menendez.jpg → 20349.jpg\n"
     ]
    },
    {
     "name": "stderr",
     "output_type": "stream",
     "text": [
      "Processing estimates:   5%|▍         | 28/576 [00:42<12:14,  1.34s/it]"
     ]
    },
    {
     "name": "stdout",
     "output_type": "stream",
     "text": [
      "📁 Downloading: image - Edgar Menendez.jpg → 20460.jpg\n"
     ]
    },
    {
     "name": "stderr",
     "output_type": "stream",
     "text": [
      "Processing estimates:   5%|▌         | 29/576 [00:44<13:11,  1.45s/it]"
     ]
    },
    {
     "name": "stdout",
     "output_type": "stream",
     "text": [
      "📁 Downloading: image - Edgar Menendez.jpg → 20447.jpg\n"
     ]
    },
    {
     "name": "stderr",
     "output_type": "stream",
     "text": [
      "Processing estimates:   5%|▌         | 30/576 [00:46<13:35,  1.49s/it]"
     ]
    },
    {
     "name": "stdout",
     "output_type": "stream",
     "text": [
      "💾 Progress saved: 29 downloaded, 1 failed\n",
      "📁 Downloading: image - Edgar Menendez.jpg → 19560.jpg\n"
     ]
    },
    {
     "name": "stderr",
     "output_type": "stream",
     "text": [
      "Processing estimates:   5%|▌         | 31/576 [00:47<11:57,  1.32s/it]"
     ]
    },
    {
     "name": "stdout",
     "output_type": "stream",
     "text": [
      "📁 Downloading: image - Josue Cruz.jpg → 21994.jpg\n"
     ]
    },
    {
     "name": "stderr",
     "output_type": "stream",
     "text": [
      "Processing estimates:   6%|▌         | 32/576 [00:48<13:12,  1.46s/it]"
     ]
    },
    {
     "name": "stdout",
     "output_type": "stream",
     "text": [
      "📁 Downloading: image - Frank Larin.jpg → 20696.jpg\n"
     ]
    },
    {
     "name": "stderr",
     "output_type": "stream",
     "text": [
      "Processing estimates:   6%|▌         | 33/576 [00:50<13:06,  1.45s/it]"
     ]
    },
    {
     "name": "stdout",
     "output_type": "stream",
     "text": [
      "📁 Downloading: image - Edgar Menendez.jpg → 20612.jpg\n"
     ]
    },
    {
     "name": "stderr",
     "output_type": "stream",
     "text": [
      "Processing estimates:   6%|▌         | 34/576 [00:51<11:54,  1.32s/it]"
     ]
    },
    {
     "name": "stdout",
     "output_type": "stream",
     "text": [
      "📁 Downloading: image - Edgar Menendez.jpg → 20390.jpg\n"
     ]
    },
    {
     "name": "stderr",
     "output_type": "stream",
     "text": [
      "Processing estimates:   6%|▌         | 35/576 [00:52<11:10,  1.24s/it]"
     ]
    },
    {
     "name": "stdout",
     "output_type": "stream",
     "text": [
      "📁 Downloading: image - Edgar Menendez.jpg → 20836.jpg\n"
     ]
    },
    {
     "name": "stderr",
     "output_type": "stream",
     "text": [
      "Processing estimates:   6%|▋         | 36/576 [00:53<11:20,  1.26s/it]"
     ]
    },
    {
     "name": "stdout",
     "output_type": "stream",
     "text": [
      "📁 Downloading: image - Edgar Menendez.jpg → 20835.jpg\n"
     ]
    },
    {
     "name": "stderr",
     "output_type": "stream",
     "text": [
      "Processing estimates:   6%|▋         | 37/576 [00:54<10:51,  1.21s/it]"
     ]
    },
    {
     "name": "stdout",
     "output_type": "stream",
     "text": [
      "📁 Downloading: image - Edgar Menendez.jpg → 20839.jpg\n"
     ]
    },
    {
     "name": "stderr",
     "output_type": "stream",
     "text": [
      "Processing estimates:   7%|▋         | 41/576 [00:56<04:38,  1.92it/s]"
     ]
    },
    {
     "name": "stdout",
     "output_type": "stream",
     "text": [
      "💾 Progress saved: 37 downloaded, 3 failed\n"
     ]
    },
    {
     "name": "stderr",
     "output_type": "stream",
     "text": [
      "Processing estimates:   7%|▋         | 43/576 [00:56<02:54,  3.05it/s]"
     ]
    },
    {
     "name": "stdout",
     "output_type": "stream",
     "text": [
      "📁 Downloading: image - Cesar Morales.jpg → 20793.jpg\n"
     ]
    },
    {
     "name": "stderr",
     "output_type": "stream",
     "text": [
      "Processing estimates:   8%|▊         | 45/576 [00:57<04:44,  1.86it/s]"
     ]
    },
    {
     "name": "stdout",
     "output_type": "stream",
     "text": [
      "📁 Downloading: image - Cesar Morales.jpg → 20794.jpg\n"
     ]
    },
    {
     "name": "stderr",
     "output_type": "stream",
     "text": [
      "Processing estimates:   8%|▊         | 46/576 [00:59<07:28,  1.18it/s]"
     ]
    },
    {
     "name": "stdout",
     "output_type": "stream",
     "text": [
      "📁 Downloading: image - Cesar Morales.jpg → 20831.jpg\n"
     ]
    },
    {
     "name": "stderr",
     "output_type": "stream",
     "text": [
      "Processing estimates:   8%|▊         | 47/576 [01:01<08:24,  1.05it/s]"
     ]
    },
    {
     "name": "stdout",
     "output_type": "stream",
     "text": [
      "📁 Downloading: image - Cesar Morales.jpg → 20833.jpg\n"
     ]
    },
    {
     "name": "stderr",
     "output_type": "stream",
     "text": [
      "Processing estimates:   8%|▊         | 48/576 [01:02<09:07,  1.04s/it]"
     ]
    },
    {
     "name": "stdout",
     "output_type": "stream",
     "text": [
      "📁 Downloading: image - Cesar Morales.jpg → 20834.jpg\n"
     ]
    },
    {
     "name": "stderr",
     "output_type": "stream",
     "text": [
      "Processing estimates:   9%|▊         | 49/576 [01:03<09:53,  1.13s/it]"
     ]
    },
    {
     "name": "stdout",
     "output_type": "stream",
     "text": [
      "📁 Downloading: image - Frank Larin.jpg → 20832.jpg\n"
     ]
    },
    {
     "name": "stderr",
     "output_type": "stream",
     "text": [
      "Processing estimates:   9%|▊         | 50/576 [01:05<10:52,  1.24s/it]"
     ]
    },
    {
     "name": "stdout",
     "output_type": "stream",
     "text": [
      "💾 Progress saved: 43 downloaded, 7 failed\n",
      "📁 Downloading: image - Frank Larin.jpg → 20830.jpg\n"
     ]
    },
    {
     "name": "stderr",
     "output_type": "stream",
     "text": [
      "Processing estimates:   9%|▉         | 51/576 [01:06<12:15,  1.40s/it]"
     ]
    },
    {
     "name": "stdout",
     "output_type": "stream",
     "text": [
      "📁 Downloading: image - Frank Larin.jpg → 20829.jpg\n"
     ]
    },
    {
     "name": "stderr",
     "output_type": "stream",
     "text": [
      "Processing estimates:   9%|▉         | 52/576 [01:08<11:33,  1.32s/it]"
     ]
    },
    {
     "name": "stdout",
     "output_type": "stream",
     "text": [
      "⏭️  Skipping 20721.jpg (already downloaded)\n",
      "⏭️  Skipping 20722.jpg (already downloaded)\n",
      "📁 Downloading: image - Pedro Pelico Guox.jpg → 20764.jpg\n"
     ]
    },
    {
     "name": "stderr",
     "output_type": "stream",
     "text": [
      "Processing estimates:  10%|▉         | 55/576 [01:09<08:02,  1.08it/s]"
     ]
    },
    {
     "name": "stdout",
     "output_type": "stream",
     "text": [
      "📁 Downloading: image - Pedro Pelico Guox.jpg → 20765.jpg\n"
     ]
    },
    {
     "name": "stderr",
     "output_type": "stream",
     "text": [
      "Processing estimates:  10%|▉         | 56/576 [01:12<10:15,  1.18s/it]"
     ]
    },
    {
     "name": "stdout",
     "output_type": "stream",
     "text": [
      "📁 Downloading: image - Edgar Menendez.jpg → 20870.jpg\n"
     ]
    },
    {
     "name": "stderr",
     "output_type": "stream",
     "text": [
      "Processing estimates:  10%|▉         | 57/576 [01:13<09:53,  1.14s/it]"
     ]
    },
    {
     "name": "stdout",
     "output_type": "stream",
     "text": [
      "📁 Downloading: image - Edgar Menendez.jpg → 20864.jpg\n"
     ]
    },
    {
     "name": "stderr",
     "output_type": "stream",
     "text": [
      "Processing estimates:  10%|█         | 58/576 [01:14<10:03,  1.17s/it]"
     ]
    },
    {
     "name": "stdout",
     "output_type": "stream",
     "text": [
      "📁 Downloading: 20241107_085026 - Marcos Lucas.jpg → 20862.jpg\n"
     ]
    },
    {
     "name": "stderr",
     "output_type": "stream",
     "text": [
      "Processing estimates:  10%|█         | 59/576 [01:16<12:04,  1.40s/it]"
     ]
    },
    {
     "name": "stdout",
     "output_type": "stream",
     "text": [
      "📁 Downloading: image - Cesar Morales.jpg → 20860.jpg\n"
     ]
    },
    {
     "name": "stderr",
     "output_type": "stream",
     "text": [
      "Processing estimates:  10%|█         | 60/576 [01:17<12:21,  1.44s/it]"
     ]
    },
    {
     "name": "stdout",
     "output_type": "stream",
     "text": [
      "📁 Downloading: image - Cesar Morales.jpg → 20837.jpg\n"
     ]
    },
    {
     "name": "stderr",
     "output_type": "stream",
     "text": [
      "Processing estimates:  11%|█         | 61/576 [01:19<12:56,  1.51s/it]"
     ]
    },
    {
     "name": "stdout",
     "output_type": "stream",
     "text": [
      "📁 Downloading: 20241107_203200 - Marcos Lucas.jpg → 20861.jpg\n"
     ]
    },
    {
     "name": "stderr",
     "output_type": "stream",
     "text": [
      "Processing estimates:  11%|█         | 62/576 [01:20<12:10,  1.42s/it]"
     ]
    },
    {
     "name": "stdout",
     "output_type": "stream",
     "text": [
      "💾 Progress saved: 53 downloaded, 7 failed\n",
      "📁 Downloading: image - Edgar Menendez.jpg → 20812.jpg\n"
     ]
    },
    {
     "name": "stderr",
     "output_type": "stream",
     "text": [
      "Processing estimates:  11%|█         | 63/576 [01:21<11:26,  1.34s/it]"
     ]
    },
    {
     "name": "stdout",
     "output_type": "stream",
     "text": [
      "📁 Downloading: 20241107_205241 - Marcos Lucas.jpg → 20838.jpg\n"
     ]
    },
    {
     "name": "stderr",
     "output_type": "stream",
     "text": [
      "Processing estimates:  11%|█         | 64/576 [01:23<10:47,  1.26s/it]"
     ]
    },
    {
     "name": "stdout",
     "output_type": "stream",
     "text": [
      "📁 Downloading: 20241107_210117 - Marcos Lucas.jpg → 20841.jpg\n"
     ]
    },
    {
     "name": "stderr",
     "output_type": "stream",
     "text": [
      "Processing estimates:  11%|█▏        | 65/576 [01:24<10:32,  1.24s/it]"
     ]
    },
    {
     "name": "stdout",
     "output_type": "stream",
     "text": [
      "📁 Downloading: image - Frank Larin.jpg → 20884.jpg\n"
     ]
    },
    {
     "name": "stderr",
     "output_type": "stream",
     "text": [
      "Processing estimates:  11%|█▏        | 66/576 [01:25<11:43,  1.38s/it]"
     ]
    },
    {
     "name": "stdout",
     "output_type": "stream",
     "text": [
      "📁 Downloading: image - Frank Larin.jpg → 20886.jpg\n"
     ]
    },
    {
     "name": "stderr",
     "output_type": "stream",
     "text": [
      "Processing estimates:  12%|█▏        | 67/576 [01:30<19:48,  2.34s/it]"
     ]
    },
    {
     "name": "stdout",
     "output_type": "stream",
     "text": [
      "📁 Downloading: IMG_3013 - Oscar Morinigo.jpeg → 20762.jpg\n"
     ]
    },
    {
     "name": "stderr",
     "output_type": "stream",
     "text": [
      "Processing estimates:  12%|█▏        | 68/576 [01:31<16:00,  1.89s/it]"
     ]
    },
    {
     "name": "stdout",
     "output_type": "stream",
     "text": [
      "📁 Downloading: IMG_3014 - Oscar Morinigo.jpeg → 20763.jpg\n"
     ]
    },
    {
     "name": "stderr",
     "output_type": "stream",
     "text": [
      "Processing estimates:  12%|█▏        | 69/576 [01:32<14:09,  1.68s/it]"
     ]
    },
    {
     "name": "stdout",
     "output_type": "stream",
     "text": [
      "📁 Downloading: IMG_3015 - Oscar Morinigo.jpeg → 20761.jpg\n"
     ]
    },
    {
     "name": "stderr",
     "output_type": "stream",
     "text": [
      "Processing estimates:  12%|█▏        | 70/576 [01:33<12:00,  1.42s/it]"
     ]
    },
    {
     "name": "stdout",
     "output_type": "stream",
     "text": [
      "📁 Downloading: IMG_3016 - Oscar Morinigo.jpeg → 20760.jpg\n"
     ]
    },
    {
     "name": "stderr",
     "output_type": "stream",
     "text": [
      "Processing estimates:  12%|█▏        | 71/576 [01:34<10:26,  1.24s/it]"
     ]
    },
    {
     "name": "stdout",
     "output_type": "stream",
     "text": [
      "📁 Downloading: IMG_3017 - Oscar Morinigo.jpeg → 20758.jpg\n"
     ]
    },
    {
     "name": "stderr",
     "output_type": "stream",
     "text": [
      "Processing estimates:  12%|█▎        | 72/576 [01:35<09:41,  1.15s/it]"
     ]
    },
    {
     "name": "stdout",
     "output_type": "stream",
     "text": [
      "💾 Progress saved: 63 downloaded, 7 failed\n",
      "📁 Downloading: IMG_3018 - Oscar Morinigo.jpeg → 20796.jpg\n"
     ]
    },
    {
     "name": "stderr",
     "output_type": "stream",
     "text": [
      "Processing estimates:  13%|█▎        | 73/576 [01:35<08:52,  1.06s/it]"
     ]
    },
    {
     "name": "stdout",
     "output_type": "stream",
     "text": [
      "📁 Downloading: IMG_3019 - Oscar Morinigo.jpeg → 20866.jpg\n"
     ]
    },
    {
     "name": "stderr",
     "output_type": "stream",
     "text": [
      "Processing estimates:  13%|█▎        | 74/576 [01:36<08:06,  1.03it/s]"
     ]
    },
    {
     "name": "stdout",
     "output_type": "stream",
     "text": [
      "📁 Downloading: IMG_3020 - Oscar Morinigo.jpeg → 20755.jpg\n"
     ]
    },
    {
     "name": "stderr",
     "output_type": "stream",
     "text": [
      "Processing estimates:  13%|█▎        | 75/576 [01:37<07:36,  1.10it/s]"
     ]
    },
    {
     "name": "stdout",
     "output_type": "stream",
     "text": [
      "📁 Downloading: IMG_3021 - Oscar Morinigo.jpeg → 20754.jpg\n"
     ]
    },
    {
     "name": "stderr",
     "output_type": "stream",
     "text": [
      "Processing estimates:  13%|█▎        | 76/576 [01:38<08:01,  1.04it/s]"
     ]
    },
    {
     "name": "stdout",
     "output_type": "stream",
     "text": [
      "📁 Downloading: image - Pedro Pelico Guox.jpg → 20795.jpg\n"
     ]
    },
    {
     "name": "stderr",
     "output_type": "stream",
     "text": [
      "Processing estimates:  13%|█▎        | 77/576 [01:41<12:14,  1.47s/it]"
     ]
    },
    {
     "name": "stdout",
     "output_type": "stream",
     "text": [
      "📁 Downloading: image - Pedro Pelico Guox.jpg → 20883.jpg\n"
     ]
    },
    {
     "name": "stderr",
     "output_type": "stream",
     "text": [
      "Processing estimates:  14%|█▎        | 78/576 [01:43<14:56,  1.80s/it]"
     ]
    },
    {
     "name": "stdout",
     "output_type": "stream",
     "text": [
      "📁 Downloading: image - Edgar Menendez.jpg → 20917.jpg\n"
     ]
    },
    {
     "name": "stderr",
     "output_type": "stream",
     "text": [
      "Processing estimates:  14%|█▎        | 79/576 [01:47<19:42,  2.38s/it]"
     ]
    },
    {
     "name": "stdout",
     "output_type": "stream",
     "text": [
      "📁 Downloading: image - Cesar Morales.jpg → 30899.jpg\n"
     ]
    },
    {
     "name": "stderr",
     "output_type": "stream",
     "text": [
      "Processing estimates:  14%|█▍        | 80/576 [01:49<18:56,  2.29s/it]"
     ]
    },
    {
     "name": "stdout",
     "output_type": "stream",
     "text": [
      "📁 Downloading: image - Edgar Menendez.jpg → 20868.jpg\n"
     ]
    },
    {
     "name": "stderr",
     "output_type": "stream",
     "text": [
      "Processing estimates:  14%|█▍        | 81/576 [01:51<18:24,  2.23s/it]"
     ]
    },
    {
     "name": "stdout",
     "output_type": "stream",
     "text": [
      "📁 Downloading: image - Cesar Morales.jpg → 20898.jpg\n"
     ]
    },
    {
     "name": "stderr",
     "output_type": "stream",
     "text": [
      "Processing estimates:  14%|█▍        | 82/576 [01:54<20:18,  2.47s/it]"
     ]
    },
    {
     "name": "stdout",
     "output_type": "stream",
     "text": [
      "💾 Progress saved: 73 downloaded, 7 failed\n",
      "📁 Downloading: image - Josue Cruz.jpg → 22015.jpg\n"
     ]
    },
    {
     "name": "stderr",
     "output_type": "stream",
     "text": [
      "Processing estimates:  14%|█▍        | 83/576 [01:56<19:28,  2.37s/it]"
     ]
    },
    {
     "name": "stdout",
     "output_type": "stream",
     "text": [
      "📁 Downloading: image - Josue Cruz.jpg → 22101.jpg\n"
     ]
    },
    {
     "name": "stderr",
     "output_type": "stream",
     "text": [
      "Processing estimates:  15%|█▍        | 84/576 [01:59<20:55,  2.55s/it]"
     ]
    },
    {
     "name": "stdout",
     "output_type": "stream",
     "text": [
      "📁 Downloading: 20241111_212028 - Marcos Lucas.jpg → 20975.jpg\n"
     ]
    },
    {
     "name": "stderr",
     "output_type": "stream",
     "text": [
      "Processing estimates:  15%|█▍        | 85/576 [02:02<20:13,  2.47s/it]"
     ]
    },
    {
     "name": "stdout",
     "output_type": "stream",
     "text": [
      "⏭️  Skipping 20778.jpg (already downloaded)\n",
      "📁 Downloading: 20241111_214802 - Marcos Lucas.jpg → 20876.jpg\n"
     ]
    },
    {
     "name": "stderr",
     "output_type": "stream",
     "text": [
      "Processing estimates:  15%|█▌        | 87/576 [02:04<15:55,  1.95s/it]"
     ]
    },
    {
     "name": "stdout",
     "output_type": "stream",
     "text": [
      "📁 Downloading: image - Edgar Menendez.jpg → 20938.jpg\n"
     ]
    },
    {
     "name": "stderr",
     "output_type": "stream",
     "text": [
      "Processing estimates:  15%|█▌        | 88/576 [02:06<14:47,  1.82s/it]"
     ]
    },
    {
     "name": "stdout",
     "output_type": "stream",
     "text": [
      "📁 Downloading: image - Edgar Menendez.jpg → 20973.jpg\n"
     ]
    },
    {
     "name": "stderr",
     "output_type": "stream",
     "text": [
      "Processing estimates:  15%|█▌        | 89/576 [02:07<13:46,  1.70s/it]"
     ]
    },
    {
     "name": "stdout",
     "output_type": "stream",
     "text": [
      "📁 Downloading: image - Edgar Menendez.jpg → 20972.jpg\n"
     ]
    },
    {
     "name": "stderr",
     "output_type": "stream",
     "text": [
      "Processing estimates:  16%|█▌        | 90/576 [02:09<14:02,  1.73s/it]"
     ]
    },
    {
     "name": "stdout",
     "output_type": "stream",
     "text": [
      "📁 Downloading: image - Frank Larin.jpg → 20977.jpg\n"
     ]
    },
    {
     "name": "stderr",
     "output_type": "stream",
     "text": [
      "Processing estimates:  16%|█▌        | 91/576 [02:12<16:49,  2.08s/it]"
     ]
    },
    {
     "name": "stdout",
     "output_type": "stream",
     "text": [
      "📁 Downloading: image - Frank Larin.jpg → 20940.jpg\n"
     ]
    },
    {
     "name": "stderr",
     "output_type": "stream",
     "text": [
      "Processing estimates:  16%|█▌        | 92/576 [02:15<18:58,  2.35s/it]"
     ]
    },
    {
     "name": "stdout",
     "output_type": "stream",
     "text": [
      "📁 Downloading: image - Cesar Morales.jpg → 20963.jpg\n"
     ]
    },
    {
     "name": "stderr",
     "output_type": "stream",
     "text": [
      "Processing estimates:  16%|█▌        | 93/576 [02:17<17:52,  2.22s/it]"
     ]
    },
    {
     "name": "stdout",
     "output_type": "stream",
     "text": [
      "💾 Progress saved: 83 downloaded, 7 failed\n",
      "📁 Downloading: image - Cesar Morales.jpg → 20962.jpg\n"
     ]
    },
    {
     "name": "stderr",
     "output_type": "stream",
     "text": [
      "Processing estimates:  16%|█▋        | 94/576 [02:19<17:52,  2.22s/it]"
     ]
    },
    {
     "name": "stdout",
     "output_type": "stream",
     "text": [
      "📁 Downloading: 20241112_211742 - Marcos Lucas.jpg → 20964.jpg\n"
     ]
    },
    {
     "name": "stderr",
     "output_type": "stream",
     "text": [
      "Processing estimates:  16%|█▋        | 95/576 [02:22<20:22,  2.54s/it]"
     ]
    },
    {
     "name": "stdout",
     "output_type": "stream",
     "text": [
      "📁 Downloading: IMG_3747 - MJM CONTRACTING INC.jpeg → 21427.jpg\n"
     ]
    },
    {
     "name": "stderr",
     "output_type": "stream",
     "text": [
      "Processing estimates:  17%|█▋        | 96/576 [02:23<16:14,  2.03s/it]"
     ]
    },
    {
     "name": "stdout",
     "output_type": "stream",
     "text": [
      "📁 Downloading: image - Edgar Menendez.jpg → 20768.jpg\n"
     ]
    },
    {
     "name": "stderr",
     "output_type": "stream",
     "text": [
      "Processing estimates:  17%|█▋        | 97/576 [02:25<14:36,  1.83s/it]"
     ]
    },
    {
     "name": "stdout",
     "output_type": "stream",
     "text": [
      "📁 Downloading: image - Edgar Menendez.jpg → 20982.jpg\n"
     ]
    },
    {
     "name": "stderr",
     "output_type": "stream",
     "text": [
      "Processing estimates:  17%|█▋        | 98/576 [02:26<13:11,  1.66s/it]"
     ]
    },
    {
     "name": "stdout",
     "output_type": "stream",
     "text": [
      "📁 Downloading: image - Edgar Menendez.jpg → 20983.jpg\n"
     ]
    },
    {
     "name": "stderr",
     "output_type": "stream",
     "text": [
      "Processing estimates:  17%|█▋        | 99/576 [02:27<12:25,  1.56s/it]"
     ]
    },
    {
     "name": "stdout",
     "output_type": "stream",
     "text": [
      "📁 Downloading: 20241113_223228 - Marcos Lucas.jpg → 20885.jpg\n"
     ]
    },
    {
     "name": "stderr",
     "output_type": "stream",
     "text": [
      "Processing estimates:  17%|█▋        | 100/576 [02:30<15:56,  2.01s/it]"
     ]
    },
    {
     "name": "stdout",
     "output_type": "stream",
     "text": [
      "📁 Downloading: IMG_5020 - Oscar Morinigo.jpeg → Lumpiezadeofficina.jpg\n"
     ]
    },
    {
     "name": "stderr",
     "output_type": "stream",
     "text": [
      "Processing estimates:  18%|█▊        | 101/576 [02:32<14:43,  1.86s/it]"
     ]
    },
    {
     "name": "stdout",
     "output_type": "stream",
     "text": [
      "⏭️  Skipping GStreet.jpg (already downloaded)\n",
      "📁 Downloading: image - Pedro Pelico Guox.jpg → 20980.jpg\n"
     ]
    },
    {
     "name": "stderr",
     "output_type": "stream",
     "text": [
      "Processing estimates:  18%|█▊        | 103/576 [02:38<19:23,  2.46s/it]"
     ]
    },
    {
     "name": "stdout",
     "output_type": "stream",
     "text": [
      "📁 Downloading: image - Frank Larin.jpg → 20990.jpg\n"
     ]
    },
    {
     "name": "stderr",
     "output_type": "stream",
     "text": [
      "Processing estimates:  18%|█▊        | 104/576 [02:39<17:02,  2.17s/it]"
     ]
    },
    {
     "name": "stdout",
     "output_type": "stream",
     "text": [
      "💾 Progress saved: 93 downloaded, 7 failed\n",
      "📁 Downloading: image - Frank Larin.jpg → 20993.jpg\n"
     ]
    },
    {
     "name": "stderr",
     "output_type": "stream",
     "text": [
      "Processing estimates:  18%|█▊        | 105/576 [02:41<15:08,  1.93s/it]"
     ]
    },
    {
     "name": "stdout",
     "output_type": "stream",
     "text": [
      "📁 Downloading: image - Cesar Morales.jpg → P12132024B.jpg\n"
     ]
    },
    {
     "name": "stderr",
     "output_type": "stream",
     "text": [
      "Processing estimates:  18%|█▊        | 106/576 [02:42<14:28,  1.85s/it]"
     ]
    },
    {
     "name": "stdout",
     "output_type": "stream",
     "text": [
      "📁 Downloading: image - Cesar Morales.jpg → 20919.jpg\n"
     ]
    },
    {
     "name": "stderr",
     "output_type": "stream",
     "text": [
      "Processing estimates:  19%|█▊        | 107/576 [02:44<13:33,  1.73s/it]"
     ]
    },
    {
     "name": "stdout",
     "output_type": "stream",
     "text": [
      "📁 Downloading: image - Edgar Menendez.jpg → 21017.jpg\n"
     ]
    },
    {
     "name": "stderr",
     "output_type": "stream",
     "text": [
      "Processing estimates:  19%|█▉        | 108/576 [02:45<11:36,  1.49s/it]"
     ]
    },
    {
     "name": "stdout",
     "output_type": "stream",
     "text": [
      "📁 Downloading: image - Edgar Menendez.jpg → 20519.jpg\n"
     ]
    },
    {
     "name": "stderr",
     "output_type": "stream",
     "text": [
      "Processing estimates:  19%|█▉        | 109/576 [02:45<10:20,  1.33s/it]"
     ]
    },
    {
     "name": "stdout",
     "output_type": "stream",
     "text": [
      "📁 Downloading: image - Oscar Morinigo.jpg → 110224.jpg\n"
     ]
    },
    {
     "name": "stderr",
     "output_type": "stream",
     "text": [
      "Processing estimates:  19%|█▉        | 110/576 [02:47<09:50,  1.27s/it]"
     ]
    },
    {
     "name": "stdout",
     "output_type": "stream",
     "text": [
      "📁 Downloading: image - Pedro Pelico Guox.jpg → 45608C.jpg\n"
     ]
    },
    {
     "name": "stderr",
     "output_type": "stream",
     "text": [
      "Processing estimates:  19%|█▉        | 111/576 [02:48<09:47,  1.26s/it]"
     ]
    },
    {
     "name": "stdout",
     "output_type": "stream",
     "text": [
      "📁 Downloading: image - Pedro Pelico Guox.jpg → 45608B.jpg\n"
     ]
    },
    {
     "name": "stderr",
     "output_type": "stream",
     "text": [
      "Processing estimates:  19%|█▉        | 112/576 [02:55<23:24,  3.03s/it]"
     ]
    },
    {
     "name": "stdout",
     "output_type": "stream",
     "text": [
      "📁 Downloading: image - Pedro Pelico Guox.jpg → 45608.jpg\n"
     ]
    },
    {
     "name": "stderr",
     "output_type": "stream",
     "text": [
      "Processing estimates:  20%|█▉        | 113/576 [02:59<26:34,  3.44s/it]"
     ]
    },
    {
     "name": "stdout",
     "output_type": "stream",
     "text": [
      "📁 Downloading: image - Pedro Pelico Guox.jpg → 45608G.jpg\n"
     ]
    },
    {
     "name": "stderr",
     "output_type": "stream",
     "text": [
      "Processing estimates:  20%|█▉        | 114/576 [03:01<21:34,  2.80s/it]"
     ]
    },
    {
     "name": "stdout",
     "output_type": "stream",
     "text": [
      "💾 Progress saved: 103 downloaded, 7 failed\n",
      "📁 Downloading: image - Pedro Pelico Guox.jpg → T1112224E.jpg\n"
     ]
    },
    {
     "name": "stderr",
     "output_type": "stream",
     "text": [
      "Processing estimates:  20%|█▉        | 115/576 [03:02<18:42,  2.44s/it]"
     ]
    },
    {
     "name": "stdout",
     "output_type": "stream",
     "text": [
      "📁 Downloading: image - Pedro Pelico Guox.jpg → 692181E.jpg\n"
     ]
    },
    {
     "name": "stderr",
     "output_type": "stream",
     "text": [
      "Processing estimates:  20%|██        | 116/576 [03:04<16:43,  2.18s/it]"
     ]
    },
    {
     "name": "stdout",
     "output_type": "stream",
     "text": [
      "📁 Downloading: image - Pedro Pelico Guox.jpg → 45639F.jpg\n"
     ]
    },
    {
     "name": "stderr",
     "output_type": "stream",
     "text": [
      "Processing estimates:  20%|██        | 117/576 [03:06<15:24,  2.02s/it]"
     ]
    },
    {
     "name": "stdout",
     "output_type": "stream",
     "text": [
      "📁 Downloading: image - Pedro Pelico Guox.jpg → 45244A.jpg\n"
     ]
    },
    {
     "name": "stderr",
     "output_type": "stream",
     "text": [
      "Processing estimates:  20%|██        | 118/576 [03:07<13:30,  1.77s/it]"
     ]
    },
    {
     "name": "stdout",
     "output_type": "stream",
     "text": [
      "📁 Downloading: image - Pedro Pelico Guox.jpg → 45611B.jpg\n"
     ]
    },
    {
     "name": "stderr",
     "output_type": "stream",
     "text": [
      "Processing estimates:  21%|██        | 119/576 [03:08<12:03,  1.58s/it]"
     ]
    },
    {
     "name": "stdout",
     "output_type": "stream",
     "text": [
      "📁 Downloading: image - Pedro Pelico Guox.jpg → 110524.jpg\n"
     ]
    },
    {
     "name": "stderr",
     "output_type": "stream",
     "text": [
      "Processing estimates:  21%|██        | 120/576 [03:10<12:37,  1.66s/it]"
     ]
    },
    {
     "name": "stdout",
     "output_type": "stream",
     "text": [
      "📁 Downloading: image - Pedro Pelico Guox.jpg → 110424.jpg\n"
     ]
    },
    {
     "name": "stderr",
     "output_type": "stream",
     "text": [
      "Processing estimates:  21%|██        | 121/576 [03:11<12:37,  1.67s/it]"
     ]
    },
    {
     "name": "stdout",
     "output_type": "stream",
     "text": [
      "📁 Downloading: Invoice_1274_from_Z_IT_SOLUTIONS_LLC - Jean-Pierre Victor.pdf → 20660.jpg\n"
     ]
    },
    {
     "name": "stderr",
     "output_type": "stream",
     "text": [
      "Processing estimates:  21%|██        | 122/576 [03:12<10:51,  1.43s/it]"
     ]
    },
    {
     "name": "stdout",
     "output_type": "stream",
     "text": [
      "📁 Downloading: image - Edgar Menendez.jpg → 20888.jpg\n"
     ]
    },
    {
     "name": "stderr",
     "output_type": "stream",
     "text": [
      "Processing estimates:  21%|██▏       | 123/576 [03:13<09:49,  1.30s/it]"
     ]
    },
    {
     "name": "stdout",
     "output_type": "stream",
     "text": [
      "📁 Downloading: Invoice_1275_from_Z_IT_SOLUTIONS_LLC - Jean-Pierre Victor.pdf → 20747.jpg\n"
     ]
    },
    {
     "name": "stderr",
     "output_type": "stream",
     "text": [
      "Processing estimates:  22%|██▏       | 124/576 [03:14<09:31,  1.27s/it]"
     ]
    },
    {
     "name": "stdout",
     "output_type": "stream",
     "text": [
      "💾 Progress saved: 113 downloaded, 7 failed\n",
      "📁 Downloading: image - Frank Larin.jpg → 21037.jpg\n"
     ]
    },
    {
     "name": "stderr",
     "output_type": "stream",
     "text": [
      "Processing estimates:  22%|██▏       | 125/576 [03:16<09:43,  1.29s/it]"
     ]
    },
    {
     "name": "stdout",
     "output_type": "stream",
     "text": [
      "📁 Downloading: Invoice_1276_from_Z_IT_SOLUTIONS_LLC - Jean-Pierre Victor.pdf → 20347.jpg\n"
     ]
    },
    {
     "name": "stderr",
     "output_type": "stream",
     "text": [
      "Processing estimates:  22%|██▏       | 126/576 [03:17<08:26,  1.13s/it]"
     ]
    },
    {
     "name": "stdout",
     "output_type": "stream",
     "text": [
      "📁 Downloading: image - Frank Larin.jpg → 21036.jpg\n"
     ]
    },
    {
     "name": "stderr",
     "output_type": "stream",
     "text": [
      "Processing estimates:  22%|██▏       | 127/576 [03:18<09:48,  1.31s/it]"
     ]
    },
    {
     "name": "stdout",
     "output_type": "stream",
     "text": [
      "📁 Downloading: Invoice_1277_from_Z_IT_SOLUTIONS_LLC - Jean-Pierre Victor.pdf → 2074820128.jpg\n"
     ]
    },
    {
     "name": "stderr",
     "output_type": "stream",
     "text": [
      "Processing estimates:  22%|██▏       | 128/576 [03:19<09:04,  1.21s/it]"
     ]
    },
    {
     "name": "stdout",
     "output_type": "stream",
     "text": [
      "📁 Downloading: image - Cesar Morales.jpg → 21002.jpg\n"
     ]
    },
    {
     "name": "stderr",
     "output_type": "stream",
     "text": [
      "Processing estimates:  22%|██▏       | 129/576 [03:21<09:36,  1.29s/it]"
     ]
    },
    {
     "name": "stdout",
     "output_type": "stream",
     "text": [
      "📁 Downloading: image - Cesar Morales.jpg → 21001.jpg\n"
     ]
    },
    {
     "name": "stderr",
     "output_type": "stream",
     "text": [
      "Processing estimates:  23%|██▎       | 130/576 [03:22<09:38,  1.30s/it]"
     ]
    },
    {
     "name": "stdout",
     "output_type": "stream",
     "text": [
      "📁 Downloading: Invoice_1279_from_Z_IT_SOLUTIONS_LLC - Jean-Pierre Victor.pdf → 20713.jpg\n"
     ]
    },
    {
     "name": "stderr",
     "output_type": "stream",
     "text": [
      "Processing estimates:  23%|██▎       | 131/576 [03:23<09:04,  1.22s/it]"
     ]
    },
    {
     "name": "stdout",
     "output_type": "stream",
     "text": [
      "📁 Downloading: image - Cesar Morales.jpg → 21000.jpg\n"
     ]
    },
    {
     "name": "stderr",
     "output_type": "stream",
     "text": [
      "Processing estimates:  23%|██▎       | 132/576 [03:27<15:48,  2.14s/it]"
     ]
    },
    {
     "name": "stdout",
     "output_type": "stream",
     "text": [
      "📁 Downloading: image - Cesar Morales.jpg → 21035.jpg\n"
     ]
    },
    {
     "name": "stderr",
     "output_type": "stream",
     "text": [
      "Processing estimates:  23%|██▎       | 133/576 [03:33<24:16,  3.29s/it]"
     ]
    },
    {
     "name": "stdout",
     "output_type": "stream",
     "text": [
      "📁 Downloading: Invoice_1281_from_Z_IT_SOLUTIONS_LLC - Jean-Pierre Victor.pdf → 8105th.jpg\n"
     ]
    },
    {
     "name": "stderr",
     "output_type": "stream",
     "text": [
      "Processing estimates:  23%|██▎       | 134/576 [03:36<23:05,  3.14s/it]"
     ]
    },
    {
     "name": "stdout",
     "output_type": "stream",
     "text": [
      "💾 Progress saved: 123 downloaded, 7 failed\n",
      "📁 Downloading: image - Cesar Morales.jpg → 20634.jpg\n"
     ]
    },
    {
     "name": "stderr",
     "output_type": "stream",
     "text": [
      "Processing estimates:  23%|██▎       | 135/576 [03:37<18:46,  2.56s/it]"
     ]
    },
    {
     "name": "stdout",
     "output_type": "stream",
     "text": [
      "📁 Downloading: 2700NYave-daysinn-cleaning-Nov24.pdf → T11242024A.jpg\n"
     ]
    },
    {
     "name": "stderr",
     "output_type": "stream",
     "text": [
      "Processing estimates:  24%|██▎       | 136/576 [03:39<16:48,  2.29s/it]"
     ]
    },
    {
     "name": "stdout",
     "output_type": "stream",
     "text": [
      "📁 Downloading: 20241117_161629 - Marcos Lucas.jpg → 20999.jpg\n"
     ]
    },
    {
     "name": "stderr",
     "output_type": "stream",
     "text": [
      "Processing estimates:  24%|██▍       | 137/576 [03:41<15:46,  2.16s/it]"
     ]
    },
    {
     "name": "stdout",
     "output_type": "stream",
     "text": [
      "📁 Downloading: image - Frank Larin.jpg → 21086.jpg\n"
     ]
    },
    {
     "name": "stderr",
     "output_type": "stream",
     "text": [
      "Processing estimates:  24%|██▍       | 138/576 [03:42<14:29,  1.98s/it]"
     ]
    },
    {
     "name": "stdout",
     "output_type": "stream",
     "text": [
      "📁 Downloading: image - Cesar Morales.jpg → 21082.jpg\n"
     ]
    },
    {
     "name": "stderr",
     "output_type": "stream",
     "text": [
      "Processing estimates:  24%|██▍       | 139/576 [03:44<14:22,  1.97s/it]"
     ]
    },
    {
     "name": "stdout",
     "output_type": "stream",
     "text": [
      "📁 Downloading: image - Cesar Morales.jpg → 21081.jpg\n"
     ]
    },
    {
     "name": "stderr",
     "output_type": "stream",
     "text": [
      "Processing estimates:  24%|██▍       | 140/576 [03:46<12:42,  1.75s/it]"
     ]
    },
    {
     "name": "stdout",
     "output_type": "stream",
     "text": [
      "📁 Downloading: image - Cesar Morales.jpg → 21084.jpg\n"
     ]
    },
    {
     "name": "stderr",
     "output_type": "stream",
     "text": [
      "Processing estimates:  24%|██▍       | 141/576 [03:48<12:59,  1.79s/it]"
     ]
    },
    {
     "name": "stdout",
     "output_type": "stream",
     "text": [
      "📁 Downloading: image - Cesar Morales.jpg → 21109.jpg\n"
     ]
    },
    {
     "name": "stderr",
     "output_type": "stream",
     "text": [
      "Processing estimates:  25%|██▍       | 142/576 [03:49<12:26,  1.72s/it]"
     ]
    },
    {
     "name": "stdout",
     "output_type": "stream",
     "text": [
      "📁 Downloading: image - Edgar Menendez.jpg → 21038.jpg\n"
     ]
    },
    {
     "name": "stderr",
     "output_type": "stream",
     "text": [
      "Processing estimates:  25%|██▍       | 143/576 [03:51<13:04,  1.81s/it]"
     ]
    },
    {
     "name": "stdout",
     "output_type": "stream",
     "text": [
      "📁 Downloading: image - Edgar Menendez.jpg → 21085.jpg\n"
     ]
    },
    {
     "name": "stderr",
     "output_type": "stream",
     "text": [
      "Processing estimates:  25%|██▌       | 144/576 [03:52<11:53,  1.65s/it]"
     ]
    },
    {
     "name": "stdout",
     "output_type": "stream",
     "text": [
      "💾 Progress saved: 133 downloaded, 7 failed\n",
      "📁 Downloading: 20241119_201902 - Marcos Lucas.jpg → 21089.jpg\n"
     ]
    },
    {
     "name": "stderr",
     "output_type": "stream",
     "text": [
      "Processing estimates:  25%|██▌       | 145/576 [03:54<11:20,  1.58s/it]"
     ]
    },
    {
     "name": "stdout",
     "output_type": "stream",
     "text": [
      "📁 Downloading: image - Edgar Menendez.jpg → 21130.jpg\n"
     ]
    },
    {
     "name": "stderr",
     "output_type": "stream",
     "text": [
      "Processing estimates:  25%|██▌       | 146/576 [03:55<10:22,  1.45s/it]"
     ]
    },
    {
     "name": "stdout",
     "output_type": "stream",
     "text": [
      "📁 Downloading: image - Edgar Menendez.jpg → 21131.jpg\n"
     ]
    },
    {
     "name": "stderr",
     "output_type": "stream",
     "text": [
      "Processing estimates:  26%|██▌       | 147/576 [03:56<09:07,  1.28s/it]"
     ]
    },
    {
     "name": "stdout",
     "output_type": "stream",
     "text": [
      "📁 Downloading: image - Edgar Menendez.jpg → 21052.jpg\n"
     ]
    },
    {
     "name": "stderr",
     "output_type": "stream",
     "text": [
      "Processing estimates:  26%|██▌       | 148/576 [03:57<09:55,  1.39s/it]"
     ]
    },
    {
     "name": "stdout",
     "output_type": "stream",
     "text": [
      "📁 Downloading: Invoice_1273_from_Z_IT_SOLUTIONS_LLC - Jean-Pierre Victor.pdf → 20804.jpg\n"
     ]
    },
    {
     "name": "stderr",
     "output_type": "stream",
     "text": [
      "Processing estimates:  26%|██▌       | 149/576 [03:59<09:31,  1.34s/it]"
     ]
    },
    {
     "name": "stdout",
     "output_type": "stream",
     "text": [
      "📁 Downloading: 20241120_202327 - Marcos Lucas.jpg → 21087.jpg\n"
     ]
    },
    {
     "name": "stderr",
     "output_type": "stream",
     "text": [
      "Processing estimates:  26%|██▌       | 150/576 [04:00<10:02,  1.41s/it]"
     ]
    },
    {
     "name": "stdout",
     "output_type": "stream",
     "text": [
      "📁 Downloading: 20241120_203014 - Marcos Lucas.jpg → 21088.jpg\n"
     ]
    },
    {
     "name": "stderr",
     "output_type": "stream",
     "text": [
      "Processing estimates:  26%|██▌       | 151/576 [04:02<10:05,  1.42s/it]"
     ]
    },
    {
     "name": "stdout",
     "output_type": "stream",
     "text": [
      "📁 Downloading: image - Frank Larin.jpg → 21095.jpg\n"
     ]
    },
    {
     "name": "stderr",
     "output_type": "stream",
     "text": [
      "Processing estimates:  26%|██▋       | 152/576 [04:03<10:20,  1.46s/it]"
     ]
    },
    {
     "name": "stdout",
     "output_type": "stream",
     "text": [
      "📁 Downloading: image - Frank Larin.jpg → 20914.jpg\n"
     ]
    },
    {
     "name": "stderr",
     "output_type": "stream",
     "text": [
      "Processing estimates:  27%|██▋       | 153/576 [04:04<09:44,  1.38s/it]"
     ]
    },
    {
     "name": "stdout",
     "output_type": "stream",
     "text": [
      "📁 Downloading: image - Frank Larin.jpg → 21090.jpg\n"
     ]
    },
    {
     "name": "stderr",
     "output_type": "stream",
     "text": [
      "Processing estimates:  27%|██▋       | 154/576 [04:12<21:40,  3.08s/it]"
     ]
    },
    {
     "name": "stdout",
     "output_type": "stream",
     "text": [
      "💾 Progress saved: 143 downloaded, 7 failed\n",
      "📁 Downloading: 20241121_214152 - Marcos Lucas.jpg → 21137.jpg\n"
     ]
    },
    {
     "name": "stderr",
     "output_type": "stream",
     "text": [
      "Processing estimates:  27%|██▋       | 155/576 [04:16<25:32,  3.64s/it]"
     ]
    },
    {
     "name": "stdout",
     "output_type": "stream",
     "text": [
      "📁 Downloading: image - Edgar Menendez.jpg → 21183.jpg\n"
     ]
    },
    {
     "name": "stderr",
     "output_type": "stream",
     "text": [
      "Processing estimates:  27%|██▋       | 156/576 [04:17<19:53,  2.84s/it]"
     ]
    },
    {
     "name": "stdout",
     "output_type": "stream",
     "text": [
      "📁 Downloading: image - Frank Larin.jpg → 21181.jpg\n"
     ]
    },
    {
     "name": "stderr",
     "output_type": "stream",
     "text": [
      "Processing estimates:  27%|██▋       | 157/576 [04:19<17:34,  2.52s/it]"
     ]
    },
    {
     "name": "stdout",
     "output_type": "stream",
     "text": [
      "📁 Downloading: image - Frank Larin.jpg → 21158.jpg\n"
     ]
    },
    {
     "name": "stderr",
     "output_type": "stream",
     "text": [
      "Processing estimates:  27%|██▋       | 158/576 [04:21<15:23,  2.21s/it]"
     ]
    },
    {
     "name": "stdout",
     "output_type": "stream",
     "text": [
      "📁 Downloading: image - Edgar Menendez.jpg → 20893.jpg\n"
     ]
    },
    {
     "name": "stderr",
     "output_type": "stream",
     "text": [
      "Processing estimates:  28%|██▊       | 159/576 [04:22<12:30,  1.80s/it]"
     ]
    },
    {
     "name": "stdout",
     "output_type": "stream",
     "text": [
      "📁 Downloading: image - Cesar Morales.jpg → 21094.jpg\n"
     ]
    },
    {
     "name": "stderr",
     "output_type": "stream",
     "text": [
      "Processing estimates:  28%|██▊       | 160/576 [04:23<11:53,  1.72s/it]"
     ]
    },
    {
     "name": "stdout",
     "output_type": "stream",
     "text": [
      "📁 Downloading: image - Cesar Morales.jpg → 21092.jpg\n"
     ]
    },
    {
     "name": "stderr",
     "output_type": "stream",
     "text": [
      "Processing estimates:  28%|██▊       | 161/576 [04:24<11:13,  1.62s/it]"
     ]
    },
    {
     "name": "stdout",
     "output_type": "stream",
     "text": [
      "📁 Downloading: image - Cesar Morales.jpg → 20915.jpg\n"
     ]
    },
    {
     "name": "stderr",
     "output_type": "stream",
     "text": [
      "Processing estimates:  28%|██▊       | 162/576 [04:26<10:24,  1.51s/it]"
     ]
    },
    {
     "name": "stdout",
     "output_type": "stream",
     "text": [
      "📁 Downloading: image - Cesar Morales.jpg → 21136.jpg\n"
     ]
    },
    {
     "name": "stderr",
     "output_type": "stream",
     "text": [
      "Processing estimates:  28%|██▊       | 163/576 [04:27<10:19,  1.50s/it]"
     ]
    },
    {
     "name": "stdout",
     "output_type": "stream",
     "text": [
      "📁 Downloading: 20241124_201523 - Marcos Lucas.jpg → 21155.jpg\n"
     ]
    },
    {
     "name": "stderr",
     "output_type": "stream",
     "text": [
      "Processing estimates:  28%|██▊       | 164/576 [04:29<10:11,  1.48s/it]"
     ]
    },
    {
     "name": "stdout",
     "output_type": "stream",
     "text": [
      "💾 Progress saved: 153 downloaded, 7 failed\n",
      "📁 Downloading: image - Cesar Morales.jpg → 21135.jpg\n"
     ]
    },
    {
     "name": "stderr",
     "output_type": "stream",
     "text": [
      "Processing estimates:  29%|██▊       | 165/576 [04:30<10:19,  1.51s/it]"
     ]
    },
    {
     "name": "stdout",
     "output_type": "stream",
     "text": [
      "📁 Downloading: image - Frank Larin.jpg → Emergencia.jpg\n"
     ]
    },
    {
     "name": "stderr",
     "output_type": "stream",
     "text": [
      "Processing estimates:  29%|██▉       | 166/576 [04:32<10:14,  1.50s/it]"
     ]
    },
    {
     "name": "stdout",
     "output_type": "stream",
     "text": [
      "📁 Downloading: image - Edgar Menendez.jpg → 21338.jpg\n"
     ]
    },
    {
     "name": "stderr",
     "output_type": "stream",
     "text": [
      "Processing estimates:  29%|██▉       | 167/576 [04:33<09:31,  1.40s/it]"
     ]
    },
    {
     "name": "stdout",
     "output_type": "stream",
     "text": [
      "📁 Downloading: image - Pedro Pelico Guox.jpg → 21093.jpg\n"
     ]
    },
    {
     "name": "stderr",
     "output_type": "stream",
     "text": [
      "Processing estimates:  29%|██▉       | 168/576 [04:34<09:17,  1.37s/it]"
     ]
    },
    {
     "name": "stdout",
     "output_type": "stream",
     "text": [
      "📁 Downloading: image - Pedro Pelico Guox.jpg → 21091.jpg\n"
     ]
    },
    {
     "name": "stderr",
     "output_type": "stream",
     "text": [
      "Processing estimates:  29%|██▉       | 169/576 [04:36<10:30,  1.55s/it]"
     ]
    },
    {
     "name": "stdout",
     "output_type": "stream",
     "text": [
      "📁 Downloading: image - Pedro Pelico Guox.jpg → 21099.jpg\n"
     ]
    },
    {
     "name": "stderr",
     "output_type": "stream",
     "text": [
      "Processing estimates:  30%|██▉       | 170/576 [04:38<10:26,  1.54s/it]"
     ]
    },
    {
     "name": "stdout",
     "output_type": "stream",
     "text": [
      "📁 Downloading: image - Pedro Pelico Guox.jpg → 21060.jpg\n"
     ]
    },
    {
     "name": "stderr",
     "output_type": "stream",
     "text": [
      "Processing estimates:  30%|██▉       | 171/576 [04:44<19:55,  2.95s/it]"
     ]
    },
    {
     "name": "stdout",
     "output_type": "stream",
     "text": [
      "📁 Downloading: image - Pedro Pelico Guox.jpg → 21704.jpg\n"
     ]
    },
    {
     "name": "stderr",
     "output_type": "stream",
     "text": [
      "Processing estimates:  30%|██▉       | 172/576 [04:50<25:53,  3.84s/it]"
     ]
    },
    {
     "name": "stdout",
     "output_type": "stream",
     "text": [
      "📁 Downloading: image - Perla Isaguirre.jpg → 21148.jpg\n"
     ]
    },
    {
     "name": "stderr",
     "output_type": "stream",
     "text": [
      "Processing estimates:  30%|███       | 173/576 [04:51<20:34,  3.06s/it]"
     ]
    },
    {
     "name": "stdout",
     "output_type": "stream",
     "text": [
      "📁 Downloading: image - Frank Larin.jpg → 21195.jpg\n"
     ]
    },
    {
     "name": "stderr",
     "output_type": "stream",
     "text": [
      "Processing estimates:  30%|███       | 174/576 [04:53<17:45,  2.65s/it]"
     ]
    },
    {
     "name": "stdout",
     "output_type": "stream",
     "text": [
      "💾 Progress saved: 163 downloaded, 7 failed\n",
      "📁 Downloading: image - Perla Isaguirre.jpg → 21110.jpg\n"
     ]
    },
    {
     "name": "stderr",
     "output_type": "stream",
     "text": [
      "Processing estimates:  30%|███       | 175/576 [04:54<14:35,  2.18s/it]"
     ]
    },
    {
     "name": "stdout",
     "output_type": "stream",
     "text": [
      "📁 Downloading: image - Perla Isaguirre.jpg → 21150.jpg\n"
     ]
    },
    {
     "name": "stderr",
     "output_type": "stream",
     "text": [
      "Processing estimates:  31%|███       | 176/576 [04:55<12:18,  1.85s/it]"
     ]
    },
    {
     "name": "stdout",
     "output_type": "stream",
     "text": [
      "📁 Downloading: image - Perla Isaguirre.jpg → 21149.jpg\n"
     ]
    },
    {
     "name": "stderr",
     "output_type": "stream",
     "text": [
      "Processing estimates:  31%|███       | 177/576 [04:56<11:23,  1.71s/it]"
     ]
    },
    {
     "name": "stdout",
     "output_type": "stream",
     "text": [
      "📁 Downloading: image - Perla Isaguirre.jpg → 21123.jpg\n"
     ]
    },
    {
     "name": "stderr",
     "output_type": "stream",
     "text": [
      "Processing estimates:  31%|███       | 178/576 [04:58<11:00,  1.66s/it]"
     ]
    },
    {
     "name": "stdout",
     "output_type": "stream",
     "text": [
      "📁 Downloading: image - Pedro Pelico Guox.jpg → 21929.jpg\n"
     ]
    },
    {
     "name": "stderr",
     "output_type": "stream",
     "text": [
      "Processing estimates:  31%|███       | 179/576 [04:59<10:30,  1.59s/it]"
     ]
    },
    {
     "name": "stdout",
     "output_type": "stream",
     "text": [
      "📁 Downloading: IMG_3362 - Perla Isaguirre.jpeg → 21101.jpg\n"
     ]
    },
    {
     "name": "stderr",
     "output_type": "stream",
     "text": [
      "Processing estimates:  31%|███▏      | 180/576 [05:00<09:44,  1.48s/it]"
     ]
    },
    {
     "name": "stdout",
     "output_type": "stream",
     "text": [
      "📁 Downloading: IMG_3361 - Perla Isaguirre.jpeg → 20946.jpg\n"
     ]
    },
    {
     "name": "stderr",
     "output_type": "stream",
     "text": [
      "Processing estimates:  31%|███▏      | 181/576 [05:01<08:30,  1.29s/it]"
     ]
    },
    {
     "name": "stdout",
     "output_type": "stream",
     "text": [
      "📁 Downloading: IMG_3360 - Perla Isaguirre.jpeg → 20945.jpg\n"
     ]
    },
    {
     "name": "stderr",
     "output_type": "stream",
     "text": [
      "Processing estimates:  32%|███▏      | 182/576 [05:02<07:41,  1.17s/it]"
     ]
    },
    {
     "name": "stdout",
     "output_type": "stream",
     "text": [
      "📁 Downloading: image - Pedro Pelico Guox.jpg → 45622A.jpg\n"
     ]
    },
    {
     "name": "stderr",
     "output_type": "stream",
     "text": [
      "Processing estimates:  32%|███▏      | 183/576 [05:04<08:25,  1.29s/it]"
     ]
    },
    {
     "name": "stdout",
     "output_type": "stream",
     "text": [
      "📁 Downloading: image - Frank Larin.jpg → 21998.jpg\n"
     ]
    },
    {
     "name": "stderr",
     "output_type": "stream",
     "text": [
      "Processing estimates:  32%|███▏      | 184/576 [05:05<08:11,  1.25s/it]"
     ]
    },
    {
     "name": "stdout",
     "output_type": "stream",
     "text": [
      "💾 Progress saved: 173 downloaded, 7 failed\n",
      "📁 Downloading: image - Pedro Pelico Guox.jpg → 22033.jpg\n"
     ]
    },
    {
     "name": "stderr",
     "output_type": "stream",
     "text": [
      "Processing estimates:  32%|███▏      | 185/576 [05:07<08:47,  1.35s/it]"
     ]
    },
    {
     "name": "stdout",
     "output_type": "stream",
     "text": [
      "📁 Downloading: IMG_3363 - Perla Isaguirre.jpeg → 21231.jpg\n"
     ]
    },
    {
     "name": "stderr",
     "output_type": "stream",
     "text": [
      "Processing estimates:  32%|███▏      | 186/576 [05:08<08:48,  1.36s/it]"
     ]
    },
    {
     "name": "stdout",
     "output_type": "stream",
     "text": [
      "📁 Downloading: IMG_3364 - Perla Isaguirre.jpeg → 21140.jpg\n"
     ]
    },
    {
     "name": "stderr",
     "output_type": "stream",
     "text": [
      "Processing estimates:  32%|███▏      | 187/576 [05:09<07:37,  1.18s/it]"
     ]
    },
    {
     "name": "stdout",
     "output_type": "stream",
     "text": [
      "📁 Downloading: image - Edgar Menendez.jpg → 21237.jpg\n"
     ]
    },
    {
     "name": "stderr",
     "output_type": "stream",
     "text": [
      "Processing estimates:  33%|███▎      | 189/576 [05:10<05:29,  1.17it/s]"
     ]
    },
    {
     "name": "stdout",
     "output_type": "stream",
     "text": [
      "📁 Downloading: image - Edgar Menendez.jpg → 21200.jpg\n"
     ]
    },
    {
     "name": "stderr",
     "output_type": "stream",
     "text": [
      "Processing estimates:  33%|███▎      | 190/576 [05:11<06:09,  1.04it/s]"
     ]
    },
    {
     "name": "stdout",
     "output_type": "stream",
     "text": [
      "📁 Downloading: image - Frank Larin.jpg → 21201.jpg\n"
     ]
    },
    {
     "name": "stderr",
     "output_type": "stream",
     "text": [
      "Processing estimates:  33%|███▎      | 191/576 [05:12<06:44,  1.05s/it]"
     ]
    },
    {
     "name": "stdout",
     "output_type": "stream",
     "text": [
      "📁 Downloading: image - Edgar Menendez.jpg → 21216.jpg\n"
     ]
    },
    {
     "name": "stderr",
     "output_type": "stream",
     "text": [
      "Processing estimates:  33%|███▎      | 192/576 [05:13<07:06,  1.11s/it]"
     ]
    },
    {
     "name": "stdout",
     "output_type": "stream",
     "text": [
      "📁 Downloading: image - Edgar Menendez.jpg → 20574.jpg\n"
     ]
    },
    {
     "name": "stderr",
     "output_type": "stream",
     "text": [
      "Processing estimates:  34%|███▎      | 193/576 [05:14<06:44,  1.06s/it]"
     ]
    },
    {
     "name": "stdout",
     "output_type": "stream",
     "text": [
      "📁 Downloading: image - Frank Larin.jpg → 20774.jpg\n"
     ]
    },
    {
     "name": "stderr",
     "output_type": "stream",
     "text": [
      "Processing estimates:  34%|███▎      | 194/576 [05:25<24:20,  3.82s/it]"
     ]
    },
    {
     "name": "stdout",
     "output_type": "stream",
     "text": [
      "💾 Progress saved: 182 downloaded, 8 failed\n",
      "📁 Downloading: image - Pedro Pelico Guox.jpg → 21182.jpg\n"
     ]
    },
    {
     "name": "stderr",
     "output_type": "stream",
     "text": [
      "Processing estimates:  34%|███▍      | 195/576 [05:27<20:12,  3.18s/it]"
     ]
    },
    {
     "name": "stdout",
     "output_type": "stream",
     "text": [
      "📁 Downloading: image - Edgar Menendez.jpg → 21284.jpg\n"
     ]
    },
    {
     "name": "stderr",
     "output_type": "stream",
     "text": [
      "Processing estimates:  34%|███▍      | 196/576 [05:28<16:13,  2.56s/it]"
     ]
    },
    {
     "name": "stdout",
     "output_type": "stream",
     "text": [
      "⏭️  Skipping Aston.jpg (already downloaded)\n",
      "📁 Downloading: image - Edgar Menendez.jpg → 21175.jpg\n"
     ]
    },
    {
     "name": "stderr",
     "output_type": "stream",
     "text": [
      "Processing estimates:  34%|███▍      | 198/576 [05:30<11:59,  1.90s/it]"
     ]
    },
    {
     "name": "stdout",
     "output_type": "stream",
     "text": [
      "📁 Downloading: image - Edgar Menendez.jpg → 21313.jpg\n"
     ]
    },
    {
     "name": "stderr",
     "output_type": "stream",
     "text": [
      "Processing estimates:  35%|███▍      | 199/576 [05:31<10:17,  1.64s/it]"
     ]
    },
    {
     "name": "stdout",
     "output_type": "stream",
     "text": [
      "📁 Downloading: 20241201_163813 - Marcos Lucas.jpg → 21246.jpg\n"
     ]
    },
    {
     "name": "stderr",
     "output_type": "stream",
     "text": [
      "Processing estimates:  35%|███▍      | 201/576 [05:32<07:26,  1.19s/it]"
     ]
    },
    {
     "name": "stdout",
     "output_type": "stream",
     "text": [
      "📁 Downloading: IMG_3428 - Perla Isaguirre.jpeg → 21294.jpg\n"
     ]
    },
    {
     "name": "stderr",
     "output_type": "stream",
     "text": [
      "Processing estimates:  35%|███▌      | 202/576 [05:33<06:46,  1.09s/it]"
     ]
    },
    {
     "name": "stdout",
     "output_type": "stream",
     "text": [
      "📁 Downloading: 20241212_210502 - Marcos Lucas.jpg → 21564.jpg\n"
     ]
    },
    {
     "name": "stderr",
     "output_type": "stream",
     "text": [
      "Processing estimates:  35%|███▌      | 203/576 [05:35<08:02,  1.29s/it]"
     ]
    },
    {
     "name": "stdout",
     "output_type": "stream",
     "text": [
      "📁 Downloading: image - Frank Larin.jpg → 21319.jpg\n"
     ]
    },
    {
     "name": "stderr",
     "output_type": "stream",
     "text": [
      "Processing estimates:  35%|███▌      | 204/576 [05:36<07:56,  1.28s/it]"
     ]
    },
    {
     "name": "stdout",
     "output_type": "stream",
     "text": [
      "📁 Downloading: IMG_3446 - Oscar Morinigo.jpeg → 422516THST.jpg\n"
     ]
    },
    {
     "name": "stderr",
     "output_type": "stream",
     "text": [
      "Processing estimates:  36%|███▌      | 205/576 [05:37<07:04,  1.15s/it]"
     ]
    },
    {
     "name": "stdout",
     "output_type": "stream",
     "text": [
      "💾 Progress saved: 191 downloaded, 9 failed\n",
      "📁 Downloading: image - Cesar Morales.jpg → 21245.jpg\n"
     ]
    },
    {
     "name": "stderr",
     "output_type": "stream",
     "text": [
      "Processing estimates:  36%|███▌      | 206/576 [05:39<07:32,  1.22s/it]"
     ]
    },
    {
     "name": "stdout",
     "output_type": "stream",
     "text": [
      "📁 Downloading: 20241203_180518 - Marcos Lucas.jpg → 21353.jpg\n"
     ]
    },
    {
     "name": "stderr",
     "output_type": "stream",
     "text": [
      "Processing estimates:  36%|███▌      | 207/576 [05:40<08:49,  1.43s/it]"
     ]
    },
    {
     "name": "stdout",
     "output_type": "stream",
     "text": [
      "📁 Downloading: image - Edgar Menendez.jpg → 21370.jpg\n"
     ]
    },
    {
     "name": "stderr",
     "output_type": "stream",
     "text": [
      "Processing estimates:  36%|███▌      | 208/576 [05:41<07:46,  1.27s/it]"
     ]
    },
    {
     "name": "stdout",
     "output_type": "stream",
     "text": [
      "📁 Downloading: IMG_3429 - Perla Isaguirre.jpeg → 20988.jpg\n"
     ]
    },
    {
     "name": "stderr",
     "output_type": "stream",
     "text": [
      "Processing estimates:  36%|███▋      | 209/576 [05:42<07:27,  1.22s/it]"
     ]
    },
    {
     "name": "stdout",
     "output_type": "stream",
     "text": [
      "📁 Downloading: image - Frank Larin.jpg → 21368.jpg\n"
     ]
    },
    {
     "name": "stderr",
     "output_type": "stream",
     "text": [
      "Processing estimates:  36%|███▋      | 210/576 [05:44<08:00,  1.31s/it]"
     ]
    },
    {
     "name": "stdout",
     "output_type": "stream",
     "text": [
      "📁 Downloading: image - Edgar Menendez.jpg → 21399.jpg\n"
     ]
    },
    {
     "name": "stderr",
     "output_type": "stream",
     "text": [
      "Processing estimates:  37%|███▋      | 211/576 [05:46<09:25,  1.55s/it]"
     ]
    },
    {
     "name": "stdout",
     "output_type": "stream",
     "text": [
      "📁 Downloading: image - Pedro Pelico Guox.jpg → 20673A.jpg\n"
     ]
    },
    {
     "name": "stderr",
     "output_type": "stream",
     "text": [
      "Processing estimates:  37%|███▋      | 212/576 [05:48<09:52,  1.63s/it]"
     ]
    },
    {
     "name": "stdout",
     "output_type": "stream",
     "text": [
      "📁 Downloading: image - Pedro Pelico Guox.jpg → 20673B.jpg\n"
     ]
    },
    {
     "name": "stderr",
     "output_type": "stream",
     "text": [
      "Processing estimates:  37%|███▋      | 213/576 [05:49<09:32,  1.58s/it]"
     ]
    },
    {
     "name": "stdout",
     "output_type": "stream",
     "text": [
      "📁 Downloading: image - Frank Larin.jpg → 21493.jpg\n"
     ]
    },
    {
     "name": "stderr",
     "output_type": "stream",
     "text": [
      "Processing estimates:  37%|███▋      | 214/576 [05:51<09:11,  1.52s/it]"
     ]
    },
    {
     "name": "stdout",
     "output_type": "stream",
     "text": [
      "⏭️  Skipping 21493.jpg (already downloaded)\n",
      "📁 Downloading: image - Frank Larin.jpg → 21828.jpg\n"
     ]
    },
    {
     "name": "stderr",
     "output_type": "stream",
     "text": [
      "Processing estimates:  38%|███▊      | 216/576 [05:53<07:49,  1.30s/it]"
     ]
    },
    {
     "name": "stdout",
     "output_type": "stream",
     "text": [
      "💾 Progress saved: 201 downloaded, 9 failed\n",
      "📁 Downloading: image - Pedro Pelico Guox.jpg → 21292.jpg\n"
     ]
    },
    {
     "name": "stderr",
     "output_type": "stream",
     "text": [
      "Processing estimates:  38%|███▊      | 217/576 [05:57<11:54,  1.99s/it]"
     ]
    },
    {
     "name": "stdout",
     "output_type": "stream",
     "text": [
      "📁 Downloading: image - Pedro Pelico Guox.jpg → 21835.jpg\n"
     ]
    },
    {
     "name": "stderr",
     "output_type": "stream",
     "text": [
      "Processing estimates:  38%|███▊      | 218/576 [09:10<5:09:48, 51.92s/it]"
     ]
    },
    {
     "name": "stdout",
     "output_type": "stream",
     "text": [
      "📁 Downloading: image - Frank Larin.jpg → 21387.jpg\n"
     ]
    },
    {
     "name": "stderr",
     "output_type": "stream",
     "text": [
      "Processing estimates:  38%|███▊      | 221/576 [09:12<2:27:01, 24.85s/it]"
     ]
    },
    {
     "name": "stdout",
     "output_type": "stream",
     "text": [
      "📁 Downloading: image - Edgar Menendez.jpg → 21339.jpg\n"
     ]
    },
    {
     "name": "stderr",
     "output_type": "stream",
     "text": [
      "Processing estimates:  39%|███▊      | 222/576 [09:14<1:59:00, 20.17s/it]"
     ]
    },
    {
     "name": "stdout",
     "output_type": "stream",
     "text": [
      "📁 Downloading: image - Edgar Menendez.jpg → 21059.jpg\n"
     ]
    },
    {
     "name": "stderr",
     "output_type": "stream",
     "text": [
      "Processing estimates:  39%|███▊      | 223/576 [09:15<1:33:29, 15.89s/it]"
     ]
    },
    {
     "name": "stdout",
     "output_type": "stream",
     "text": [
      "📁 Downloading: image - Edgar Menendez.jpg → 21377.jpg\n"
     ]
    },
    {
     "name": "stderr",
     "output_type": "stream",
     "text": [
      "Processing estimates:  39%|███▉      | 224/576 [09:16<1:12:45, 12.40s/it]"
     ]
    },
    {
     "name": "stdout",
     "output_type": "stream",
     "text": [
      "📁 Downloading: image - Edgar Menendez.jpg → 21404.jpg\n"
     ]
    },
    {
     "name": "stderr",
     "output_type": "stream",
     "text": [
      "Processing estimates:  39%|███▉      | 225/576 [09:17<55:48,  9.54s/it]  "
     ]
    },
    {
     "name": "stdout",
     "output_type": "stream",
     "text": [
      "📁 Downloading: image - Pedro Pelico Guox.jpg → 21931.jpg\n"
     ]
    },
    {
     "name": "stderr",
     "output_type": "stream",
     "text": [
      "Processing estimates:  39%|███▉      | 226/576 [09:20<44:29,  7.63s/it]"
     ]
    },
    {
     "name": "stdout",
     "output_type": "stream",
     "text": [
      "💾 Progress saved: 209 downloaded, 11 failed\n",
      "📁 Downloading: image - Cesar Morales.jpg → 21992.jpg\n"
     ]
    },
    {
     "name": "stderr",
     "output_type": "stream",
     "text": [
      "Processing estimates:  39%|███▉      | 227/576 [09:22<35:21,  6.08s/it]"
     ]
    },
    {
     "name": "stdout",
     "output_type": "stream",
     "text": [
      "📁 Downloading: image - Josue Cruz.jpg → 21995.jpg\n"
     ]
    },
    {
     "name": "stderr",
     "output_type": "stream",
     "text": [
      "Processing estimates:  40%|███▉      | 228/576 [09:24<28:26,  4.90s/it]"
     ]
    },
    {
     "name": "stdout",
     "output_type": "stream",
     "text": [
      "📁 Downloading: 20241125_211214 - Marcos Lucas.jpg → 20593.jpg\n"
     ]
    },
    {
     "name": "stderr",
     "output_type": "stream",
     "text": [
      "Processing estimates:  40%|███▉      | 229/576 [09:28<26:44,  4.62s/it]"
     ]
    },
    {
     "name": "stdout",
     "output_type": "stream",
     "text": [
      "📁 Downloading: image - Cesar Morales.jpg → 21367.jpg\n"
     ]
    },
    {
     "name": "stderr",
     "output_type": "stream",
     "text": [
      "Processing estimates:  40%|███▉      | 230/576 [09:30<22:18,  3.87s/it]"
     ]
    },
    {
     "name": "stdout",
     "output_type": "stream",
     "text": [
      "📁 Downloading: image - Cesar Morales.jpg → 21421.jpg\n"
     ]
    },
    {
     "name": "stderr",
     "output_type": "stream",
     "text": [
      "Processing estimates:  40%|████      | 231/576 [09:31<18:08,  3.15s/it]"
     ]
    },
    {
     "name": "stdout",
     "output_type": "stream",
     "text": [
      "📁 Downloading: image - Cesar Morales.jpg → 21295.jpg\n"
     ]
    },
    {
     "name": "stderr",
     "output_type": "stream",
     "text": [
      "Processing estimates:  40%|████      | 232/576 [09:32<15:03,  2.63s/it]"
     ]
    },
    {
     "name": "stdout",
     "output_type": "stream",
     "text": [
      "📁 Downloading: image - Cesar Morales.jpg → 21315.jpg\n"
     ]
    },
    {
     "name": "stderr",
     "output_type": "stream",
     "text": [
      "Processing estimates:  40%|████      | 233/576 [09:34<13:06,  2.29s/it]"
     ]
    },
    {
     "name": "stdout",
     "output_type": "stream",
     "text": [
      "📁 Downloading: proposal2800 otis convent-mini2ton - Perla Isaguirre.doc → CC.jpg\n"
     ]
    },
    {
     "name": "stderr",
     "output_type": "stream",
     "text": [
      "Processing estimates:  41%|████      | 234/576 [09:36<12:46,  2.24s/it]"
     ]
    },
    {
     "name": "stdout",
     "output_type": "stream",
     "text": [
      "📁 Downloading: IMG_3453 - Perla Isaguirre.jpeg → 21310.jpg\n"
     ]
    },
    {
     "name": "stderr",
     "output_type": "stream",
     "text": [
      "Processing estimates:  41%|████      | 235/576 [09:37<10:23,  1.83s/it]"
     ]
    },
    {
     "name": "stdout",
     "output_type": "stream",
     "text": [
      "📁 Downloading: image - Edgar Menendez.jpg → 21694.jpg\n"
     ]
    },
    {
     "name": "stderr",
     "output_type": "stream",
     "text": [
      "Processing estimates:  41%|████      | 236/576 [09:38<08:43,  1.54s/it]"
     ]
    },
    {
     "name": "stdout",
     "output_type": "stream",
     "text": [
      "💾 Progress saved: 219 downloaded, 11 failed\n",
      "📁 Downloading: image - Cesar Morales.jpg → Pll27202C.jpg\n"
     ]
    },
    {
     "name": "stderr",
     "output_type": "stream",
     "text": [
      "Processing estimates:  41%|████      | 237/576 [09:40<09:46,  1.73s/it]"
     ]
    },
    {
     "name": "stdout",
     "output_type": "stream",
     "text": [
      "📁 Downloading: image - Frank Larin.jpg → 21332.jpg\n"
     ]
    },
    {
     "name": "stderr",
     "output_type": "stream",
     "text": [
      "Processing estimates:  41%|████▏     | 238/576 [09:42<11:12,  1.99s/it]"
     ]
    },
    {
     "name": "stdout",
     "output_type": "stream",
     "text": [
      "📁 Downloading: image - Edgar Menendez.jpg → 21354.jpg\n"
     ]
    },
    {
     "name": "stderr",
     "output_type": "stream",
     "text": [
      "Processing estimates:  41%|████▏     | 239/576 [09:44<09:46,  1.74s/it]"
     ]
    },
    {
     "name": "stdout",
     "output_type": "stream",
     "text": [
      "📁 Downloading: image - Edgar Menendez.jpg → 21445.jpg\n"
     ]
    },
    {
     "name": "stderr",
     "output_type": "stream",
     "text": [
      "Processing estimates:  42%|████▏     | 240/576 [09:45<08:20,  1.49s/it]"
     ]
    },
    {
     "name": "stdout",
     "output_type": "stream",
     "text": [
      "📁 Downloading: image - Edgar Menendez.jpg → 21443.jpg\n"
     ]
    },
    {
     "name": "stderr",
     "output_type": "stream",
     "text": [
      "Processing estimates:  42%|████▏     | 241/576 [09:45<07:17,  1.31s/it]"
     ]
    },
    {
     "name": "stdout",
     "output_type": "stream",
     "text": [
      "⏭️  Skipping 21353.jpg (already downloaded)\n",
      "📁 Downloading: IMG_3634 - MJM CONTRACTING INC.jpeg → 21512.jpg\n"
     ]
    },
    {
     "name": "stderr",
     "output_type": "stream",
     "text": [
      "Processing estimates:  42%|████▏     | 243/576 [09:46<04:53,  1.13it/s]"
     ]
    },
    {
     "name": "stdout",
     "output_type": "stream",
     "text": [
      "📁 Downloading: image - Edgar Menendez.jpg → 21699.jpg\n"
     ]
    },
    {
     "name": "stderr",
     "output_type": "stream",
     "text": [
      "Processing estimates:  43%|████▎     | 245/576 [09:47<03:44,  1.47it/s]"
     ]
    },
    {
     "name": "stdout",
     "output_type": "stream",
     "text": [
      "📁 Downloading: IMG_3830 - MJM CONTRACTING INC.jpeg → 21867.jpg\n"
     ]
    },
    {
     "name": "stderr",
     "output_type": "stream",
     "text": [
      "Processing estimates:  43%|████▎     | 246/576 [09:48<03:32,  1.55it/s]"
     ]
    },
    {
     "name": "stdout",
     "output_type": "stream",
     "text": [
      "⏭️  Skipping 20988.jpg (already downloaded)\n",
      "📁 Downloading: 20250108_192939 - Marcos Lucas.jpg → 21745.jpg\n"
     ]
    },
    {
     "name": "stderr",
     "output_type": "stream",
     "text": [
      "Processing estimates:  43%|████▎     | 248/576 [09:50<04:09,  1.32it/s]"
     ]
    },
    {
     "name": "stdout",
     "output_type": "stream",
     "text": [
      "💾 Progress saved: 228 downloaded, 12 failed\n",
      "📁 Downloading: image - Cesar Morales.jpg → 21447.jpg\n"
     ]
    },
    {
     "name": "stderr",
     "output_type": "stream",
     "text": [
      "Processing estimates:  43%|████▎     | 249/576 [09:55<10:44,  1.97s/it]"
     ]
    },
    {
     "name": "stdout",
     "output_type": "stream",
     "text": [
      "📁 Downloading: image - Cesar Morales.jpg → 21502.jpg\n"
     ]
    },
    {
     "name": "stderr",
     "output_type": "stream",
     "text": [
      "Processing estimates:  43%|████▎     | 250/576 [10:01<15:34,  2.87s/it]"
     ]
    },
    {
     "name": "stdout",
     "output_type": "stream",
     "text": [
      "📁 Downloading: image - Cesar Morales.jpg → 21498.jpg\n"
     ]
    },
    {
     "name": "stderr",
     "output_type": "stream",
     "text": [
      "Processing estimates:  44%|████▎     | 251/576 [10:03<13:51,  2.56s/it]"
     ]
    },
    {
     "name": "stdout",
     "output_type": "stream",
     "text": [
      "📁 Downloading: image - Josue Cruz.jpg → 21979.jpg\n"
     ]
    },
    {
     "name": "stderr",
     "output_type": "stream",
     "text": [
      "Processing estimates:  44%|████▍     | 252/576 [10:04<12:28,  2.31s/it]"
     ]
    },
    {
     "name": "stdout",
     "output_type": "stream",
     "text": [
      "📁 Downloading: image - Frank Larin.jpg → 21999.jpg\n"
     ]
    },
    {
     "name": "stderr",
     "output_type": "stream",
     "text": [
      "Processing estimates:  44%|████▍     | 253/576 [10:05<10:35,  1.97s/it]"
     ]
    },
    {
     "name": "stdout",
     "output_type": "stream",
     "text": [
      "📁 Downloading: image - Edgar Menendez.jpg → 22016.jpg\n"
     ]
    },
    {
     "name": "stderr",
     "output_type": "stream",
     "text": [
      "Processing estimates:  44%|████▍     | 254/576 [10:06<08:56,  1.67s/it]"
     ]
    },
    {
     "name": "stdout",
     "output_type": "stream",
     "text": [
      "📁 Downloading: image - Pedro Pelico Guox.jpg → 22019.jpg\n"
     ]
    },
    {
     "name": "stderr",
     "output_type": "stream",
     "text": [
      "Processing estimates:  44%|████▍     | 255/576 [10:08<08:48,  1.65s/it]"
     ]
    },
    {
     "name": "stdout",
     "output_type": "stream",
     "text": [
      "📁 Downloading: image - Frank Larin.jpg → 22050.jpg\n"
     ]
    },
    {
     "name": "stderr",
     "output_type": "stream",
     "text": [
      "Processing estimates:  44%|████▍     | 256/576 [10:09<07:55,  1.49s/it]"
     ]
    },
    {
     "name": "stdout",
     "output_type": "stream",
     "text": [
      "📁 Downloading: image - Edgar Menendez.jpg → 22018.jpg\n"
     ]
    },
    {
     "name": "stderr",
     "output_type": "stream",
     "text": [
      "Processing estimates:  45%|████▍     | 257/576 [10:10<06:52,  1.29s/it]"
     ]
    },
    {
     "name": "stdout",
     "output_type": "stream",
     "text": [
      "📁 Downloading: 20241212_202100 - Marcos Lucas.jpg → 21461.jpg\n"
     ]
    },
    {
     "name": "stderr",
     "output_type": "stream",
     "text": [
      "Processing estimates:  45%|████▍     | 258/576 [10:12<08:56,  1.69s/it]"
     ]
    },
    {
     "name": "stdout",
     "output_type": "stream",
     "text": [
      "💾 Progress saved: 238 downloaded, 12 failed\n",
      "📁 Downloading: 20241212_203704 - Marcos Lucas.jpg → 21495.jpg\n"
     ]
    },
    {
     "name": "stderr",
     "output_type": "stream",
     "text": [
      "Processing estimates:  45%|████▍     | 259/576 [10:15<09:59,  1.89s/it]"
     ]
    },
    {
     "name": "stdout",
     "output_type": "stream",
     "text": [
      "📁 Downloading: image - Edgar Menendez.jpg → 21156.jpg\n"
     ]
    },
    {
     "name": "stderr",
     "output_type": "stream",
     "text": [
      "Processing estimates:  45%|████▌     | 260/576 [10:16<08:19,  1.58s/it]"
     ]
    },
    {
     "name": "stdout",
     "output_type": "stream",
     "text": [
      "📁 Downloading: image - Edgar Menendez.jpg → 22017.jpg\n"
     ]
    },
    {
     "name": "stderr",
     "output_type": "stream",
     "text": [
      "Processing estimates:  45%|████▌     | 261/576 [10:17<07:11,  1.37s/it]"
     ]
    },
    {
     "name": "stdout",
     "output_type": "stream",
     "text": [
      "📁 Downloading: image - Cesar Morales.jpg → 21469.jpg\n"
     ]
    },
    {
     "name": "stderr",
     "output_type": "stream",
     "text": [
      "Processing estimates:  45%|████▌     | 262/576 [10:18<07:06,  1.36s/it]"
     ]
    },
    {
     "name": "stdout",
     "output_type": "stream",
     "text": [
      "📁 Downloading: image - Edgar Menendez.jpg → 21522.jpg\n"
     ]
    },
    {
     "name": "stderr",
     "output_type": "stream",
     "text": [
      "Processing estimates:  46%|████▌     | 263/576 [10:19<06:47,  1.30s/it]"
     ]
    },
    {
     "name": "stdout",
     "output_type": "stream",
     "text": [
      "📁 Downloading: image - Frank Larin.jpg → 21934.jpg\n"
     ]
    },
    {
     "name": "stderr",
     "output_type": "stream",
     "text": [
      "Processing estimates:  46%|████▌     | 264/576 [10:21<07:20,  1.41s/it]"
     ]
    },
    {
     "name": "stdout",
     "output_type": "stream",
     "text": [
      "📁 Downloading: 20250108_191448 - Marcos Lucas.jpg → 21774.jpg\n"
     ]
    },
    {
     "name": "stderr",
     "output_type": "stream",
     "text": [
      "Processing estimates:  46%|████▌     | 265/576 [10:23<08:02,  1.55s/it]"
     ]
    },
    {
     "name": "stdout",
     "output_type": "stream",
     "text": [
      "📁 Downloading: image - Edgar Menendez.jpg → 20678.jpg\n"
     ]
    },
    {
     "name": "stderr",
     "output_type": "stream",
     "text": [
      "Processing estimates:  46%|████▌     | 266/576 [10:23<06:52,  1.33s/it]"
     ]
    },
    {
     "name": "stdout",
     "output_type": "stream",
     "text": [
      "📁 Downloading: image - Edgar Menendez.jpg → 21054.jpg\n"
     ]
    },
    {
     "name": "stderr",
     "output_type": "stream",
     "text": [
      "Processing estimates:  46%|████▋     | 267/576 [10:28<11:33,  2.25s/it]"
     ]
    },
    {
     "name": "stdout",
     "output_type": "stream",
     "text": [
      "📁 Downloading: image - Frank Larin.jpg → 21930.jpg\n"
     ]
    },
    {
     "name": "stderr",
     "output_type": "stream",
     "text": [
      "Processing estimates:  47%|████▋     | 268/576 [10:35<18:39,  3.64s/it]"
     ]
    },
    {
     "name": "stdout",
     "output_type": "stream",
     "text": [
      "💾 Progress saved: 248 downloaded, 12 failed\n",
      "📁 Downloading: image - Cesar Morales.jpg → 21943.jpg\n"
     ]
    },
    {
     "name": "stderr",
     "output_type": "stream",
     "text": [
      "Processing estimates:  47%|████▋     | 269/576 [10:36<14:50,  2.90s/it]"
     ]
    },
    {
     "name": "stdout",
     "output_type": "stream",
     "text": [
      "📁 Downloading: image - Josue Cruz.jpg → 21957.jpg\n"
     ]
    },
    {
     "name": "stderr",
     "output_type": "stream",
     "text": [
      "Processing estimates:  47%|████▋     | 270/576 [10:37<12:32,  2.46s/it]"
     ]
    },
    {
     "name": "stdout",
     "output_type": "stream",
     "text": [
      "📁 Downloading: image - Cesar Morales.jpg → XXXXXRHODEISLAND206.jpg\n"
     ]
    },
    {
     "name": "stderr",
     "output_type": "stream",
     "text": [
      "Processing estimates:  47%|████▋     | 271/576 [10:39<11:15,  2.22s/it]"
     ]
    },
    {
     "name": "stdout",
     "output_type": "stream",
     "text": [
      "📁 Downloading: image - Pedro Pelico Guox.jpg → 21340.jpg\n"
     ]
    },
    {
     "name": "stderr",
     "output_type": "stream",
     "text": [
      "Processing estimates:  47%|████▋     | 272/576 [10:40<10:00,  1.98s/it]"
     ]
    },
    {
     "name": "stdout",
     "output_type": "stream",
     "text": [
      "📁 Downloading: IMG_3695 - MJM CONTRACTING INC.jpeg → 212882128721286.jpg\n"
     ]
    },
    {
     "name": "stderr",
     "output_type": "stream",
     "text": [
      "Processing estimates:  47%|████▋     | 273/576 [10:44<11:51,  2.35s/it]"
     ]
    },
    {
     "name": "stdout",
     "output_type": "stream",
     "text": [
      "📁 Downloading: image - Pedro Pelico Guox.jpg → 21341.jpg\n"
     ]
    },
    {
     "name": "stderr",
     "output_type": "stream",
     "text": [
      "Processing estimates:  48%|████▊     | 274/576 [10:45<10:30,  2.09s/it]"
     ]
    },
    {
     "name": "stdout",
     "output_type": "stream",
     "text": [
      "📁 Downloading: IMG_3723 - MJM CONTRACTING INC.jpeg → P12162024A.jpg\n"
     ]
    },
    {
     "name": "stderr",
     "output_type": "stream",
     "text": [
      "Processing estimates:  48%|████▊     | 275/576 [10:46<08:52,  1.77s/it]"
     ]
    },
    {
     "name": "stdout",
     "output_type": "stream",
     "text": [
      "📁 Downloading: IMG_3829 - MJM CONTRACTING INC.jpeg → 21166.jpg\n"
     ]
    },
    {
     "name": "stderr",
     "output_type": "stream",
     "text": [
      "Processing estimates:  48%|████▊     | 276/576 [10:47<07:34,  1.51s/it]"
     ]
    },
    {
     "name": "stdout",
     "output_type": "stream",
     "text": [
      "📁 Downloading: image - Pedro Pelico Guox.jpg → 21303.jpg\n"
     ]
    },
    {
     "name": "stderr",
     "output_type": "stream",
     "text": [
      "Processing estimates:  48%|████▊     | 277/576 [10:49<07:39,  1.54s/it]"
     ]
    },
    {
     "name": "stdout",
     "output_type": "stream",
     "text": [
      "📁 Downloading: 20241225_214145 - Marcos Lucas.jpg → 21750.jpg\n"
     ]
    },
    {
     "name": "stderr",
     "output_type": "stream",
     "text": [
      "Processing estimates:  48%|████▊     | 278/576 [10:50<08:00,  1.61s/it]"
     ]
    },
    {
     "name": "stdout",
     "output_type": "stream",
     "text": [
      "💾 Progress saved: 258 downloaded, 12 failed\n",
      "📁 Downloading: image - Perla Isaguirre.jpg → 21369.jpg\n"
     ]
    },
    {
     "name": "stderr",
     "output_type": "stream",
     "text": [
      "Processing estimates:  48%|████▊     | 279/576 [10:52<08:22,  1.69s/it]"
     ]
    },
    {
     "name": "stdout",
     "output_type": "stream",
     "text": [
      "📁 Downloading: image - Pedro Pelico Guox.jpg → 21928.jpg\n"
     ]
    },
    {
     "name": "stderr",
     "output_type": "stream",
     "text": [
      "Processing estimates:  49%|████▉     | 281/576 [10:54<06:26,  1.31s/it]"
     ]
    },
    {
     "name": "stdout",
     "output_type": "stream",
     "text": [
      "📁 Downloading: image - Josue Cruz.jpg → 21983.jpg\n"
     ]
    },
    {
     "name": "stderr",
     "output_type": "stream",
     "text": [
      "Processing estimates:  49%|████▉     | 282/576 [10:57<08:16,  1.69s/it]"
     ]
    },
    {
     "name": "stdout",
     "output_type": "stream",
     "text": [
      "📁 Downloading: image - Cesar Morales.jpg → 21556.jpg\n"
     ]
    },
    {
     "name": "stderr",
     "output_type": "stream",
     "text": [
      "Processing estimates:  49%|████▉     | 284/576 [10:58<05:52,  1.21s/it]"
     ]
    },
    {
     "name": "stdout",
     "output_type": "stream",
     "text": [
      "📁 Downloading: IMG_3939 - MJM CONTRACTING INC.jpeg → 22095.jpg\n"
     ]
    },
    {
     "name": "stderr",
     "output_type": "stream",
     "text": [
      "Processing estimates:  49%|████▉     | 285/576 [10:59<04:57,  1.02s/it]"
     ]
    },
    {
     "name": "stdout",
     "output_type": "stream",
     "text": [
      "⏭️  Skipping 22095.jpg (already downloaded)\n",
      "📁 Downloading: IMG_3584 - Perla Isaguirre.jpeg → P112132024B.jpg\n"
     ]
    },
    {
     "name": "stderr",
     "output_type": "stream",
     "text": [
      "Processing estimates:  50%|████▉     | 287/576 [11:00<04:15,  1.13it/s]"
     ]
    },
    {
     "name": "stdout",
     "output_type": "stream",
     "text": [
      "📁 Downloading: IMG_3582 - Perla Isaguirre.jpeg → 21501.jpg\n"
     ]
    },
    {
     "name": "stderr",
     "output_type": "stream",
     "text": [
      "Processing estimates:  50%|█████     | 288/576 [11:01<04:09,  1.16it/s]"
     ]
    },
    {
     "name": "stdout",
     "output_type": "stream",
     "text": [
      "📁 Downloading: image - Edgar Menendez.jpg → 21616.jpg\n"
     ]
    },
    {
     "name": "stderr",
     "output_type": "stream",
     "text": [
      "Processing estimates:  50%|█████     | 289/576 [11:02<04:21,  1.10it/s]"
     ]
    },
    {
     "name": "stdout",
     "output_type": "stream",
     "text": [
      "💾 Progress saved: 266 downloaded, 14 failed\n",
      "📁 Downloading: image - Edgar Menendez.jpg → 21650.jpg\n"
     ]
    },
    {
     "name": "stderr",
     "output_type": "stream",
     "text": [
      "Processing estimates:  50%|█████     | 290/576 [11:03<04:42,  1.01it/s]"
     ]
    },
    {
     "name": "stdout",
     "output_type": "stream",
     "text": [
      "📁 Downloading: image - Josue Cruz.jpg → 21926.jpg\n"
     ]
    },
    {
     "name": "stderr",
     "output_type": "stream",
     "text": [
      "Processing estimates:  51%|█████     | 291/576 [11:05<05:01,  1.06s/it]"
     ]
    },
    {
     "name": "stdout",
     "output_type": "stream",
     "text": [
      "📁 Downloading: image - Edgar Menendez.jpg → 21626.jpg\n"
     ]
    },
    {
     "name": "stderr",
     "output_type": "stream",
     "text": [
      "Processing estimates:  51%|█████     | 292/576 [11:10<10:53,  2.30s/it]"
     ]
    },
    {
     "name": "stdout",
     "output_type": "stream",
     "text": [
      "📁 Downloading: image - Edgar Menendez.jpg → 21524.jpg\n"
     ]
    },
    {
     "name": "stderr",
     "output_type": "stream",
     "text": [
      "Processing estimates:  51%|█████     | 293/576 [11:14<13:40,  2.90s/it]"
     ]
    },
    {
     "name": "stdout",
     "output_type": "stream",
     "text": [
      "📁 Downloading: IMG_3951 - MJM CONTRACTING INC.jpeg → 22211.jpg\n"
     ]
    },
    {
     "name": "stderr",
     "output_type": "stream",
     "text": [
      "Processing estimates:  51%|█████     | 294/576 [11:16<11:49,  2.51s/it]"
     ]
    },
    {
     "name": "stdout",
     "output_type": "stream",
     "text": [
      "📁 Downloading: 20241218_211958 - Marcos Lucas.jpg → 21567.jpg\n"
     ]
    },
    {
     "name": "stderr",
     "output_type": "stream",
     "text": [
      "Processing estimates:  51%|█████▏    | 296/576 [11:18<08:44,  1.87s/it]"
     ]
    },
    {
     "name": "stdout",
     "output_type": "stream",
     "text": [
      "📁 Downloading: image - Pedro Pelico Guox.jpg → P01162025B.jpg\n"
     ]
    },
    {
     "name": "stderr",
     "output_type": "stream",
     "text": [
      "Processing estimates:  52%|█████▏    | 297/576 [11:20<08:43,  1.88s/it]"
     ]
    },
    {
     "name": "stdout",
     "output_type": "stream",
     "text": [
      "📁 Downloading: image - Edgar Menendez.jpg → 21613.jpg\n"
     ]
    },
    {
     "name": "stderr",
     "output_type": "stream",
     "text": [
      "Processing estimates:  52%|█████▏    | 298/576 [11:21<07:38,  1.65s/it]"
     ]
    },
    {
     "name": "stdout",
     "output_type": "stream",
     "text": [
      "📁 Downloading: image - Edgar Menendez.jpg → 21673.jpg\n"
     ]
    },
    {
     "name": "stderr",
     "output_type": "stream",
     "text": [
      "Processing estimates:  52%|█████▏    | 299/576 [11:22<06:54,  1.50s/it]"
     ]
    },
    {
     "name": "stdout",
     "output_type": "stream",
     "text": [
      "💾 Progress saved: 275 downloaded, 15 failed\n",
      "📁 Downloading: image - Edgar Menendez.jpg → 21658.jpg\n"
     ]
    },
    {
     "name": "stderr",
     "output_type": "stream",
     "text": [
      "Processing estimates:  52%|█████▏    | 300/576 [11:24<07:12,  1.57s/it]"
     ]
    },
    {
     "name": "stdout",
     "output_type": "stream",
     "text": [
      "📁 Downloading: image - Frank Larin.jpg → 21710.jpg\n"
     ]
    },
    {
     "name": "stderr",
     "output_type": "stream",
     "text": [
      "Processing estimates:  52%|█████▏    | 301/576 [11:25<06:59,  1.53s/it]"
     ]
    },
    {
     "name": "stdout",
     "output_type": "stream",
     "text": [
      "⏭️  Skipping 22095.jpg (already downloaded)\n",
      "📁 Downloading: 20241222_183512 - Marcos Lucas.jpg → 21690.jpg\n"
     ]
    },
    {
     "name": "stderr",
     "output_type": "stream",
     "text": [
      "Processing estimates:  53%|█████▎    | 303/576 [11:27<05:23,  1.18s/it]"
     ]
    },
    {
     "name": "stdout",
     "output_type": "stream",
     "text": [
      "📁 Downloading: 20241222_185240 - Marcos Lucas.jpg → 21636.jpg\n"
     ]
    },
    {
     "name": "stderr",
     "output_type": "stream",
     "text": [
      "Processing estimates:  53%|█████▎    | 304/576 [11:28<05:37,  1.24s/it]"
     ]
    },
    {
     "name": "stdout",
     "output_type": "stream",
     "text": [
      "📁 Downloading: image - Frank Larin.jpg → 21982.jpg\n"
     ]
    },
    {
     "name": "stderr",
     "output_type": "stream",
     "text": [
      "Processing estimates:  53%|█████▎    | 305/576 [11:30<06:34,  1.46s/it]"
     ]
    },
    {
     "name": "stdout",
     "output_type": "stream",
     "text": [
      "📁 Downloading: image - Pedro Pelico Guox.jpg → 21703.jpg\n"
     ]
    },
    {
     "name": "stderr",
     "output_type": "stream",
     "text": [
      "Processing estimates:  53%|█████▎    | 306/576 [11:32<06:57,  1.55s/it]"
     ]
    },
    {
     "name": "stdout",
     "output_type": "stream",
     "text": [
      "📁 Downloading: IMG_3609 - Perla Isaguirre.jpeg → 21442.jpg\n"
     ]
    },
    {
     "name": "stderr",
     "output_type": "stream",
     "text": [
      "Processing estimates:  53%|█████▎    | 307/576 [11:33<06:09,  1.37s/it]"
     ]
    },
    {
     "name": "stdout",
     "output_type": "stream",
     "text": [
      "📁 Downloading: IMG_3610 - Perla Isaguirre.jpeg → 21439.jpg\n"
     ]
    },
    {
     "name": "stderr",
     "output_type": "stream",
     "text": [
      "Processing estimates:  53%|█████▎    | 308/576 [11:34<05:34,  1.25s/it]"
     ]
    },
    {
     "name": "stdout",
     "output_type": "stream",
     "text": [
      "📁 Downloading: image - Frank Larin.jpg → 22274.jpg\n"
     ]
    },
    {
     "name": "stderr",
     "output_type": "stream",
     "text": [
      "Processing estimates:  54%|█████▎    | 309/576 [11:36<06:34,  1.48s/it]"
     ]
    },
    {
     "name": "stdout",
     "output_type": "stream",
     "text": [
      "⏭️  Skipping 21166.jpg (already downloaded)\n",
      "📁 Downloading: image - Pedro Pelico Guox.jpg → 21617.jpg\n"
     ]
    },
    {
     "name": "stderr",
     "output_type": "stream",
     "text": [
      "Processing estimates:  54%|█████▍    | 311/576 [11:39<06:10,  1.40s/it]"
     ]
    },
    {
     "name": "stdout",
     "output_type": "stream",
     "text": [
      "💾 Progress saved: 285 downloaded, 15 failed\n",
      "📁 Downloading: image - Pedro Pelico Guox.jpg → 21618.jpg\n"
     ]
    },
    {
     "name": "stderr",
     "output_type": "stream",
     "text": [
      "Processing estimates:  54%|█████▍    | 312/576 [11:40<06:14,  1.42s/it]"
     ]
    },
    {
     "name": "stdout",
     "output_type": "stream",
     "text": [
      "📁 Downloading: image - Perla Isaguirre.jpg → 21627.jpg\n"
     ]
    },
    {
     "name": "stderr",
     "output_type": "stream",
     "text": [
      "Processing estimates:  54%|█████▍    | 313/576 [11:42<06:23,  1.46s/it]"
     ]
    },
    {
     "name": "stdout",
     "output_type": "stream",
     "text": [
      "📁 Downloading: image - Cesar Morales.jpg → 21648.jpg\n"
     ]
    },
    {
     "name": "stderr",
     "output_type": "stream",
     "text": [
      "Processing estimates:  55%|█████▍    | 314/576 [11:43<06:21,  1.46s/it]"
     ]
    },
    {
     "name": "stdout",
     "output_type": "stream",
     "text": [
      "📁 Downloading: image - Cesar Morales.jpg → 21692.jpg\n"
     ]
    },
    {
     "name": "stderr",
     "output_type": "stream",
     "text": [
      "Processing estimates:  55%|█████▍    | 315/576 [11:49<11:51,  2.73s/it]"
     ]
    },
    {
     "name": "stdout",
     "output_type": "stream",
     "text": [
      "📁 Downloading: image - Cesar Morales.jpg → 21612.jpg\n"
     ]
    },
    {
     "name": "stderr",
     "output_type": "stream",
     "text": [
      "Processing estimates:  55%|█████▍    | 316/576 [11:55<15:38,  3.61s/it]"
     ]
    },
    {
     "name": "stdout",
     "output_type": "stream",
     "text": [
      "📁 Downloading: image - Cesar Morales.jpg → 21728.jpg\n"
     ]
    },
    {
     "name": "stderr",
     "output_type": "stream",
     "text": [
      "Processing estimates:  55%|█████▌    | 317/576 [11:57<13:02,  3.02s/it]"
     ]
    },
    {
     "name": "stdout",
     "output_type": "stream",
     "text": [
      "📁 Downloading: image - Edgar Menendez.jpg → 21698.jpg\n"
     ]
    },
    {
     "name": "stderr",
     "output_type": "stream",
     "text": [
      "Processing estimates:  55%|█████▌    | 318/576 [11:58<10:38,  2.47s/it]"
     ]
    },
    {
     "name": "stdout",
     "output_type": "stream",
     "text": [
      "📁 Downloading: image - Edgar Menendez.jpg → 21695.jpg\n"
     ]
    },
    {
     "name": "stderr",
     "output_type": "stream",
     "text": [
      "Processing estimates:  55%|█████▌    | 319/576 [11:59<08:39,  2.02s/it]"
     ]
    },
    {
     "name": "stdout",
     "output_type": "stream",
     "text": [
      "📁 Downloading: image - Edgar Menendez.jpg → 21714.jpg\n"
     ]
    },
    {
     "name": "stderr",
     "output_type": "stream",
     "text": [
      "Processing estimates:  56%|█████▌    | 320/576 [12:00<07:33,  1.77s/it]"
     ]
    },
    {
     "name": "stdout",
     "output_type": "stream",
     "text": [
      "📁 Downloading: 20241225_212928 - Marcos Lucas.jpg → 21756.jpg\n"
     ]
    },
    {
     "name": "stderr",
     "output_type": "stream",
     "text": [
      "Processing estimates:  56%|█████▌    | 321/576 [12:02<08:19,  1.96s/it]"
     ]
    },
    {
     "name": "stdout",
     "output_type": "stream",
     "text": [
      "💾 Progress saved: 295 downloaded, 15 failed\n",
      "📁 Downloading: 20241225_215726 - Marcos Lucas.jpg → 21730.jpg\n"
     ]
    },
    {
     "name": "stderr",
     "output_type": "stream",
     "text": [
      "Processing estimates:  56%|█████▌    | 322/576 [12:05<08:42,  2.06s/it]"
     ]
    },
    {
     "name": "stdout",
     "output_type": "stream",
     "text": [
      "📁 Downloading: image - Frank Larin.jpg → 21721.jpg\n"
     ]
    },
    {
     "name": "stderr",
     "output_type": "stream",
     "text": [
      "Processing estimates:  56%|█████▌    | 323/576 [12:06<07:50,  1.86s/it]"
     ]
    },
    {
     "name": "stdout",
     "output_type": "stream",
     "text": [
      "📁 Downloading: image - Cesar Morales.jpg → 22746.jpg\n"
     ]
    },
    {
     "name": "stderr",
     "output_type": "stream",
     "text": [
      "Processing estimates:  56%|█████▋    | 324/576 [12:08<08:33,  2.04s/it]"
     ]
    },
    {
     "name": "stdout",
     "output_type": "stream",
     "text": [
      "📁 Downloading: image - Pedro Pelico Guox.jpg → 21729.jpg\n"
     ]
    },
    {
     "name": "stderr",
     "output_type": "stream",
     "text": [
      "Processing estimates:  56%|█████▋    | 325/576 [12:12<10:13,  2.44s/it]"
     ]
    },
    {
     "name": "stdout",
     "output_type": "stream",
     "text": [
      "📁 Downloading: image - Pedro Pelico Guox.jpg → 21723.jpg\n"
     ]
    },
    {
     "name": "stderr",
     "output_type": "stream",
     "text": [
      "Processing estimates:  57%|█████▋    | 326/576 [12:18<15:07,  3.63s/it]"
     ]
    },
    {
     "name": "stdout",
     "output_type": "stream",
     "text": [
      "📁 Downloading: image - Perla Isaguirre.jpg → 21494.jpg\n"
     ]
    },
    {
     "name": "stderr",
     "output_type": "stream",
     "text": [
      "Processing estimates:  57%|█████▋    | 327/576 [12:23<16:41,  4.02s/it]"
     ]
    },
    {
     "name": "stdout",
     "output_type": "stream",
     "text": [
      "📁 Downloading: image - Pedro Pelico Guox.jpg → P12112024B.jpg\n"
     ]
    },
    {
     "name": "stderr",
     "output_type": "stream",
     "text": [
      "Processing estimates:  57%|█████▋    | 328/576 [12:25<13:23,  3.24s/it]"
     ]
    },
    {
     "name": "stdout",
     "output_type": "stream",
     "text": [
      "📁 Downloading: image - Frank Larin.jpg → 22014.jpg\n"
     ]
    },
    {
     "name": "stderr",
     "output_type": "stream",
     "text": [
      "Processing estimates:  57%|█████▋    | 329/576 [12:26<10:50,  2.63s/it]"
     ]
    },
    {
     "name": "stdout",
     "output_type": "stream",
     "text": [
      "📁 Downloading: image - Edgar Menendez.jpg → 21722.jpg\n"
     ]
    },
    {
     "name": "stderr",
     "output_type": "stream",
     "text": [
      "Processing estimates:  57%|█████▋    | 330/576 [12:27<08:37,  2.11s/it]"
     ]
    },
    {
     "name": "stdout",
     "output_type": "stream",
     "text": [
      "📁 Downloading: IMG_3725 - MJM CONTRACTING INC.jpeg → 21842.jpg\n"
     ]
    },
    {
     "name": "stderr",
     "output_type": "stream",
     "text": [
      "Processing estimates:  57%|█████▋    | 331/576 [12:27<06:54,  1.69s/it]"
     ]
    },
    {
     "name": "stdout",
     "output_type": "stream",
     "text": [
      "💾 Progress saved: 305 downloaded, 15 failed\n",
      "📁 Downloading: IMG_3827 - MJM CONTRACTING INC.jpeg → 20392.jpg\n"
     ]
    },
    {
     "name": "stderr",
     "output_type": "stream",
     "text": [
      "Processing estimates:  58%|█████▊    | 332/576 [12:29<06:51,  1.69s/it]"
     ]
    },
    {
     "name": "stdout",
     "output_type": "stream",
     "text": [
      "📁 Downloading: image - Perla Isaguirre.jpg → 21483.jpg\n"
     ]
    },
    {
     "name": "stderr",
     "output_type": "stream",
     "text": [
      "Processing estimates:  58%|█████▊    | 333/576 [12:30<06:02,  1.49s/it]"
     ]
    },
    {
     "name": "stdout",
     "output_type": "stream",
     "text": [
      "📁 Downloading: image - Josue Cruz.jpg → 22254.jpg\n"
     ]
    },
    {
     "name": "stderr",
     "output_type": "stream",
     "text": [
      "Processing estimates:  58%|█████▊    | 334/576 [12:36<11:09,  2.77s/it]"
     ]
    },
    {
     "name": "stdout",
     "output_type": "stream",
     "text": [
      "📁 Downloading: IMG_3633 - MJM CONTRACTING INC.jpeg → 21438.jpg\n"
     ]
    },
    {
     "name": "stderr",
     "output_type": "stream",
     "text": [
      "Processing estimates:  58%|█████▊    | 335/576 [12:41<13:44,  3.42s/it]"
     ]
    },
    {
     "name": "stdout",
     "output_type": "stream",
     "text": [
      "📁 Downloading: IMG_3608 - Perla Isaguirre.jpeg → 21075.jpg\n"
     ]
    },
    {
     "name": "stderr",
     "output_type": "stream",
     "text": [
      "Processing estimates:  58%|█████▊    | 336/576 [12:42<11:29,  2.87s/it]"
     ]
    },
    {
     "name": "stdout",
     "output_type": "stream",
     "text": [
      "📁 Downloading: IMG_3636 - MJM CONTRACTING INC.jpeg → 21744.jpg\n"
     ]
    },
    {
     "name": "stderr",
     "output_type": "stream",
     "text": [
      "Processing estimates:  59%|█████▊    | 337/576 [12:43<09:08,  2.30s/it]"
     ]
    },
    {
     "name": "stdout",
     "output_type": "stream",
     "text": [
      "📁 Downloading: IMG_3639 - MJM CONTRACTING INC.jpeg → 21691.jpg\n"
     ]
    },
    {
     "name": "stderr",
     "output_type": "stream",
     "text": [
      "Processing estimates:  59%|█████▊    | 338/576 [12:44<07:06,  1.79s/it]"
     ]
    },
    {
     "name": "stdout",
     "output_type": "stream",
     "text": [
      "📁 Downloading: IMG_3640 - MJM CONTRACTING INC.jpeg → 21653.jpg\n"
     ]
    },
    {
     "name": "stderr",
     "output_type": "stream",
     "text": [
      "Processing estimates:  59%|█████▉    | 339/576 [12:45<05:47,  1.47s/it]"
     ]
    },
    {
     "name": "stdout",
     "output_type": "stream",
     "text": [
      "📁 Downloading: IMG_3611 - Perla Isaguirre.jpeg → 21375.jpg\n"
     ]
    },
    {
     "name": "stderr",
     "output_type": "stream",
     "text": [
      "Processing estimates:  59%|█████▉    | 340/576 [12:46<05:58,  1.52s/it]"
     ]
    },
    {
     "name": "stdout",
     "output_type": "stream",
     "text": [
      "📁 Downloading: image - Frank Larin.jpg → 22089.jpg\n"
     ]
    },
    {
     "name": "stderr",
     "output_type": "stream",
     "text": [
      "Processing estimates:  59%|█████▉    | 341/576 [12:48<05:46,  1.48s/it]"
     ]
    },
    {
     "name": "stdout",
     "output_type": "stream",
     "text": [
      "💾 Progress saved: 315 downloaded, 15 failed\n",
      "📁 Downloading: IMG_3643 - MJM CONTRACTING INC.jpeg → 20874.jpg\n"
     ]
    },
    {
     "name": "stderr",
     "output_type": "stream",
     "text": [
      "Processing estimates:  59%|█████▉    | 342/576 [12:49<05:06,  1.31s/it]"
     ]
    },
    {
     "name": "stdout",
     "output_type": "stream",
     "text": [
      "📁 Downloading: IMG_3644 - MJM CONTRACTING INC.jpeg → 21712.jpg\n"
     ]
    },
    {
     "name": "stderr",
     "output_type": "stream",
     "text": [
      "Processing estimates:  60%|█████▉    | 343/576 [12:49<04:19,  1.11s/it]"
     ]
    },
    {
     "name": "stdout",
     "output_type": "stream",
     "text": [
      "📁 Downloading: image - Frank Larin.jpg → 21807.jpg\n"
     ]
    },
    {
     "name": "stderr",
     "output_type": "stream",
     "text": [
      "Processing estimates:  60%|█████▉    | 344/576 [12:50<04:24,  1.14s/it]"
     ]
    },
    {
     "name": "stdout",
     "output_type": "stream",
     "text": [
      "📁 Downloading: image - Frank Larin.jpg → 21833.jpg\n"
     ]
    },
    {
     "name": "stderr",
     "output_type": "stream",
     "text": [
      "Processing estimates:  60%|█████▉    | 345/576 [12:52<05:13,  1.36s/it]"
     ]
    },
    {
     "name": "stdout",
     "output_type": "stream",
     "text": [
      "📁 Downloading: image - Edgar Menendez.jpg → 21485.jpg\n"
     ]
    },
    {
     "name": "stderr",
     "output_type": "stream",
     "text": [
      "Processing estimates:  60%|██████    | 346/576 [12:53<04:48,  1.25s/it]"
     ]
    },
    {
     "name": "stdout",
     "output_type": "stream",
     "text": [
      "📁 Downloading: image - Edgar Menendez.jpg → 22066.jpg\n"
     ]
    },
    {
     "name": "stderr",
     "output_type": "stream",
     "text": [
      "Processing estimates:  60%|██████    | 347/576 [12:56<05:55,  1.55s/it]"
     ]
    },
    {
     "name": "stdout",
     "output_type": "stream",
     "text": [
      "📁 Downloading: image - Josue Cruz.jpg → 22087.jpg\n"
     ]
    },
    {
     "name": "stderr",
     "output_type": "stream",
     "text": [
      "Processing estimates:  60%|██████    | 348/576 [12:57<05:43,  1.51s/it]"
     ]
    },
    {
     "name": "stdout",
     "output_type": "stream",
     "text": [
      "📁 Downloading: image - Josue Cruz.jpg → 22088.jpg\n"
     ]
    },
    {
     "name": "stderr",
     "output_type": "stream",
     "text": [
      "Processing estimates:  61%|██████    | 349/576 [12:58<05:39,  1.50s/it]"
     ]
    },
    {
     "name": "stdout",
     "output_type": "stream",
     "text": [
      "📁 Downloading: 20241231_204832 - Marcos Lucas.jpg → 21846.jpg\n"
     ]
    },
    {
     "name": "stderr",
     "output_type": "stream",
     "text": [
      "Processing estimates:  61%|██████    | 350/576 [13:04<10:06,  2.68s/it]"
     ]
    },
    {
     "name": "stdout",
     "output_type": "stream",
     "text": [
      "📁 Downloading: 20241231_210135 - Marcos Lucas.jpg → 21858.jpg\n"
     ]
    },
    {
     "name": "stderr",
     "output_type": "stream",
     "text": [
      "Processing estimates:  61%|██████    | 351/576 [13:14<18:32,  4.95s/it]"
     ]
    },
    {
     "name": "stdout",
     "output_type": "stream",
     "text": [
      "💾 Progress saved: 325 downloaded, 15 failed\n",
      "📁 Downloading: image - Edgar Menendez.jpg → 21844.jpg\n"
     ]
    },
    {
     "name": "stderr",
     "output_type": "stream",
     "text": [
      "Processing estimates:  61%|██████    | 352/576 [13:16<14:32,  3.90s/it]"
     ]
    },
    {
     "name": "stdout",
     "output_type": "stream",
     "text": [
      "📁 Downloading: image - Cesar Morales.jpg → 21720.jpg\n"
     ]
    },
    {
     "name": "stderr",
     "output_type": "stream",
     "text": [
      "Processing estimates:  61%|██████▏   | 353/576 [13:17<12:15,  3.30s/it]"
     ]
    },
    {
     "name": "stdout",
     "output_type": "stream",
     "text": [
      "📁 Downloading: image - Pedro Pelico Guox.jpg → 22165.jpg\n"
     ]
    },
    {
     "name": "stderr",
     "output_type": "stream",
     "text": [
      "Processing estimates:  61%|██████▏   | 354/576 [13:20<11:15,  3.04s/it]"
     ]
    },
    {
     "name": "stdout",
     "output_type": "stream",
     "text": [
      "📁 Downloading: IMG_3679 - MJM CONTRACTING INC.jpeg → 21429.jpg\n"
     ]
    },
    {
     "name": "stderr",
     "output_type": "stream",
     "text": [
      "Processing estimates:  62%|██████▏   | 355/576 [13:21<08:41,  2.36s/it]"
     ]
    },
    {
     "name": "stdout",
     "output_type": "stream",
     "text": [
      "📁 Downloading: IMG_3680 - MJM CONTRACTING INC.jpeg → 20749.jpg\n"
     ]
    },
    {
     "name": "stderr",
     "output_type": "stream",
     "text": [
      "Processing estimates:  62%|██████▏   | 356/576 [13:22<08:00,  2.19s/it]"
     ]
    },
    {
     "name": "stdout",
     "output_type": "stream",
     "text": [
      "📁 Downloading: IMG_3681 - MJM CONTRACTING INC.jpeg → 21121.jpg\n"
     ]
    },
    {
     "name": "stderr",
     "output_type": "stream",
     "text": [
      "Processing estimates:  62%|██████▏   | 357/576 [13:23<06:25,  1.76s/it]"
     ]
    },
    {
     "name": "stdout",
     "output_type": "stream",
     "text": [
      "📁 Downloading: 20250102_170916 - Marcos Lucas.jpg → 21837.jpg\n"
     ]
    },
    {
     "name": "stderr",
     "output_type": "stream",
     "text": [
      "Processing estimates:  62%|██████▏   | 358/576 [13:31<12:59,  3.58s/it]"
     ]
    },
    {
     "name": "stdout",
     "output_type": "stream",
     "text": [
      "📁 Downloading: IMG_3683 - MJM CONTRACTING INC.jpeg → 21335.jpg\n"
     ]
    },
    {
     "name": "stderr",
     "output_type": "stream",
     "text": [
      "Processing estimates:  62%|██████▏   | 359/576 [13:32<09:53,  2.73s/it]"
     ]
    },
    {
     "name": "stdout",
     "output_type": "stream",
     "text": [
      "📁 Downloading: IMG_3686 - MJM CONTRACTING INC.jpeg → 21590.jpg\n"
     ]
    },
    {
     "name": "stderr",
     "output_type": "stream",
     "text": [
      "Processing estimates:  62%|██████▎   | 360/576 [13:34<09:27,  2.63s/it]"
     ]
    },
    {
     "name": "stdout",
     "output_type": "stream",
     "text": [
      "📁 Downloading: IMG_3688 - MJM CONTRACTING INC.jpeg → 21592.jpg\n"
     ]
    },
    {
     "name": "stderr",
     "output_type": "stream",
     "text": [
      "Processing estimates:  63%|██████▎   | 361/576 [13:37<10:03,  2.81s/it]"
     ]
    },
    {
     "name": "stdout",
     "output_type": "stream",
     "text": [
      "💾 Progress saved: 335 downloaded, 15 failed\n",
      "📁 Downloading: IMG_3689 - MJM CONTRACTING INC.jpeg → 21476.jpg\n"
     ]
    },
    {
     "name": "stderr",
     "output_type": "stream",
     "text": [
      "Processing estimates:  63%|██████▎   | 362/576 [13:39<08:24,  2.36s/it]"
     ]
    },
    {
     "name": "stdout",
     "output_type": "stream",
     "text": [
      "📁 Downloading: Invoice_1297_from_Z_IT_SOLUTIONS_LLC.pdf → 20136.jpg\n"
     ]
    },
    {
     "name": "stderr",
     "output_type": "stream",
     "text": [
      "Processing estimates:  63%|██████▎   | 363/576 [13:40<07:10,  2.02s/it]"
     ]
    },
    {
     "name": "stdout",
     "output_type": "stream",
     "text": [
      "📁 Downloading: IMG_3685 - MJM CONTRACTING INC.jpeg → 21511.jpg\n"
     ]
    },
    {
     "name": "stderr",
     "output_type": "stream",
     "text": [
      "Processing estimates:  63%|██████▎   | 364/576 [13:44<09:36,  2.72s/it]"
     ]
    },
    {
     "name": "stdout",
     "output_type": "stream",
     "text": [
      "📁 Downloading: IMG_3694 - MJM CONTRACTING INC.jpeg → 20921.jpg\n"
     ]
    },
    {
     "name": "stderr",
     "output_type": "stream",
     "text": [
      "Processing estimates:  63%|██████▎   | 365/576 [13:47<09:15,  2.63s/it]"
     ]
    },
    {
     "name": "stdout",
     "output_type": "stream",
     "text": [
      "📁 Downloading: IMG_3687 - MJM CONTRACTING INC.jpeg → 21740.jpg\n"
     ]
    },
    {
     "name": "stderr",
     "output_type": "stream",
     "text": [
      "Processing estimates:  64%|██████▎   | 366/576 [13:48<07:33,  2.16s/it]"
     ]
    },
    {
     "name": "stdout",
     "output_type": "stream",
     "text": [
      "📁 Downloading: image - Frank Larin.jpg → 22167.jpg\n"
     ]
    },
    {
     "name": "stderr",
     "output_type": "stream",
     "text": [
      "Processing estimates:  64%|██████▎   | 367/576 [13:51<08:59,  2.58s/it]"
     ]
    },
    {
     "name": "stdout",
     "output_type": "stream",
     "text": [
      "📁 Downloading: image - Frank Larin.jpg → 22170.jpg\n"
     ]
    },
    {
     "name": "stderr",
     "output_type": "stream",
     "text": [
      "Processing estimates:  64%|██████▍   | 368/576 [13:55<09:36,  2.77s/it]"
     ]
    },
    {
     "name": "stdout",
     "output_type": "stream",
     "text": [
      "📁 Downloading: IMG_3690 - MJM CONTRACTING INC.jpeg → 21113.jpg\n"
     ]
    },
    {
     "name": "stderr",
     "output_type": "stream",
     "text": [
      "Processing estimates:  64%|██████▍   | 369/576 [13:55<07:31,  2.18s/it]"
     ]
    },
    {
     "name": "stdout",
     "output_type": "stream",
     "text": [
      "📁 Downloading: IMG_3691 - MJM CONTRACTING INC.jpeg → 21289.jpg\n"
     ]
    },
    {
     "name": "stderr",
     "output_type": "stream",
     "text": [
      "Processing estimates:  64%|██████▍   | 370/576 [13:56<06:06,  1.78s/it]"
     ]
    },
    {
     "name": "stdout",
     "output_type": "stream",
     "text": [
      "📁 Downloading: IMG_3692 - MJM CONTRACTING INC.jpeg → 20826.jpg\n"
     ]
    },
    {
     "name": "stderr",
     "output_type": "stream",
     "text": [
      "Processing estimates:  64%|██████▍   | 371/576 [13:57<05:10,  1.52s/it]"
     ]
    },
    {
     "name": "stdout",
     "output_type": "stream",
     "text": [
      "💾 Progress saved: 345 downloaded, 15 failed\n",
      "📁 Downloading: IMG_3693 - MJM CONTRACTING INC.jpeg → 21550.jpg\n"
     ]
    },
    {
     "name": "stderr",
     "output_type": "stream",
     "text": [
      "Processing estimates:  65%|██████▍   | 372/576 [13:58<04:56,  1.45s/it]"
     ]
    },
    {
     "name": "stdout",
     "output_type": "stream",
     "text": [
      "📁 Downloading: IMG_3702 - MJM CONTRACTING INC.jpeg → 21595.jpg\n"
     ]
    },
    {
     "name": "stderr",
     "output_type": "stream",
     "text": [
      "Processing estimates:  65%|██████▍   | 373/576 [14:00<04:33,  1.35s/it]"
     ]
    },
    {
     "name": "stdout",
     "output_type": "stream",
     "text": [
      "📁 Downloading: IMG_3703 - MJM CONTRACTING INC.jpeg → 21614.jpg\n"
     ]
    },
    {
     "name": "stderr",
     "output_type": "stream",
     "text": [
      "Processing estimates:  65%|██████▍   | 374/576 [14:02<05:10,  1.54s/it]"
     ]
    },
    {
     "name": "stdout",
     "output_type": "stream",
     "text": [
      "📁 Downloading: IMG_3696 - MJM CONTRACTING INC.jpeg → 21666.jpg\n"
     ]
    },
    {
     "name": "stderr",
     "output_type": "stream",
     "text": [
      "Processing estimates:  65%|██████▌   | 375/576 [14:02<04:12,  1.26s/it]"
     ]
    },
    {
     "name": "stdout",
     "output_type": "stream",
     "text": [
      "📁 Downloading: IMG_3697 - MJM CONTRACTING INC.jpeg → 21597.jpg\n"
     ]
    },
    {
     "name": "stderr",
     "output_type": "stream",
     "text": [
      "Processing estimates:  65%|██████▌   | 376/576 [14:03<03:44,  1.12s/it]"
     ]
    },
    {
     "name": "stdout",
     "output_type": "stream",
     "text": [
      "📁 Downloading: image - Frank Larin.jpg → 22275.jpg\n"
     ]
    },
    {
     "name": "stderr",
     "output_type": "stream",
     "text": [
      "Processing estimates:  65%|██████▌   | 377/576 [14:04<03:55,  1.18s/it]"
     ]
    },
    {
     "name": "stdout",
     "output_type": "stream",
     "text": [
      "📁 Downloading: IMG_3699 - MJM CONTRACTING INC.jpeg → 20138.jpg\n"
     ]
    },
    {
     "name": "stderr",
     "output_type": "stream",
     "text": [
      "Processing estimates:  66%|██████▌   | 378/576 [14:05<03:19,  1.01s/it]"
     ]
    },
    {
     "name": "stdout",
     "output_type": "stream",
     "text": [
      "📁 Downloading: IMG_3700 - MJM CONTRACTING INC.jpeg → 21855.jpg\n"
     ]
    },
    {
     "name": "stderr",
     "output_type": "stream",
     "text": [
      "Processing estimates:  66%|██████▌   | 379/576 [14:06<03:14,  1.01it/s]"
     ]
    },
    {
     "name": "stdout",
     "output_type": "stream",
     "text": [
      "📁 Downloading: IMG_3701 - MJM CONTRACTING INC.jpeg → 21682.jpg\n"
     ]
    },
    {
     "name": "stderr",
     "output_type": "stream",
     "text": [
      "Processing estimates:  66%|██████▌   | 380/576 [14:06<02:46,  1.18it/s]"
     ]
    },
    {
     "name": "stdout",
     "output_type": "stream",
     "text": [
      "📁 Downloading: IMG_3705 - MJM CONTRACTING INC.jpeg → 21743.jpg\n"
     ]
    },
    {
     "name": "stderr",
     "output_type": "stream",
     "text": [
      "Processing estimates:  66%|██████▌   | 381/576 [14:07<02:42,  1.20it/s]"
     ]
    },
    {
     "name": "stdout",
     "output_type": "stream",
     "text": [
      "💾 Progress saved: 355 downloaded, 15 failed\n",
      "📁 Downloading: image - Edgar Menendez.jpg → 21902.jpg\n"
     ]
    },
    {
     "name": "stderr",
     "output_type": "stream",
     "text": [
      "Processing estimates:  66%|██████▋   | 382/576 [14:08<02:34,  1.25it/s]"
     ]
    },
    {
     "name": "stdout",
     "output_type": "stream",
     "text": [
      "📁 Downloading: image - Edgar Menendez.jpg → 21893.jpg\n"
     ]
    },
    {
     "name": "stderr",
     "output_type": "stream",
     "text": [
      "Processing estimates:  66%|██████▋   | 383/576 [14:09<02:29,  1.29it/s]"
     ]
    },
    {
     "name": "stdout",
     "output_type": "stream",
     "text": [
      "📁 Downloading: image - Edgar Menendez.jpg → 21700.jpg\n"
     ]
    },
    {
     "name": "stderr",
     "output_type": "stream",
     "text": [
      "Processing estimates:  67%|██████▋   | 384/576 [14:10<02:40,  1.20it/s]"
     ]
    },
    {
     "name": "stdout",
     "output_type": "stream",
     "text": [
      "📁 Downloading: image - Frank Larin.jpg → 21838.jpg\n"
     ]
    },
    {
     "name": "stderr",
     "output_type": "stream",
     "text": [
      "Processing estimates:  67%|██████▋   | 385/576 [14:11<02:50,  1.12it/s]"
     ]
    },
    {
     "name": "stdout",
     "output_type": "stream",
     "text": [
      "📁 Downloading: image - Edgar Menendez.jpg → 21890.jpg\n"
     ]
    },
    {
     "name": "stderr",
     "output_type": "stream",
     "text": [
      "Processing estimates:  67%|██████▋   | 386/576 [14:11<02:49,  1.12it/s]"
     ]
    },
    {
     "name": "stdout",
     "output_type": "stream",
     "text": [
      "📁 Downloading: image - Edgar Menendez.jpg → 21900.jpg\n"
     ]
    },
    {
     "name": "stderr",
     "output_type": "stream",
     "text": [
      "Processing estimates:  67%|██████▋   | 387/576 [14:12<02:45,  1.14it/s]"
     ]
    },
    {
     "name": "stdout",
     "output_type": "stream",
     "text": [
      "📁 Downloading: 20250106_120140 - Marcos Lucas.jpg → 21923.jpg\n"
     ]
    },
    {
     "name": "stderr",
     "output_type": "stream",
     "text": [
      "Processing estimates:  67%|██████▋   | 388/576 [14:14<03:47,  1.21s/it]"
     ]
    },
    {
     "name": "stdout",
     "output_type": "stream",
     "text": [
      "📁 Downloading: image - Frank Larin.jpg → 21903.jpg\n"
     ]
    },
    {
     "name": "stderr",
     "output_type": "stream",
     "text": [
      "Processing estimates:  68%|██████▊   | 389/576 [14:15<03:39,  1.17s/it]"
     ]
    },
    {
     "name": "stdout",
     "output_type": "stream",
     "text": [
      "📁 Downloading: 20250105_184606 - Marcos Lucas.jpg → 21895.jpg\n"
     ]
    },
    {
     "name": "stderr",
     "output_type": "stream",
     "text": [
      "Processing estimates:  68%|██████▊   | 390/576 [14:17<03:54,  1.26s/it]"
     ]
    },
    {
     "name": "stdout",
     "output_type": "stream",
     "text": [
      "📁 Downloading: image - Edgar Menendez.jpg → 21904.jpg\n"
     ]
    },
    {
     "name": "stderr",
     "output_type": "stream",
     "text": [
      "Processing estimates:  68%|██████▊   | 391/576 [14:18<03:43,  1.21s/it]"
     ]
    },
    {
     "name": "stdout",
     "output_type": "stream",
     "text": [
      "💾 Progress saved: 365 downloaded, 15 failed\n",
      "📁 Downloading: image - Frank Larin.jpg → 22150.jpg\n"
     ]
    },
    {
     "name": "stderr",
     "output_type": "stream",
     "text": [
      "Processing estimates:  68%|██████▊   | 392/576 [14:19<03:39,  1.19s/it]"
     ]
    },
    {
     "name": "stdout",
     "output_type": "stream",
     "text": [
      "📁 Downloading: image - Frank Larin.jpg → 22163.jpg\n"
     ]
    },
    {
     "name": "stderr",
     "output_type": "stream",
     "text": [
      "Processing estimates:  68%|██████▊   | 393/576 [14:21<03:51,  1.27s/it]"
     ]
    },
    {
     "name": "stdout",
     "output_type": "stream",
     "text": [
      "📁 Downloading: image - Frank Larin.jpg → 22234.jpg\n"
     ]
    },
    {
     "name": "stderr",
     "output_type": "stream",
     "text": [
      "Processing estimates:  68%|██████▊   | 394/576 [14:22<03:59,  1.32s/it]"
     ]
    },
    {
     "name": "stdout",
     "output_type": "stream",
     "text": [
      "📁 Downloading: image - Frank Larin.jpg → 22235.jpg\n"
     ]
    },
    {
     "name": "stderr",
     "output_type": "stream",
     "text": [
      "Processing estimates:  69%|██████▊   | 395/576 [14:23<04:05,  1.35s/it]"
     ]
    },
    {
     "name": "stdout",
     "output_type": "stream",
     "text": [
      "📁 Downloading: image - Cesar Morales.jpg → 21901.jpg\n"
     ]
    },
    {
     "name": "stderr",
     "output_type": "stream",
     "text": [
      "Processing estimates:  69%|██████▉   | 396/576 [14:25<03:55,  1.31s/it]"
     ]
    },
    {
     "name": "stdout",
     "output_type": "stream",
     "text": [
      "📁 Downloading: image - Cesar Morales.jpg → 20611.jpg\n"
     ]
    },
    {
     "name": "stderr",
     "output_type": "stream",
     "text": [
      "Processing estimates:  69%|██████▉   | 397/576 [14:28<05:55,  1.99s/it]"
     ]
    },
    {
     "name": "stdout",
     "output_type": "stream",
     "text": [
      "📁 Downloading: image - Cesar Morales.jpg → 21886.jpg\n"
     ]
    },
    {
     "name": "stderr",
     "output_type": "stream",
     "text": [
      "Processing estimates:  69%|██████▉   | 398/576 [14:33<08:22,  2.82s/it]"
     ]
    },
    {
     "name": "stdout",
     "output_type": "stream",
     "text": [
      "📁 Downloading: image - Cesar Morales.jpg → 21836.jpg\n"
     ]
    },
    {
     "name": "stderr",
     "output_type": "stream",
     "text": [
      "Processing estimates:  69%|██████▉   | 399/576 [14:37<09:51,  3.34s/it]"
     ]
    },
    {
     "name": "stdout",
     "output_type": "stream",
     "text": [
      "📁 Downloading: 20250107_164348 - Marcos Lucas.jpg → 21822.jpg\n"
     ]
    },
    {
     "name": "stderr",
     "output_type": "stream",
     "text": [
      "Processing estimates:  69%|██████▉   | 400/576 [14:40<08:51,  3.02s/it]"
     ]
    },
    {
     "name": "stdout",
     "output_type": "stream",
     "text": [
      "📁 Downloading: image - Frank Larin.jpg → 21947.jpg\n"
     ]
    },
    {
     "name": "stderr",
     "output_type": "stream",
     "text": [
      "Processing estimates:  70%|██████▉   | 401/576 [14:41<07:28,  2.56s/it]"
     ]
    },
    {
     "name": "stdout",
     "output_type": "stream",
     "text": [
      "💾 Progress saved: 375 downloaded, 15 failed\n",
      "📁 Downloading: image - Cesar Morales.jpg → 21936.jpg\n"
     ]
    },
    {
     "name": "stderr",
     "output_type": "stream",
     "text": [
      "Processing estimates:  70%|██████▉   | 402/576 [14:42<06:09,  2.12s/it]"
     ]
    },
    {
     "name": "stdout",
     "output_type": "stream",
     "text": [
      "📁 Downloading: image - Cesar Morales.jpg → 21920.jpg\n"
     ]
    },
    {
     "name": "stderr",
     "output_type": "stream",
     "text": [
      "Processing estimates:  70%|██████▉   | 403/576 [14:45<06:30,  2.26s/it]"
     ]
    },
    {
     "name": "stdout",
     "output_type": "stream",
     "text": [
      "📁 Downloading: image - Pedro Pelico Guox.jpg → 21380.jpg\n"
     ]
    },
    {
     "name": "stderr",
     "output_type": "stream",
     "text": [
      "Processing estimates:  70%|███████   | 404/576 [14:47<05:54,  2.06s/it]"
     ]
    },
    {
     "name": "stdout",
     "output_type": "stream",
     "text": [
      "📁 Downloading: image - Pedro Pelico Guox.jpg → 21839.jpg\n"
     ]
    },
    {
     "name": "stderr",
     "output_type": "stream",
     "text": [
      "Processing estimates:  70%|███████   | 405/576 [14:48<05:24,  1.90s/it]"
     ]
    },
    {
     "name": "stdout",
     "output_type": "stream",
     "text": [
      "📁 Downloading: image - Pedro Pelico Guox.jpg → 21823.jpg\n"
     ]
    },
    {
     "name": "stderr",
     "output_type": "stream",
     "text": [
      "Processing estimates:  70%|███████   | 406/576 [14:50<05:29,  1.94s/it]"
     ]
    },
    {
     "name": "stdout",
     "output_type": "stream",
     "text": [
      "📁 Downloading: image - Pedro Pelico Guox.jpg → 21815.jpg\n"
     ]
    },
    {
     "name": "stderr",
     "output_type": "stream",
     "text": [
      "Processing estimates:  71%|███████   | 407/576 [14:51<04:58,  1.77s/it]"
     ]
    },
    {
     "name": "stdout",
     "output_type": "stream",
     "text": [
      "📁 Downloading: image - Frank Larin.jpg → 22107.jpg\n"
     ]
    },
    {
     "name": "stderr",
     "output_type": "stream",
     "text": [
      "Processing estimates:  71%|███████   | 408/576 [14:53<04:40,  1.67s/it]"
     ]
    },
    {
     "name": "stdout",
     "output_type": "stream",
     "text": [
      "📁 Downloading: image - Pedro Pelico Guox.jpg → 21878.jpg\n"
     ]
    },
    {
     "name": "stderr",
     "output_type": "stream",
     "text": [
      "Processing estimates:  71%|███████   | 409/576 [14:54<04:36,  1.65s/it]"
     ]
    },
    {
     "name": "stdout",
     "output_type": "stream",
     "text": [
      "📁 Downloading: image - Cesar Morales.jpg → 22109.jpg\n"
     ]
    },
    {
     "name": "stderr",
     "output_type": "stream",
     "text": [
      "Processing estimates:  71%|███████   | 410/576 [14:56<04:47,  1.73s/it]"
     ]
    },
    {
     "name": "stdout",
     "output_type": "stream",
     "text": [
      "📁 Downloading: image - Frank Larin.jpg → 22295.jpg\n"
     ]
    },
    {
     "name": "stderr",
     "output_type": "stream",
     "text": [
      "Processing estimates:  71%|███████▏  | 411/576 [14:58<04:24,  1.61s/it]"
     ]
    },
    {
     "name": "stdout",
     "output_type": "stream",
     "text": [
      "💾 Progress saved: 385 downloaded, 15 failed\n",
      "📁 Downloading: image - Edgar Menendez.jpg → 21949.jpg\n"
     ]
    },
    {
     "name": "stderr",
     "output_type": "stream",
     "text": [
      "Processing estimates:  72%|███████▏  | 412/576 [15:01<06:00,  2.20s/it]"
     ]
    },
    {
     "name": "stdout",
     "output_type": "stream",
     "text": [
      "📁 Downloading: image - Edgar Menendez.jpg → 21946.jpg\n"
     ]
    },
    {
     "name": "stderr",
     "output_type": "stream",
     "text": [
      "Processing estimates:  72%|███████▏  | 413/576 [15:06<07:37,  2.80s/it]"
     ]
    },
    {
     "name": "stdout",
     "output_type": "stream",
     "text": [
      "📁 Downloading: image - Josue Cruz.jpg → 22086.jpg\n"
     ]
    },
    {
     "name": "stderr",
     "output_type": "stream",
     "text": [
      "Processing estimates:  72%|███████▏  | 414/576 [15:10<08:44,  3.24s/it]"
     ]
    },
    {
     "name": "stdout",
     "output_type": "stream",
     "text": [
      "📁 Downloading: image - Frank Larin.jpg → 21924.jpg\n"
     ]
    },
    {
     "name": "stderr",
     "output_type": "stream",
     "text": [
      "Processing estimates:  72%|███████▏  | 415/576 [15:11<07:02,  2.63s/it]"
     ]
    },
    {
     "name": "stdout",
     "output_type": "stream",
     "text": [
      "📁 Downloading: image - Josue Cruz.jpg → 22232.jpg\n"
     ]
    },
    {
     "name": "stderr",
     "output_type": "stream",
     "text": [
      "Processing estimates:  72%|███████▏  | 416/576 [15:12<05:55,  2.22s/it]"
     ]
    },
    {
     "name": "stdout",
     "output_type": "stream",
     "text": [
      "📁 Downloading: image - Josue Cruz.jpg → 22293.jpg\n"
     ]
    },
    {
     "name": "stderr",
     "output_type": "stream",
     "text": [
      "Processing estimates:  72%|███████▏  | 417/576 [15:13<05:03,  1.91s/it]"
     ]
    },
    {
     "name": "stdout",
     "output_type": "stream",
     "text": [
      "📁 Downloading: image - Frank Larin.jpg → 21629.jpg\n"
     ]
    },
    {
     "name": "stderr",
     "output_type": "stream",
     "text": [
      "Processing estimates:  73%|███████▎  | 418/576 [15:14<04:20,  1.65s/it]"
     ]
    },
    {
     "name": "stdout",
     "output_type": "stream",
     "text": [
      "📁 Downloading: IMG_3748 - MJM CONTRACTING INC.jpeg → 20753.jpg\n"
     ]
    },
    {
     "name": "stderr",
     "output_type": "stream",
     "text": [
      "Processing estimates:  73%|███████▎  | 419/576 [15:15<03:36,  1.38s/it]"
     ]
    },
    {
     "name": "stdout",
     "output_type": "stream",
     "text": [
      "📁 Downloading: image - Frank Larin.jpg → 22012.jpg\n"
     ]
    },
    {
     "name": "stderr",
     "output_type": "stream",
     "text": [
      "Processing estimates:  73%|███████▎  | 420/576 [15:16<03:20,  1.29s/it]"
     ]
    },
    {
     "name": "stdout",
     "output_type": "stream",
     "text": [
      "📁 Downloading: image - Josue Cruz.jpg → 22084.jpg\n"
     ]
    },
    {
     "name": "stderr",
     "output_type": "stream",
     "text": [
      "Processing estimates:  73%|███████▎  | 421/576 [15:18<03:33,  1.37s/it]"
     ]
    },
    {
     "name": "stdout",
     "output_type": "stream",
     "text": [
      "💾 Progress saved: 395 downloaded, 15 failed\n",
      "📁 Downloading: image - Frank Larin.jpg → 21986.jpg\n"
     ]
    },
    {
     "name": "stderr",
     "output_type": "stream",
     "text": [
      "Processing estimates:  73%|███████▎  | 422/576 [15:19<03:34,  1.39s/it]"
     ]
    },
    {
     "name": "stdout",
     "output_type": "stream",
     "text": [
      "📁 Downloading: image - Josue Cruz.jpg → 22085.jpg\n"
     ]
    },
    {
     "name": "stderr",
     "output_type": "stream",
     "text": [
      "Processing estimates:  73%|███████▎  | 423/576 [15:21<03:25,  1.34s/it]"
     ]
    },
    {
     "name": "stdout",
     "output_type": "stream",
     "text": [
      "📁 Downloading: image - Cesar Morales.jpg → 22110.jpg\n"
     ]
    },
    {
     "name": "stderr",
     "output_type": "stream",
     "text": [
      "Processing estimates:  74%|███████▎  | 424/576 [15:22<03:18,  1.31s/it]"
     ]
    },
    {
     "name": "stdout",
     "output_type": "stream",
     "text": [
      "📁 Downloading: image - Pedro Pelico Guox.jpg → 21927.jpg\n"
     ]
    },
    {
     "name": "stderr",
     "output_type": "stream",
     "text": [
      "Processing estimates:  74%|███████▍  | 425/576 [15:23<03:25,  1.36s/it]"
     ]
    },
    {
     "name": "stdout",
     "output_type": "stream",
     "text": [
      "📁 Downloading: image - Pedro Pelico Guox.jpg → 21062.jpg\n"
     ]
    },
    {
     "name": "stderr",
     "output_type": "stream",
     "text": [
      "Processing estimates:  74%|███████▍  | 426/576 [15:25<03:36,  1.44s/it]"
     ]
    },
    {
     "name": "stdout",
     "output_type": "stream",
     "text": [
      "⏭️  Skipping 21062.jpg (already downloaded)\n",
      "📁 Downloading: 20241117_162917 - Marcos Lucas.jpg → 21076.jpg\n"
     ]
    },
    {
     "name": "stderr",
     "output_type": "stream",
     "text": [
      "Processing estimates:  74%|███████▍  | 428/576 [15:27<02:57,  1.20s/it]"
     ]
    },
    {
     "name": "stdout",
     "output_type": "stream",
     "text": [
      "📁 Downloading: image - Josue Cruz.jpg → 22255.jpg\n"
     ]
    },
    {
     "name": "stderr",
     "output_type": "stream",
     "text": [
      "Processing estimates:  74%|███████▍  | 429/576 [15:29<03:20,  1.37s/it]"
     ]
    },
    {
     "name": "stdout",
     "output_type": "stream",
     "text": [
      "📁 Downloading: image - Pedro Pelico Guox.jpg → 21937.jpg\n"
     ]
    },
    {
     "name": "stderr",
     "output_type": "stream",
     "text": [
      "Processing estimates:  75%|███████▍  | 430/576 [15:33<05:27,  2.24s/it]"
     ]
    },
    {
     "name": "stdout",
     "output_type": "stream",
     "text": [
      "📁 Downloading: image - Josue Cruz.jpg → 22260.jpg\n"
     ]
    },
    {
     "name": "stderr",
     "output_type": "stream",
     "text": [
      "Processing estimates:  75%|███████▍  | 431/576 [15:38<07:14,  3.00s/it]"
     ]
    },
    {
     "name": "stdout",
     "output_type": "stream",
     "text": [
      "📁 Downloading: image - Frank Larin.jpg → 22282.jpg\n"
     ]
    },
    {
     "name": "stderr",
     "output_type": "stream",
     "text": [
      "Processing estimates:  75%|███████▌  | 432/576 [15:42<07:37,  3.18s/it]"
     ]
    },
    {
     "name": "stdout",
     "output_type": "stream",
     "text": [
      "💾 Progress saved: 405 downloaded, 15 failed\n",
      "📁 Downloading: image - Cesar Morales.jpg → 21187.jpg\n"
     ]
    },
    {
     "name": "stderr",
     "output_type": "stream",
     "text": [
      "Processing estimates:  75%|███████▌  | 433/576 [15:43<06:07,  2.57s/it]"
     ]
    },
    {
     "name": "stdout",
     "output_type": "stream",
     "text": [
      "📁 Downloading: image - Edgar Menendez.jpg → 21217.jpg\n"
     ]
    },
    {
     "name": "stderr",
     "output_type": "stream",
     "text": [
      "Processing estimates:  75%|███████▌  | 434/576 [15:44<04:51,  2.05s/it]"
     ]
    },
    {
     "name": "stdout",
     "output_type": "stream",
     "text": [
      "📁 Downloading: image - Edgar Menendez.jpg → 21474.jpg\n"
     ]
    },
    {
     "name": "stderr",
     "output_type": "stream",
     "text": [
      "Processing estimates:  76%|███████▌  | 435/576 [15:45<04:05,  1.74s/it]"
     ]
    },
    {
     "name": "stdout",
     "output_type": "stream",
     "text": [
      "📁 Downloading: image - Cesar Morales.jpg → 21546.jpg\n"
     ]
    },
    {
     "name": "stderr",
     "output_type": "stream",
     "text": [
      "Processing estimates:  76%|███████▌  | 436/576 [15:47<04:21,  1.87s/it]"
     ]
    },
    {
     "name": "stdout",
     "output_type": "stream",
     "text": [
      "📁 Downloading: image - Edgar Menendez.jpg → 21747.jpg\n"
     ]
    },
    {
     "name": "stderr",
     "output_type": "stream",
     "text": [
      "Processing estimates:  76%|███████▌  | 437/576 [15:48<03:47,  1.64s/it]"
     ]
    },
    {
     "name": "stdout",
     "output_type": "stream",
     "text": [
      "📁 Downloading: image - Edgar Menendez.jpg → 21776.jpg\n"
     ]
    },
    {
     "name": "stderr",
     "output_type": "stream",
     "text": [
      "Processing estimates:  76%|███████▌  | 438/576 [15:49<03:17,  1.43s/it]"
     ]
    },
    {
     "name": "stdout",
     "output_type": "stream",
     "text": [
      "📁 Downloading: image - Edgar Menendez.jpg → 21879.jpg\n"
     ]
    },
    {
     "name": "stderr",
     "output_type": "stream",
     "text": [
      "Processing estimates:  76%|███████▌  | 439/576 [15:50<03:03,  1.34s/it]"
     ]
    },
    {
     "name": "stdout",
     "output_type": "stream",
     "text": [
      "📁 Downloading: 20241201_171112 - Marcos Lucas.jpg → 21223.jpg\n"
     ]
    },
    {
     "name": "stderr",
     "output_type": "stream",
     "text": [
      "Processing estimates:  76%|███████▋  | 440/576 [15:51<03:04,  1.36s/it]"
     ]
    },
    {
     "name": "stdout",
     "output_type": "stream",
     "text": [
      "📁 Downloading: IMG_3454 - Perla Isaguirre.jpeg → 21318.jpg\n"
     ]
    },
    {
     "name": "stderr",
     "output_type": "stream",
     "text": [
      "Processing estimates:  77%|███████▋  | 441/576 [15:52<02:35,  1.15s/it]"
     ]
    },
    {
     "name": "stdout",
     "output_type": "stream",
     "text": [
      "📁 Downloading: image - Frank Larin.jpg → 21814.jpg\n"
     ]
    },
    {
     "name": "stderr",
     "output_type": "stream",
     "text": [
      "Processing estimates:  77%|███████▋  | 442/576 [15:54<02:45,  1.24s/it]"
     ]
    },
    {
     "name": "stdout",
     "output_type": "stream",
     "text": [
      "💾 Progress saved: 415 downloaded, 15 failed\n",
      "📁 Downloading: image - Cesar Morales.jpg → 21993.jpg\n"
     ]
    },
    {
     "name": "stderr",
     "output_type": "stream",
     "text": [
      "Processing estimates:  77%|███████▋  | 443/576 [15:56<03:13,  1.46s/it]"
     ]
    },
    {
     "name": "stdout",
     "output_type": "stream",
     "text": [
      "📁 Downloading: image - Josue Cruz.jpg → 22056.jpg\n"
     ]
    },
    {
     "name": "stderr",
     "output_type": "stream",
     "text": [
      "Processing estimates:  77%|███████▋  | 444/576 [15:57<03:01,  1.38s/it]"
     ]
    },
    {
     "name": "stdout",
     "output_type": "stream",
     "text": [
      "📁 Downloading: image - Pedro Pelico Guox.jpg → 22138.jpg\n"
     ]
    },
    {
     "name": "stderr",
     "output_type": "stream",
     "text": [
      "Processing estimates:  77%|███████▋  | 445/576 [15:59<03:32,  1.63s/it]"
     ]
    },
    {
     "name": "stdout",
     "output_type": "stream",
     "text": [
      "📁 Downloading: image - Edgar Menendez.jpg → 21840.jpg\n"
     ]
    },
    {
     "name": "stderr",
     "output_type": "stream",
     "text": [
      "Processing estimates:  77%|███████▋  | 446/576 [16:00<03:17,  1.52s/it]"
     ]
    },
    {
     "name": "stdout",
     "output_type": "stream",
     "text": [
      "📁 Downloading: image - Cesar Morales.jpg → 21622.jpg\n"
     ]
    },
    {
     "name": "stderr",
     "output_type": "stream",
     "text": [
      "Processing estimates:  78%|███████▊  | 447/576 [16:02<03:21,  1.56s/it]"
     ]
    },
    {
     "name": "stdout",
     "output_type": "stream",
     "text": [
      "📁 Downloading: image - Cesar Morales.jpg → 21768.jpg\n"
     ]
    },
    {
     "name": "stderr",
     "output_type": "stream",
     "text": [
      "Processing estimates:  78%|███████▊  | 448/576 [16:03<03:04,  1.44s/it]"
     ]
    },
    {
     "name": "stdout",
     "output_type": "stream",
     "text": [
      "📁 Downloading: 20250114_211640 - Marcos Lucas.jpg → 21985.jpg\n"
     ]
    },
    {
     "name": "stderr",
     "output_type": "stream",
     "text": [
      "Processing estimates:  78%|███████▊  | 449/576 [16:06<03:51,  1.82s/it]"
     ]
    },
    {
     "name": "stdout",
     "output_type": "stream",
     "text": [
      "📁 Downloading: image - Cesar Morales.jpg → 21771.jpg\n"
     ]
    },
    {
     "name": "stderr",
     "output_type": "stream",
     "text": [
      "Processing estimates:  78%|███████▊  | 450/576 [16:10<05:33,  2.65s/it]"
     ]
    },
    {
     "name": "stdout",
     "output_type": "stream",
     "text": [
      "📁 Downloading: image - Cesar Morales.jpg → 21843.jpg\n"
     ]
    },
    {
     "name": "stderr",
     "output_type": "stream",
     "text": [
      "Processing estimates:  78%|███████▊  | 451/576 [16:16<07:15,  3.49s/it]"
     ]
    },
    {
     "name": "stdout",
     "output_type": "stream",
     "text": [
      "📁 Downloading: image - Josue Cruz.jpg → 22130.jpg\n"
     ]
    },
    {
     "name": "stderr",
     "output_type": "stream",
     "text": [
      "Processing estimates:  78%|███████▊  | 452/576 [16:17<06:01,  2.91s/it]"
     ]
    },
    {
     "name": "stdout",
     "output_type": "stream",
     "text": [
      "💾 Progress saved: 425 downloaded, 15 failed\n",
      "📁 Downloading: image - Cesar Morales.jpg → 22067.jpg\n"
     ]
    },
    {
     "name": "stderr",
     "output_type": "stream",
     "text": [
      "Processing estimates:  79%|███████▊  | 453/576 [16:19<05:00,  2.44s/it]"
     ]
    },
    {
     "name": "stdout",
     "output_type": "stream",
     "text": [
      "📁 Downloading: image - Josue Cruz.jpg → 22158.jpg\n"
     ]
    },
    {
     "name": "stderr",
     "output_type": "stream",
     "text": [
      "Processing estimates:  79%|███████▉  | 454/576 [16:20<04:09,  2.04s/it]"
     ]
    },
    {
     "name": "stdout",
     "output_type": "stream",
     "text": [
      "📁 Downloading: image - Pedro Pelico Guox.jpg → 21544.jpg\n"
     ]
    },
    {
     "name": "stderr",
     "output_type": "stream",
     "text": [
      "Processing estimates:  79%|███████▉  | 455/576 [16:21<03:35,  1.78s/it]"
     ]
    },
    {
     "name": "stdout",
     "output_type": "stream",
     "text": [
      "📁 Downloading: image - Frank Larin.jpg → 21582.jpg\n"
     ]
    },
    {
     "name": "stderr",
     "output_type": "stream",
     "text": [
      "Processing estimates:  79%|███████▉  | 456/576 [16:22<03:16,  1.64s/it]"
     ]
    },
    {
     "name": "stdout",
     "output_type": "stream",
     "text": [
      "📁 Downloading: image - Edgar Menendez.jpg → 22034.jpg\n"
     ]
    },
    {
     "name": "stderr",
     "output_type": "stream",
     "text": [
      "Processing estimates:  79%|███████▉  | 457/576 [16:24<03:06,  1.56s/it]"
     ]
    },
    {
     "name": "stdout",
     "output_type": "stream",
     "text": [
      "📁 Downloading: image - Cesar Morales.jpg → 22011.jpg\n"
     ]
    },
    {
     "name": "stderr",
     "output_type": "stream",
     "text": [
      "Processing estimates:  80%|███████▉  | 458/576 [16:25<03:02,  1.54s/it]"
     ]
    },
    {
     "name": "stdout",
     "output_type": "stream",
     "text": [
      "📁 Downloading: image - Cesar Morales.jpg → 21845.jpg\n"
     ]
    },
    {
     "name": "stderr",
     "output_type": "stream",
     "text": [
      "Processing estimates:  80%|███████▉  | 459/576 [16:26<02:47,  1.43s/it]"
     ]
    },
    {
     "name": "stdout",
     "output_type": "stream",
     "text": [
      "📁 Downloading: image - Cesar Morales.jpg → 21623.jpg\n"
     ]
    },
    {
     "name": "stderr",
     "output_type": "stream",
     "text": [
      "Processing estimates:  80%|███████▉  | 460/576 [16:28<02:38,  1.37s/it]"
     ]
    },
    {
     "name": "stdout",
     "output_type": "stream",
     "text": [
      "📁 Downloading: image - Cesar Morales.jpg → 21786.jpg\n"
     ]
    },
    {
     "name": "stderr",
     "output_type": "stream",
     "text": [
      "Processing estimates:  80%|████████  | 461/576 [16:29<02:28,  1.29s/it]"
     ]
    },
    {
     "name": "stdout",
     "output_type": "stream",
     "text": [
      "📁 Downloading: image - Cesar Morales.jpg → 21812.jpg\n"
     ]
    },
    {
     "name": "stderr",
     "output_type": "stream",
     "text": [
      "Processing estimates:  80%|████████  | 462/576 [16:30<02:25,  1.28s/it]"
     ]
    },
    {
     "name": "stdout",
     "output_type": "stream",
     "text": [
      "💾 Progress saved: 435 downloaded, 15 failed\n",
      "📁 Downloading: image - Cesar Morales.jpg → 21956.jpg\n"
     ]
    },
    {
     "name": "stderr",
     "output_type": "stream",
     "text": [
      "Processing estimates:  80%|████████  | 463/576 [16:31<02:26,  1.30s/it]"
     ]
    },
    {
     "name": "stdout",
     "output_type": "stream",
     "text": [
      "📁 Downloading: image - Edgar Menendez.jpg → 22117.jpg\n"
     ]
    },
    {
     "name": "stderr",
     "output_type": "stream",
     "text": [
      "Processing estimates:  81%|████████  | 464/576 [16:32<02:04,  1.12s/it]"
     ]
    },
    {
     "name": "stdout",
     "output_type": "stream",
     "text": [
      "📁 Downloading: image - Josue Cruz.jpg → 22038.jpg\n"
     ]
    },
    {
     "name": "stderr",
     "output_type": "stream",
     "text": [
      "Processing estimates:  81%|████████  | 465/576 [16:33<02:15,  1.22s/it]"
     ]
    },
    {
     "name": "stdout",
     "output_type": "stream",
     "text": [
      "📁 Downloading: image - Cesar Morales.jpg → 22042.jpg\n"
     ]
    },
    {
     "name": "stderr",
     "output_type": "stream",
     "text": [
      "Processing estimates:  81%|████████  | 466/576 [16:38<04:20,  2.37s/it]"
     ]
    },
    {
     "name": "stdout",
     "output_type": "stream",
     "text": [
      "📁 Downloading: image - Pedro Pelico Guox.jpg → 22044.jpg\n"
     ]
    },
    {
     "name": "stderr",
     "output_type": "stream",
     "text": [
      "Processing estimates:  81%|████████  | 467/576 [16:45<06:48,  3.75s/it]"
     ]
    },
    {
     "name": "stdout",
     "output_type": "stream",
     "text": [
      "📁 Downloading: image - Josue Cruz.jpg → 22060.jpg\n"
     ]
    },
    {
     "name": "stderr",
     "output_type": "stream",
     "text": [
      "Processing estimates:  81%|████████▏ | 468/576 [16:47<05:47,  3.22s/it]"
     ]
    },
    {
     "name": "stdout",
     "output_type": "stream",
     "text": [
      "📁 Downloading: image - Josue Cruz.jpg → 22233.jpg\n"
     ]
    },
    {
     "name": "stderr",
     "output_type": "stream",
     "text": [
      "Processing estimates:  81%|████████▏ | 469/576 [16:48<04:33,  2.56s/it]"
     ]
    },
    {
     "name": "stdout",
     "output_type": "stream",
     "text": [
      "📁 Downloading: image - Frank Larin.jpg → 22039.jpg\n"
     ]
    },
    {
     "name": "stderr",
     "output_type": "stream",
     "text": [
      "Processing estimates:  82%|████████▏ | 470/576 [16:49<03:41,  2.09s/it]"
     ]
    },
    {
     "name": "stdout",
     "output_type": "stream",
     "text": [
      "📁 Downloading: image - Pedro Pelico Guox.jpg → 22118.jpg\n"
     ]
    },
    {
     "name": "stderr",
     "output_type": "stream",
     "text": [
      "Processing estimates:  82%|████████▏ | 471/576 [16:51<03:30,  2.00s/it]"
     ]
    },
    {
     "name": "stdout",
     "output_type": "stream",
     "text": [
      "📁 Downloading: image - Cesar Morales.jpg → 21824.jpg\n"
     ]
    },
    {
     "name": "stderr",
     "output_type": "stream",
     "text": [
      "Processing estimates:  82%|████████▏ | 472/576 [16:52<03:01,  1.75s/it]"
     ]
    },
    {
     "name": "stdout",
     "output_type": "stream",
     "text": [
      "💾 Progress saved: 445 downloaded, 15 failed\n",
      "📁 Downloading: image - Cesar Morales.jpg → 21847.jpg\n"
     ]
    },
    {
     "name": "stderr",
     "output_type": "stream",
     "text": [
      "Processing estimates:  82%|████████▏ | 473/576 [16:53<02:36,  1.52s/it]"
     ]
    },
    {
     "name": "stdout",
     "output_type": "stream",
     "text": [
      "📁 Downloading: 20241212_204534 - Marcos Lucas.jpg → 21541.jpg\n"
     ]
    },
    {
     "name": "stderr",
     "output_type": "stream",
     "text": [
      "Processing estimates:  82%|████████▏ | 474/576 [16:55<02:43,  1.60s/it]"
     ]
    },
    {
     "name": "stdout",
     "output_type": "stream",
     "text": [
      "📁 Downloading: image - Frank Larin.jpg → 21591.jpg\n"
     ]
    },
    {
     "name": "stderr",
     "output_type": "stream",
     "text": [
      "Processing estimates:  82%|████████▏ | 475/576 [16:57<02:56,  1.74s/it]"
     ]
    },
    {
     "name": "stdout",
     "output_type": "stream",
     "text": [
      "📁 Downloading: image - Edgar Menendez.jpg → 21708.jpg\n"
     ]
    },
    {
     "name": "stderr",
     "output_type": "stream",
     "text": [
      "Processing estimates:  83%|████████▎ | 476/576 [16:58<02:25,  1.45s/it]"
     ]
    },
    {
     "name": "stdout",
     "output_type": "stream",
     "text": [
      "📁 Downloading: image - Cesar Morales.jpg → 22156.jpg\n"
     ]
    },
    {
     "name": "stderr",
     "output_type": "stream",
     "text": [
      "Processing estimates:  83%|████████▎ | 477/576 [16:59<02:17,  1.39s/it]"
     ]
    },
    {
     "name": "stdout",
     "output_type": "stream",
     "text": [
      "📁 Downloading: image - Frank Larin.jpg → 21831.jpg\n"
     ]
    },
    {
     "name": "stderr",
     "output_type": "stream",
     "text": [
      "Processing estimates:  83%|████████▎ | 478/576 [17:01<02:14,  1.38s/it]"
     ]
    },
    {
     "name": "stdout",
     "output_type": "stream",
     "text": [
      "📁 Downloading: image - Josue Cruz.jpg → 22082.jpg\n"
     ]
    },
    {
     "name": "stderr",
     "output_type": "stream",
     "text": [
      "Processing estimates:  83%|████████▎ | 479/576 [17:02<02:10,  1.35s/it]"
     ]
    },
    {
     "name": "stdout",
     "output_type": "stream",
     "text": [
      "📁 Downloading: IMG_3936 - MJM CONTRACTING INC.jpeg → 21579.jpg\n"
     ]
    },
    {
     "name": "stderr",
     "output_type": "stream",
     "text": [
      "Processing estimates:  83%|████████▎ | 480/576 [17:02<01:47,  1.12s/it]"
     ]
    },
    {
     "name": "stdout",
     "output_type": "stream",
     "text": [
      "📁 Downloading: image - Perla Isaguirre.jpg → 21222.jpg\n"
     ]
    },
    {
     "name": "stderr",
     "output_type": "stream",
     "text": [
      "Processing estimates:  84%|████████▎ | 481/576 [17:04<01:45,  1.11s/it]"
     ]
    },
    {
     "name": "stdout",
     "output_type": "stream",
     "text": [
      "📁 Downloading: image - Edgar Menendez.jpg → 22116.jpg\n"
     ]
    },
    {
     "name": "stderr",
     "output_type": "stream",
     "text": [
      "Processing estimates:  84%|████████▎ | 482/576 [17:04<01:38,  1.05s/it]"
     ]
    },
    {
     "name": "stdout",
     "output_type": "stream",
     "text": [
      "💾 Progress saved: 455 downloaded, 15 failed\n",
      "📁 Downloading: image - Edgar Menendez.jpg → 22063.jpg\n"
     ]
    },
    {
     "name": "stderr",
     "output_type": "stream",
     "text": [
      "Processing estimates:  84%|████████▍ | 483/576 [17:05<01:29,  1.04it/s]"
     ]
    },
    {
     "name": "stdout",
     "output_type": "stream",
     "text": [
      "📁 Downloading: 20241215_122158 - Marcos Lucas.jpg → 21571.jpg\n"
     ]
    },
    {
     "name": "stderr",
     "output_type": "stream",
     "text": [
      "Processing estimates:  84%|████████▍ | 484/576 [17:14<04:58,  3.25s/it]"
     ]
    },
    {
     "name": "stdout",
     "output_type": "stream",
     "text": [
      "📁 Downloading: 20241215_122149 - Marcos Lucas.jpg → 21587.jpg\n"
     ]
    },
    {
     "name": "stderr",
     "output_type": "stream",
     "text": [
      "Processing estimates:  84%|████████▍ | 485/576 [17:17<05:03,  3.33s/it]"
     ]
    },
    {
     "name": "stdout",
     "output_type": "stream",
     "text": [
      "📁 Downloading: 20241218_200525 - Marcos Lucas.jpg → 21625.jpg\n"
     ]
    },
    {
     "name": "stderr",
     "output_type": "stream",
     "text": [
      "Processing estimates:  84%|████████▍ | 486/576 [17:19<04:06,  2.74s/it]"
     ]
    },
    {
     "name": "stdout",
     "output_type": "stream",
     "text": [
      "📁 Downloading: IMG_3645 - MJM CONTRACTING INC.jpeg → 21707.jpg\n"
     ]
    },
    {
     "name": "stderr",
     "output_type": "stream",
     "text": [
      "Processing estimates:  85%|████████▍ | 487/576 [17:20<03:24,  2.30s/it]"
     ]
    },
    {
     "name": "stdout",
     "output_type": "stream",
     "text": [
      "📁 Downloading: IMG_3451 - Perla Isaguirre.jpeg → 21218.jpg\n"
     ]
    },
    {
     "name": "stderr",
     "output_type": "stream",
     "text": [
      "Processing estimates:  85%|████████▍ | 488/576 [17:21<02:41,  1.84s/it]"
     ]
    },
    {
     "name": "stdout",
     "output_type": "stream",
     "text": [
      "📁 Downloading: IMG_3452 - Perla Isaguirre.jpeg → 21224.jpg\n"
     ]
    },
    {
     "name": "stderr",
     "output_type": "stream",
     "text": [
      "Processing estimates:  85%|████████▍ | 489/576 [17:21<02:08,  1.48s/it]"
     ]
    },
    {
     "name": "stdout",
     "output_type": "stream",
     "text": [
      "📁 Downloading: IMG_3583 - Perla Isaguirre.jpeg → 21499.jpg\n"
     ]
    },
    {
     "name": "stderr",
     "output_type": "stream",
     "text": [
      "Processing estimates:  85%|████████▌ | 490/576 [17:22<01:51,  1.30s/it]"
     ]
    },
    {
     "name": "stdout",
     "output_type": "stream",
     "text": [
      "📁 Downloading: IMG_3642 - MJM CONTRACTING INC.jpeg → 21675.jpg\n"
     ]
    },
    {
     "name": "stderr",
     "output_type": "stream",
     "text": [
      "Processing estimates:  85%|████████▌ | 491/576 [17:23<01:36,  1.13s/it]"
     ]
    },
    {
     "name": "stdout",
     "output_type": "stream",
     "text": [
      "📁 Downloading: IMG_3641 - MJM CONTRACTING INC.jpeg → 21709.jpg\n"
     ]
    },
    {
     "name": "stderr",
     "output_type": "stream",
     "text": [
      "Processing estimates:  85%|████████▌ | 492/576 [17:24<01:22,  1.02it/s]"
     ]
    },
    {
     "name": "stdout",
     "output_type": "stream",
     "text": [
      "💾 Progress saved: 465 downloaded, 15 failed\n",
      "📁 Downloading: 20241218_204620 - Marcos Lucas.jpg → 21598.jpg\n"
     ]
    },
    {
     "name": "stderr",
     "output_type": "stream",
     "text": [
      "Processing estimates:  86%|████████▌ | 493/576 [17:26<01:48,  1.30s/it]"
     ]
    },
    {
     "name": "stdout",
     "output_type": "stream",
     "text": [
      "📁 Downloading: 20241222_191552 - Marcos Lucas.jpg → 21660.jpg\n"
     ]
    },
    {
     "name": "stderr",
     "output_type": "stream",
     "text": [
      "Processing estimates:  86%|████████▌ | 494/576 [17:28<02:13,  1.63s/it]"
     ]
    },
    {
     "name": "stdout",
     "output_type": "stream",
     "text": [
      "📁 Downloading: 20241229_163213 - Marcos Lucas.jpg → 21767.jpg\n"
     ]
    },
    {
     "name": "stderr",
     "output_type": "stream",
     "text": [
      "Processing estimates:  86%|████████▌ | 495/576 [17:30<02:15,  1.67s/it]"
     ]
    },
    {
     "name": "stdout",
     "output_type": "stream",
     "text": [
      "📁 Downloading: image - Pedro Pelico Guox.jpg → 45637.jpg\n"
     ]
    },
    {
     "name": "stderr",
     "output_type": "stream",
     "text": [
      "Processing estimates:  86%|████████▌ | 496/576 [17:31<02:08,  1.60s/it]"
     ]
    },
    {
     "name": "stdout",
     "output_type": "stream",
     "text": [
      "📁 Downloading: image - Pedro Pelico Guox.jpg → 120224.jpg\n"
     ]
    },
    {
     "name": "stderr",
     "output_type": "stream",
     "text": [
      "Processing estimates:  86%|████████▋ | 497/576 [17:33<02:03,  1.56s/it]"
     ]
    },
    {
     "name": "stdout",
     "output_type": "stream",
     "text": [
      "⏭️  Skipping 120224.jpg (already downloaded)\n",
      "⏭️  Skipping 120224.jpg (already downloaded)\n",
      "⏭️  Skipping 120224.jpg (already downloaded)\n",
      "📁 Downloading: image - Pedro Pelico Guox.jpg → 121124.jpg\n"
     ]
    },
    {
     "name": "stderr",
     "output_type": "stream",
     "text": [
      "Processing estimates:  87%|████████▋ | 501/576 [17:34<00:58,  1.28it/s]"
     ]
    },
    {
     "name": "stdout",
     "output_type": "stream",
     "text": [
      "⏭️  Skipping 121124.jpg (already downloaded)\n",
      "📁 Downloading: 20241112_212918 - Marcos Lucas.jpg → 1018monroe.jpg\n"
     ]
    },
    {
     "name": "stderr",
     "output_type": "stream",
     "text": [
      "Processing estimates:  87%|████████▋ | 503/576 [17:36<00:57,  1.27it/s]"
     ]
    },
    {
     "name": "stdout",
     "output_type": "stream",
     "text": [
      "📁 Downloading: 20241231_203316 - Marcos Lucas.jpg → 12272024B.jpg\n"
     ]
    },
    {
     "name": "stderr",
     "output_type": "stream",
     "text": [
      "Processing estimates:  88%|████████▊ | 504/576 [17:38<01:11,  1.00it/s]"
     ]
    },
    {
     "name": "stdout",
     "output_type": "stream",
     "text": [
      "📁 Downloading: IMG_3728 - MJM CONTRACTING INC.jpeg → 12302024B.jpg\n"
     ]
    },
    {
     "name": "stderr",
     "output_type": "stream",
     "text": [
      "Processing estimates:  88%|████████▊ | 505/576 [17:38<01:05,  1.09it/s]"
     ]
    },
    {
     "name": "stdout",
     "output_type": "stream",
     "text": [
      "⏭️  Skipping 12302024B.jpg (already downloaded)\n",
      "📁 Downloading: image - Pedro Pelico Guox.jpg → 2800Ottis.jpg\n"
     ]
    },
    {
     "name": "stderr",
     "output_type": "stream",
     "text": [
      "Processing estimates:  88%|████████▊ | 507/576 [17:40<00:58,  1.17it/s]"
     ]
    },
    {
     "name": "stdout",
     "output_type": "stream",
     "text": [
      "💾 Progress saved: 475 downloaded, 15 failed\n",
      "📁 Downloading: 20241229_164415 - Marcos Lucas.jpg → 3611Celeste.jpg\n"
     ]
    },
    {
     "name": "stderr",
     "output_type": "stream",
     "text": [
      "Processing estimates:  88%|████████▊ | 508/576 [17:49<03:02,  2.69s/it]"
     ]
    },
    {
     "name": "stdout",
     "output_type": "stream",
     "text": [
      "📁 Downloading: image - Pedro Pelico Guox.jpg → 45298A.jpg\n"
     ]
    },
    {
     "name": "stderr",
     "output_type": "stream",
     "text": [
      "Processing estimates:  88%|████████▊ | 509/576 [17:54<03:27,  3.10s/it]"
     ]
    },
    {
     "name": "stdout",
     "output_type": "stream",
     "text": [
      "📁 Downloading: image - Pedro Pelico Guox.jpg → 45298B.jpg\n"
     ]
    },
    {
     "name": "stderr",
     "output_type": "stream",
     "text": [
      "Processing estimates:  89%|████████▊ | 510/576 [17:55<02:54,  2.64s/it]"
     ]
    },
    {
     "name": "stdout",
     "output_type": "stream",
     "text": [
      "📁 Downloading: image - Pedro Pelico Guox.jpg → 45630B.jpg\n"
     ]
    },
    {
     "name": "stderr",
     "output_type": "stream",
     "text": [
      "Processing estimates:  89%|████████▊ | 511/576 [17:56<02:27,  2.27s/it]"
     ]
    },
    {
     "name": "stdout",
     "output_type": "stream",
     "text": [
      "📁 Downloading: image - Pedro Pelico Guox.jpg → 45630E.jpg\n"
     ]
    },
    {
     "name": "stderr",
     "output_type": "stream",
     "text": [
      "Processing estimates:  89%|████████▉ | 512/576 [17:58<02:12,  2.08s/it]"
     ]
    },
    {
     "name": "stdout",
     "output_type": "stream",
     "text": [
      "📁 Downloading: image - Pedro Pelico Guox.jpg → 45630G.jpg\n"
     ]
    },
    {
     "name": "stderr",
     "output_type": "stream",
     "text": [
      "Processing estimates:  89%|████████▉ | 513/576 [17:59<01:55,  1.84s/it]"
     ]
    },
    {
     "name": "stdout",
     "output_type": "stream",
     "text": [
      "📁 Downloading: image - Pedro Pelico Guox.jpg → 45649A.jpg\n"
     ]
    },
    {
     "name": "stderr",
     "output_type": "stream",
     "text": [
      "Processing estimates:  89%|████████▉ | 514/576 [18:00<01:42,  1.65s/it]"
     ]
    },
    {
     "name": "stdout",
     "output_type": "stream",
     "text": [
      "📁 Downloading: image - Pedro Pelico Guox.jpg → 45656A.jpg\n"
     ]
    },
    {
     "name": "stderr",
     "output_type": "stream",
     "text": [
      "Processing estimates:  89%|████████▉ | 515/576 [18:02<01:40,  1.66s/it]"
     ]
    },
    {
     "name": "stdout",
     "output_type": "stream",
     "text": [
      "📁 Downloading: image - Pedro Pelico Guox.jpg → 45656B.jpg\n"
     ]
    },
    {
     "name": "stderr",
     "output_type": "stream",
     "text": [
      "Processing estimates:  90%|████████▉ | 516/576 [18:03<01:36,  1.60s/it]"
     ]
    },
    {
     "name": "stdout",
     "output_type": "stream",
     "text": [
      "📁 Downloading: image - Pedro Pelico Guox.jpg → 45659H.jpg\n"
     ]
    },
    {
     "name": "stderr",
     "output_type": "stream",
     "text": [
      "Processing estimates:  90%|████████▉ | 517/576 [18:05<01:30,  1.53s/it]"
     ]
    },
    {
     "name": "stdout",
     "output_type": "stream",
     "text": [
      "💾 Progress saved: 485 downloaded, 15 failed\n",
      "📁 Downloading: image - Pedro Pelico Guox.jpg → 45666G.jpg\n"
     ]
    },
    {
     "name": "stderr",
     "output_type": "stream",
     "text": [
      "Processing estimates:  90%|████████▉ | 518/576 [18:06<01:22,  1.42s/it]"
     ]
    },
    {
     "name": "stdout",
     "output_type": "stream",
     "text": [
      "⏭️  Skipping Aston.jpg (already downloaded)\n",
      "⏭️  Skipping Aston.jpg (already downloaded)\n",
      "⏭️  Skipping Aston.jpg (already downloaded)\n",
      "⏭️  Skipping Aston.jpg (already downloaded)\n",
      "⏭️  Skipping Aston.jpg (already downloaded)\n",
      "⏭️  Skipping Aston.jpg (already downloaded)\n",
      "📁 Downloading: image - Josue Cruz.jpg → D45678A.jpg\n"
     ]
    },
    {
     "name": "stderr",
     "output_type": "stream",
     "text": [
      "Processing estimates:  91%|█████████ | 525/576 [18:07<00:26,  1.94it/s]"
     ]
    },
    {
     "name": "stdout",
     "output_type": "stream",
     "text": [
      "📁 Downloading: IMG_3463 - Perla Isaguirre.jpeg → Dodson.jpg\n"
     ]
    },
    {
     "name": "stderr",
     "output_type": "stream",
     "text": [
      "Processing estimates:  91%|█████████▏| 526/576 [18:09<00:30,  1.64it/s]"
     ]
    },
    {
     "name": "stdout",
     "output_type": "stream",
     "text": [
      "📁 Downloading: image - Cesar Morales.jpg → M11122024A.jpg\n"
     ]
    },
    {
     "name": "stderr",
     "output_type": "stream",
     "text": [
      "Processing estimates:  91%|█████████▏| 527/576 [18:13<01:01,  1.25s/it]"
     ]
    },
    {
     "name": "stdout",
     "output_type": "stream",
     "text": [
      "📁 Downloading: 20250114_204709 - Marcos Lucas.jpg → P01092024A.jpg\n"
     ]
    },
    {
     "name": "stderr",
     "output_type": "stream",
     "text": [
      "Processing estimates:  92%|█████████▏| 528/576 [18:21<01:57,  2.45s/it]"
     ]
    },
    {
     "name": "stdout",
     "output_type": "stream",
     "text": [
      "📁 Downloading: IMG_3828 - MJM CONTRACTING INC.jpeg → P01122025B.jpg\n"
     ]
    },
    {
     "name": "stderr",
     "output_type": "stream",
     "text": [
      "Processing estimates:  92%|█████████▏| 529/576 [18:22<01:41,  2.17s/it]"
     ]
    },
    {
     "name": "stdout",
     "output_type": "stream",
     "text": [
      "📁 Downloading: IMG_3937 - MJM CONTRACTING INC.jpeg → P01142025B.jpg\n"
     ]
    },
    {
     "name": "stderr",
     "output_type": "stream",
     "text": [
      "Processing estimates:  92%|█████████▏| 530/576 [18:23<01:23,  1.81s/it]"
     ]
    },
    {
     "name": "stdout",
     "output_type": "stream",
     "text": [
      "📁 Downloading: 024-3753-201-istst0ven-jan14-25.pdf → P01142025C.jpg\n"
     ]
    },
    {
     "name": "stderr",
     "output_type": "stream",
     "text": [
      "Processing estimates:  92%|█████████▏| 531/576 [18:24<01:17,  1.72s/it]"
     ]
    },
    {
     "name": "stdout",
     "output_type": "stream",
     "text": [
      "📁 Downloading: image - Josue Cruz.jpg → P01152025B.jpg\n"
     ]
    },
    {
     "name": "stderr",
     "output_type": "stream",
     "text": [
      "Processing estimates:  92%|█████████▏| 532/576 [18:27<01:24,  1.91s/it]"
     ]
    },
    {
     "name": "stdout",
     "output_type": "stream",
     "text": [
      "📁 Downloading: 20250114_223154 - Marcos Lucas.jpg → P0182025A.jpg\n"
     ]
    },
    {
     "name": "stderr",
     "output_type": "stream",
     "text": [
      "Processing estimates:  93%|█████████▎| 533/576 [18:28<01:18,  1.83s/it]"
     ]
    },
    {
     "name": "stdout",
     "output_type": "stream",
     "text": [
      "💾 Progress saved: 495 downloaded, 15 failed\n",
      "📁 Downloading: image - Pedro Pelico Guox.jpg → P0192025B.jpg\n"
     ]
    },
    {
     "name": "stderr",
     "output_type": "stream",
     "text": [
      "Processing estimates:  93%|█████████▎| 534/576 [18:30<01:20,  1.91s/it]"
     ]
    },
    {
     "name": "stdout",
     "output_type": "stream",
     "text": [
      "📁 Downloading: image - Cesar Morales.jpg → p11272024C.jpg\n"
     ]
    },
    {
     "name": "stderr",
     "output_type": "stream",
     "text": [
      "Processing estimates:  93%|█████████▎| 535/576 [18:32<01:11,  1.74s/it]"
     ]
    },
    {
     "name": "stdout",
     "output_type": "stream",
     "text": [
      "📁 Downloading: 20241204_221143 - Marcos Lucas.jpg → P11272024D.jpg\n"
     ]
    },
    {
     "name": "stderr",
     "output_type": "stream",
     "text": [
      "Processing estimates:  93%|█████████▎| 536/576 [18:34<01:12,  1.81s/it]"
     ]
    },
    {
     "name": "stdout",
     "output_type": "stream",
     "text": [
      "📁 Downloading: IMG_0015 - Edgar Menendez.jpeg → P12022024A.jpg\n"
     ]
    },
    {
     "name": "stderr",
     "output_type": "stream",
     "text": [
      "Processing estimates:  93%|█████████▎| 537/576 [18:34<00:58,  1.50s/it]"
     ]
    },
    {
     "name": "stdout",
     "output_type": "stream",
     "text": [
      "⏭️  Skipping P12022024A.jpg (already downloaded)\n",
      "📁 Downloading: 20241204_214502 - Marcos Lucas.jpg → P12032024A.jpg\n"
     ]
    },
    {
     "name": "stderr",
     "output_type": "stream",
     "text": [
      "Processing estimates:  94%|█████████▎| 539/576 [18:36<00:46,  1.26s/it]"
     ]
    },
    {
     "name": "stdout",
     "output_type": "stream",
     "text": [
      "📁 Downloading: 20241204_213656 - Marcos Lucas.jpg → P12032024B.jpg\n"
     ]
    },
    {
     "name": "stderr",
     "output_type": "stream",
     "text": [
      "Processing estimates:  94%|█████████▍| 540/576 [18:38<00:47,  1.31s/it]"
     ]
    },
    {
     "name": "stdout",
     "output_type": "stream",
     "text": [
      "📁 Downloading: 20241204_215548 - Marcos Lucas.jpg → P12032024C.jpg\n"
     ]
    },
    {
     "name": "stderr",
     "output_type": "stream",
     "text": [
      "Processing estimates:  94%|█████████▍| 541/576 [18:40<00:51,  1.47s/it]"
     ]
    },
    {
     "name": "stdout",
     "output_type": "stream",
     "text": [
      "📁 Downloading: IMG_3465 - Perla Isaguirre.jpeg → P12092024B.jpg\n"
     ]
    },
    {
     "name": "stderr",
     "output_type": "stream",
     "text": [
      "Processing estimates:  94%|█████████▍| 542/576 [18:40<00:44,  1.30s/it]"
     ]
    },
    {
     "name": "stdout",
     "output_type": "stream",
     "text": [
      "📁 Downloading: image - Pedro Pelico Guox.jpg → P12092024c.jpg\n"
     ]
    },
    {
     "name": "stderr",
     "output_type": "stream",
     "text": [
      "Processing estimates:  94%|█████████▍| 543/576 [18:42<00:47,  1.44s/it]"
     ]
    },
    {
     "name": "stdout",
     "output_type": "stream",
     "text": [
      "📁 Downloading: image - Perla Isaguirre.jpg → P12102024D.jpg\n"
     ]
    },
    {
     "name": "stderr",
     "output_type": "stream",
     "text": [
      "Processing estimates:  94%|█████████▍| 544/576 [18:53<02:06,  3.95s/it]"
     ]
    },
    {
     "name": "stdout",
     "output_type": "stream",
     "text": [
      "💾 Progress saved: 505 downloaded, 15 failed\n",
      "📁 Downloading: image - Pedro Pelico Guox.jpg → P12112024A.jpg\n"
     ]
    },
    {
     "name": "stderr",
     "output_type": "stream",
     "text": [
      "Processing estimates:  95%|█████████▍| 545/576 [18:55<01:45,  3.40s/it]"
     ]
    },
    {
     "name": "stdout",
     "output_type": "stream",
     "text": [
      "⏭️  Skipping P12112024B.jpg (already downloaded)\n",
      "📁 Downloading: image - Perla Isaguirre.jpg → P12122024.jpg\n"
     ]
    },
    {
     "name": "stderr",
     "output_type": "stream",
     "text": [
      "Processing estimates:  95%|█████████▍| 547/576 [18:56<01:04,  2.23s/it]"
     ]
    },
    {
     "name": "stdout",
     "output_type": "stream",
     "text": [
      "📁 Downloading: IMG_3586 - Perla Isaguirre.jpeg → P12122024C.jpg\n"
     ]
    },
    {
     "name": "stderr",
     "output_type": "stream",
     "text": [
      "Processing estimates:  95%|█████████▌| 548/576 [18:57<00:52,  1.86s/it]"
     ]
    },
    {
     "name": "stdout",
     "output_type": "stream",
     "text": [
      "📁 Downloading: image - Frank Larin.jpg → P121920224B.jpg\n"
     ]
    },
    {
     "name": "stderr",
     "output_type": "stream",
     "text": [
      "Processing estimates:  95%|█████████▌| 549/576 [18:58<00:46,  1.72s/it]"
     ]
    },
    {
     "name": "stdout",
     "output_type": "stream",
     "text": [
      "📁 Downloading: image - Edgar Menendez.jpg → P12192024A.jpg\n"
     ]
    },
    {
     "name": "stderr",
     "output_type": "stream",
     "text": [
      "Processing estimates:  95%|█████████▌| 550/576 [18:59<00:38,  1.48s/it]"
     ]
    },
    {
     "name": "stdout",
     "output_type": "stream",
     "text": [
      "📁 Downloading: image - Cesar Morales.jpg → P12192024C.jpg\n"
     ]
    },
    {
     "name": "stderr",
     "output_type": "stream",
     "text": [
      "Processing estimates:  96%|█████████▌| 551/576 [19:00<00:34,  1.37s/it]"
     ]
    },
    {
     "name": "stdout",
     "output_type": "stream",
     "text": [
      "📁 Downloading: IMG_3704 - MJM CONTRACTING INC.jpeg → P12232024D.jpg\n"
     ]
    },
    {
     "name": "stderr",
     "output_type": "stream",
     "text": [
      "Processing estimates:  96%|█████████▌| 552/576 [19:01<00:29,  1.24s/it]"
     ]
    },
    {
     "name": "stdout",
     "output_type": "stream",
     "text": [
      "📁 Downloading: 20241229_161932 - Marcos Lucas.jpg → P12232024f.jpg\n"
     ]
    },
    {
     "name": "stderr",
     "output_type": "stream",
     "text": [
      "Processing estimates:  96%|█████████▌| 553/576 [19:03<00:30,  1.33s/it]"
     ]
    },
    {
     "name": "stdout",
     "output_type": "stream",
     "text": [
      "📁 Downloading: image - Edgar Menendez.jpg → P12272024A.jpg\n"
     ]
    },
    {
     "name": "stderr",
     "output_type": "stream",
     "text": [
      "Processing estimates:  96%|█████████▌| 554/576 [19:03<00:26,  1.19s/it]"
     ]
    },
    {
     "name": "stdout",
     "output_type": "stream",
     "text": [
      "📁 Downloading: IMG_3721 - MJM CONTRACTING INC.jpeg → P12272024B.jpg\n"
     ]
    },
    {
     "name": "stderr",
     "output_type": "stream",
     "text": [
      "Processing estimates:  96%|█████████▋| 555/576 [19:04<00:22,  1.05s/it]"
     ]
    },
    {
     "name": "stdout",
     "output_type": "stream",
     "text": [
      "💾 Progress saved: 515 downloaded, 15 failed\n",
      "📁 Downloading: IMG_3637 - MJM CONTRACTING INC.jpeg → P12272024C.jpg\n"
     ]
    },
    {
     "name": "stderr",
     "output_type": "stream",
     "text": [
      "Processing estimates:  97%|█████████▋| 556/576 [19:05<00:18,  1.08it/s]"
     ]
    },
    {
     "name": "stdout",
     "output_type": "stream",
     "text": [
      "📁 Downloading: IMG_3724 - MJM CONTRACTING INC.jpeg → P12302024C.jpg\n"
     ]
    },
    {
     "name": "stderr",
     "output_type": "stream",
     "text": [
      "Processing estimates:  97%|█████████▋| 557/576 [19:05<00:15,  1.23it/s]"
     ]
    },
    {
     "name": "stdout",
     "output_type": "stream",
     "text": [
      "📁 Downloading: IMG_3727 - MJM CONTRACTING INC.jpeg → P12312024A.jpg\n"
     ]
    },
    {
     "name": "stderr",
     "output_type": "stream",
     "text": [
      "Processing estimates:  97%|█████████▋| 558/576 [19:06<00:13,  1.35it/s]"
     ]
    },
    {
     "name": "stdout",
     "output_type": "stream",
     "text": [
      "📁 Downloading: image - Marcelo Morinigo.jpg → ParkRoad.jpg\n"
     ]
    },
    {
     "name": "stderr",
     "output_type": "stream",
     "text": [
      "Processing estimates:  97%|█████████▋| 559/576 [19:07<00:14,  1.17it/s]"
     ]
    },
    {
     "name": "stdout",
     "output_type": "stream",
     "text": [
      "⏭️  Skipping ParkRoad.jpg (already downloaded)\n",
      "⏭️  Skipping ParkRoad.jpg (already downloaded)\n",
      "📁 Downloading: IMG_3832 - MJM CONTRACTING INC.jpeg → PP01132025A.jpg\n"
     ]
    },
    {
     "name": "stderr",
     "output_type": "stream",
     "text": [
      "Processing estimates:  98%|█████████▊| 562/576 [19:08<00:08,  1.72it/s]"
     ]
    },
    {
     "name": "stdout",
     "output_type": "stream",
     "text": [
      "📁 Downloading: IMG_3831 - MJM CONTRACTING INC.jpeg → PP01132025C.jpg\n"
     ]
    },
    {
     "name": "stderr",
     "output_type": "stream",
     "text": [
      "Processing estimates:  98%|█████████▊| 563/576 [19:09<00:07,  1.68it/s]"
     ]
    },
    {
     "name": "stdout",
     "output_type": "stream",
     "text": [
      "📁 Downloading: image - Frank Larin.jpg → T01132025A.jpg\n"
     ]
    },
    {
     "name": "stderr",
     "output_type": "stream",
     "text": [
      "Processing estimates:  98%|█████████▊| 564/576 [19:10<00:08,  1.45it/s]"
     ]
    },
    {
     "name": "stdout",
     "output_type": "stream",
     "text": [
      "📁 Downloading: image - Josue Cruz.jpg → T01232025A.jpg\n"
     ]
    },
    {
     "name": "stderr",
     "output_type": "stream",
     "text": [
      "Processing estimates:  98%|█████████▊| 565/576 [19:11<00:09,  1.19it/s]"
     ]
    },
    {
     "name": "stdout",
     "output_type": "stream",
     "text": [
      "📁 Downloading: IMG_3877 - MJM CONTRACTING INC.jpeg → T112420224A.jpg\n"
     ]
    },
    {
     "name": "stderr",
     "output_type": "stream",
     "text": [
      "Processing estimates:  98%|█████████▊| 566/576 [19:12<00:08,  1.24it/s]"
     ]
    },
    {
     "name": "stdout",
     "output_type": "stream",
     "text": [
      "📁 Downloading: image - Frank Larin.jpg → T11272424A.jpg\n"
     ]
    },
    {
     "name": "stderr",
     "output_type": "stream",
     "text": [
      "Processing estimates:  98%|█████████▊| 567/576 [19:13<00:08,  1.09it/s]"
     ]
    },
    {
     "name": "stdout",
     "output_type": "stream",
     "text": [
      "💾 Progress saved: 525 downloaded, 15 failed\n",
      "📁 Downloading: image - Pedro Pelico Guox.jpg → T12112024A.jpg\n"
     ]
    },
    {
     "name": "stderr",
     "output_type": "stream",
     "text": [
      "Processing estimates:  99%|█████████▊| 568/576 [19:14<00:08,  1.01s/it]"
     ]
    },
    {
     "name": "stdout",
     "output_type": "stream",
     "text": [
      "📁 Downloading: image - Edgar Menendez.jpg → T12112024b.jpg\n"
     ]
    },
    {
     "name": "stderr",
     "output_type": "stream",
     "text": [
      "Processing estimates:  99%|█████████▉| 569/576 [19:15<00:07,  1.05s/it]"
     ]
    },
    {
     "name": "stdout",
     "output_type": "stream",
     "text": [
      "📁 Downloading: IMG_3698 - MJM CONTRACTING INC.jpeg → T12192024A.jpg\n"
     ]
    },
    {
     "name": "stderr",
     "output_type": "stream",
     "text": [
      "Processing estimates:  99%|█████████▉| 570/576 [19:16<00:05,  1.09it/s]"
     ]
    },
    {
     "name": "stdout",
     "output_type": "stream",
     "text": [
      "📁 Downloading: image - Perla Isaguirre.jpg → T12192024D.jpg\n"
     ]
    },
    {
     "name": "stderr",
     "output_type": "stream",
     "text": [
      "Processing estimates:  99%|█████████▉| 571/576 [19:17<00:04,  1.02it/s]"
     ]
    },
    {
     "name": "stdout",
     "output_type": "stream",
     "text": [
      "📁 Downloading: image - Edgar Menendez.jpg → T12192024E.jpg\n"
     ]
    },
    {
     "name": "stderr",
     "output_type": "stream",
     "text": [
      "Processing estimates:  99%|█████████▉| 572/576 [19:18<00:03,  1.06it/s]"
     ]
    },
    {
     "name": "stdout",
     "output_type": "stream",
     "text": [
      "📁 Downloading: image - Pedro Pelico Guox.jpg → T12262024A.jpg\n"
     ]
    },
    {
     "name": "stderr",
     "output_type": "stream",
     "text": [
      "Processing estimates:  99%|█████████▉| 573/576 [19:20<00:03,  1.14s/it]"
     ]
    },
    {
     "name": "stdout",
     "output_type": "stream",
     "text": [
      "📁 Downloading: IMG_1109 - Pedro Pelico Guox.png → T12272024A.jpg\n"
     ]
    },
    {
     "name": "stderr",
     "output_type": "stream",
     "text": [
      "Processing estimates: 100%|█████████▉| 574/576 [19:30<00:07,  3.95s/it]"
     ]
    },
    {
     "name": "stdout",
     "output_type": "stream",
     "text": [
      "📁 Downloading: image - Frank Larin.jpg → T12272024C.jpg\n"
     ]
    },
    {
     "name": "stderr",
     "output_type": "stream",
     "text": [
      "Processing estimates: 100%|█████████▉| 575/576 [19:33<00:03,  3.51s/it]"
     ]
    },
    {
     "name": "stdout",
     "output_type": "stream",
     "text": [
      "📁 Downloading: image - Pedro Pelico Guox.jpg → T01132425B.jpg\n"
     ]
    },
    {
     "name": "stderr",
     "output_type": "stream",
     "text": [
      "Processing estimates: 100%|██████████| 576/576 [19:34<00:00,  2.04s/it]\n"
     ]
    },
    {
     "name": "stdout",
     "output_type": "stream",
     "text": [
      "✅ Download complete!\n",
      "   Downloaded: 534 images\n",
      "   Skipped/Failed: 15 images\n",
      "   Validation failures: 0 rows\n",
      "   Ground truth records: 549\n",
      "📁 Ground truth saved to: d:\\UCSD_MJM\\Deliverables-Code\\data\\images\\metadata\\ground_truth.csv\n"
     ]
    }
   ],
   "source": [
    "# Cell 7: Download execution (uncomment to run)\n",
    "download_estimate_images()"
   ]
  },
  {
   "cell_type": "code",
   "execution_count": 10,
   "id": "812bac33",
   "metadata": {
    "lines_to_next_cell": 1
   },
   "outputs": [
    {
     "name": "stderr",
     "output_type": "stream",
     "text": [
      "Orienting images:  21%|██        | 110/533 [01:16<02:48,  2.51it/s]"
     ]
    },
    {
     "name": "stdout",
     "output_type": "stream",
     "text": [
      "Error processing d:\\UCSD_MJM\\Deliverables-Code\\data\\images\\0_raw_download\\20660.jpg: cannot identify image file 'd:\\\\UCSD_MJM\\\\Deliverables-Code\\\\data\\\\images\\\\0_raw_download\\\\20660.jpg'\n"
     ]
    },
    {
     "name": "stderr",
     "output_type": "stream",
     "text": [
      "Orienting images:  21%|██        | 111/533 [01:16<02:26,  2.88it/s]"
     ]
    },
    {
     "name": "stdout",
     "output_type": "stream",
     "text": [
      "Error processing d:\\UCSD_MJM\\Deliverables-Code\\data\\images\\0_raw_download\\20747.jpg: cannot identify image file 'd:\\\\UCSD_MJM\\\\Deliverables-Code\\\\data\\\\images\\\\0_raw_download\\\\20747.jpg'\n"
     ]
    },
    {
     "name": "stderr",
     "output_type": "stream",
     "text": [
      "Orienting images:  21%|██        | 113/533 [01:19<05:32,  1.26it/s]"
     ]
    },
    {
     "name": "stdout",
     "output_type": "stream",
     "text": [
      "Error processing d:\\UCSD_MJM\\Deliverables-Code\\data\\images\\0_raw_download\\20347.jpg: cannot identify image file 'd:\\\\UCSD_MJM\\\\Deliverables-Code\\\\data\\\\images\\\\0_raw_download\\\\20347.jpg'\n"
     ]
    },
    {
     "name": "stderr",
     "output_type": "stream",
     "text": [
      "Orienting images:  22%|██▏       | 115/533 [01:24<09:58,  1.43s/it]"
     ]
    },
    {
     "name": "stdout",
     "output_type": "stream",
     "text": [
      "Error processing d:\\UCSD_MJM\\Deliverables-Code\\data\\images\\0_raw_download\\2074820128.jpg: cannot identify image file 'd:\\\\UCSD_MJM\\\\Deliverables-Code\\\\data\\\\images\\\\0_raw_download\\\\2074820128.jpg'\n"
     ]
    },
    {
     "name": "stderr",
     "output_type": "stream",
     "text": [
      "Orienting images:  22%|██▏       | 118/533 [01:26<07:53,  1.14s/it]"
     ]
    },
    {
     "name": "stdout",
     "output_type": "stream",
     "text": [
      "Error processing d:\\UCSD_MJM\\Deliverables-Code\\data\\images\\0_raw_download\\20713.jpg: cannot identify image file 'd:\\\\UCSD_MJM\\\\Deliverables-Code\\\\data\\\\images\\\\0_raw_download\\\\20713.jpg'\n"
     ]
    },
    {
     "name": "stderr",
     "output_type": "stream",
     "text": [
      "Orienting images:  23%|██▎       | 121/533 [01:27<04:43,  1.46it/s]"
     ]
    },
    {
     "name": "stdout",
     "output_type": "stream",
     "text": [
      "Error processing d:\\UCSD_MJM\\Deliverables-Code\\data\\images\\0_raw_download\\8105th.jpg: cannot identify image file 'd:\\\\UCSD_MJM\\\\Deliverables-Code\\\\data\\\\images\\\\0_raw_download\\\\8105th.jpg'\n"
     ]
    },
    {
     "name": "stderr",
     "output_type": "stream",
     "text": [
      "Orienting images:  23%|██▎       | 123/533 [01:27<03:22,  2.02it/s]"
     ]
    },
    {
     "name": "stdout",
     "output_type": "stream",
     "text": [
      "Error processing d:\\UCSD_MJM\\Deliverables-Code\\data\\images\\0_raw_download\\T11242024A.jpg: cannot identify image file 'd:\\\\UCSD_MJM\\\\Deliverables-Code\\\\data\\\\images\\\\0_raw_download\\\\T11242024A.jpg'\n"
     ]
    },
    {
     "name": "stderr",
     "output_type": "stream",
     "text": [
      "Orienting images:  26%|██▌       | 136/533 [01:37<11:31,  1.74s/it]"
     ]
    },
    {
     "name": "stdout",
     "output_type": "stream",
     "text": [
      "Error processing d:\\UCSD_MJM\\Deliverables-Code\\data\\images\\0_raw_download\\20804.jpg: cannot identify image file 'd:\\\\UCSD_MJM\\\\Deliverables-Code\\\\data\\\\images\\\\0_raw_download\\\\20804.jpg'\n"
     ]
    },
    {
     "name": "stderr",
     "output_type": "stream",
     "text": [
      "Orienting images:  40%|████      | 215/533 [02:39<03:42,  1.43it/s]"
     ]
    },
    {
     "name": "stdout",
     "output_type": "stream",
     "text": [
      "Error processing d:\\UCSD_MJM\\Deliverables-Code\\data\\images\\0_raw_download\\CC.jpg: cannot identify image file 'd:\\\\UCSD_MJM\\\\Deliverables-Code\\\\data\\\\images\\\\0_raw_download\\\\CC.jpg'\n"
     ]
    },
    {
     "name": "stderr",
     "output_type": "stream",
     "text": [
      "Orienting images:  63%|██████▎   | 338/533 [04:03<01:28,  2.21it/s]"
     ]
    },
    {
     "name": "stdout",
     "output_type": "stream",
     "text": [
      "Error processing d:\\UCSD_MJM\\Deliverables-Code\\data\\images\\0_raw_download\\20136.jpg: cannot identify image file 'd:\\\\UCSD_MJM\\\\Deliverables-Code\\\\data\\\\images\\\\0_raw_download\\\\20136.jpg'\n"
     ]
    },
    {
     "name": "stderr",
     "output_type": "stream",
     "text": [
      "Orienting images:  92%|█████████▏| 489/533 [06:09<00:40,  1.09it/s]"
     ]
    },
    {
     "name": "stdout",
     "output_type": "stream",
     "text": [
      "Error processing d:\\UCSD_MJM\\Deliverables-Code\\data\\images\\0_raw_download\\P01142025C.jpg: cannot identify image file 'd:\\\\UCSD_MJM\\\\Deliverables-Code\\\\data\\\\images\\\\0_raw_download\\\\P01142025C.jpg'\n"
     ]
    },
    {
     "name": "stderr",
     "output_type": "stream",
     "text": [
      "Orienting images: 100%|██████████| 533/533 [06:37<00:00,  1.34it/s]"
     ]
    },
    {
     "name": "stdout",
     "output_type": "stream",
     "text": [
      "✅ Oriented 533 images (437 rotated)\n"
     ]
    },
    {
     "name": "stderr",
     "output_type": "stream",
     "text": [
      "\n"
     ]
    }
   ],
   "source": [
    "# Cell 8: Auto-orient all images to portrait\n",
    "def detect_and_fix_orientation(image_path):\n",
    "    \"\"\"Detect image orientation and rotate to portrait if needed.\"\"\"\n",
    "    try:\n",
    "        with Image.open(image_path) as img:\n",
    "            width, height = img.size\n",
    "            \n",
    "            # Check if already portrait (height > width)\n",
    "            if height >= width:\n",
    "                return 0, False  # No rotation needed\n",
    "            \n",
    "            # Rotate 90 degrees clockwise to make portrait\n",
    "            rotated_img = img.rotate(-90, expand=True)\n",
    "            rotated_img.save(image_path, quality=95, optimize=True)\n",
    "            \n",
    "            return 90, True\n",
    "    except Exception as e:\n",
    "        print(f\"Error processing {image_path}: {e}\")\n",
    "        return 0, False\n",
    "\n",
    "def orient_all_images():\n",
    "    \"\"\"Orient all downloaded images to portrait.\"\"\"\n",
    "    global metadata_df\n",
    "    \n",
    "    image_files = list(RAW_DOWNLOAD_DIR.glob(\"*.jpg\")) + list(RAW_DOWNLOAD_DIR.glob(\"*.jpeg\")) + list(RAW_DOWNLOAD_DIR.glob(\"*.png\"))\n",
    "    \n",
    "    if not image_files:\n",
    "        print(\"⚠️  No images found to orient. Please download images first.\")\n",
    "        return\n",
    "    \n",
    "    rotated_count = 0\n",
    "    for image_path in tqdm(image_files, desc=\"Orienting images\"):\n",
    "        filename = image_path.name\n",
    "        \n",
    "        # Check if already processed\n",
    "        existing_record = metadata_df[metadata_df['filename'] == filename]\n",
    "        if not existing_record.empty and existing_record.iloc[0]['rotated']:\n",
    "            continue\n",
    "        \n",
    "        # Process orientation\n",
    "        rotation_angle, was_rotated = detect_and_fix_orientation(image_path)\n",
    "        \n",
    "        # Update metadata\n",
    "        if filename in metadata_df['filename'].values:\n",
    "            metadata_df.loc[metadata_df['filename'] == filename, 'rotated'] = True\n",
    "            metadata_df.loc[metadata_df['filename'] == filename, 'rotation_angle'] = rotation_angle\n",
    "        \n",
    "        if was_rotated:\n",
    "            rotated_count += 1\n",
    "    \n",
    "    # Save updated metadata\n",
    "    metadata_df.to_csv(metadata_path, index=False)\n",
    "    print(f\"✅ Oriented {len(image_files)} images ({rotated_count} rotated)\")\n",
    "\n",
    "# Run orientation correction\n",
    "orient_all_images()"
   ]
  },
  {
   "cell_type": "code",
   "execution_count": 11,
   "id": "a905c611",
   "metadata": {},
   "outputs": [
    {
     "name": "stdout",
     "output_type": "stream",
     "text": [
      "📊 Estimate Images Download Summary:\n",
      "   Total 'Estimate' entries processed: 549\n",
      "   Successfully downloaded: 534\n",
      "   Failed downloads: 15\n",
      "   Oriented to portrait: 533\n",
      "   Ready for curation: 534\n",
      "\n",
      "📋 Ground Truth Dataset:\n",
      "   Records with work order numbers: 549\n",
      "   Records with totals: 549\n",
      "   Records with dates: 549\n",
      "   Records with names: 549\n",
      "\n",
      "📄 Sample ground truth record:\n",
      "   Filename: Aston.jpg\n",
      "   Work Order: Aston\n",
      "   Total: $500.00\n",
      "   Name: Marco\n",
      "\n",
      "✅ Good progress! 534 images ready for curation!\n"
     ]
    }
   ],
   "source": [
    "# Cell 9: Enhanced summary with ground truth information\n",
    "def display_download_summary():\n",
    "    \"\"\"Display summary of download and orientation status.\"\"\"\n",
    "    global metadata_df, ground_truth_df\n",
    "    \n",
    "    total_estimates = len(ground_truth_df)\n",
    "    downloaded = len(ground_truth_df[ground_truth_df['download_status'] == 'downloaded'])\n",
    "    failed = len(ground_truth_df[ground_truth_df['download_status'] == 'failed'])\n",
    "    \n",
    "    # Processing metadata\n",
    "    total_files = len(metadata_df)\n",
    "    rotated = len(metadata_df[metadata_df['rotated'] == True])\n",
    "    \n",
    "    print(f\"📊 Estimate Images Download Summary:\")\n",
    "    print(f\"   Total 'Estimate' entries processed: {total_estimates}\")\n",
    "    print(f\"   Successfully downloaded: {downloaded}\")\n",
    "    print(f\"   Failed downloads: {failed}\")\n",
    "    print(f\"   Oriented to portrait: {rotated}\")\n",
    "    print(f\"   Ready for curation: {downloaded}\")\n",
    "    \n",
    "    # Ground truth summary\n",
    "    if total_estimates > 0:\n",
    "        print(f\"\\n📋 Ground Truth Dataset:\")\n",
    "        print(f\"   Records with work order numbers: {len(ground_truth_df[ground_truth_df['work_order_number'] != ''])}\")\n",
    "        print(f\"   Records with totals: {len(ground_truth_df[ground_truth_df['total'] != ''])}\")\n",
    "        print(f\"   Records with dates: {len(ground_truth_df[ground_truth_df['date'] != ''])}\")\n",
    "        print(f\"   Records with names: {len(ground_truth_df[ground_truth_df['name'] != ''])}\")\n",
    "        \n",
    "        # Sample data\n",
    "        if len(ground_truth_df) > 0:\n",
    "            print(f\"\\n📄 Sample ground truth record:\")\n",
    "            sample = ground_truth_df.iloc[0]\n",
    "            print(f\"   Filename: {sample['filename']}\")\n",
    "            print(f\"   Work Order: {sample['work_order_number']}\")\n",
    "            print(f\"   Total: {sample['total']}\")\n",
    "            print(f\"   Name: {sample['name']}\")\n",
    "    \n",
    "    if downloaded == 0:\n",
    "        print(\"\\n💡 No images downloaded yet. Run the download cell above.\")\n",
    "    elif downloaded < 50:\n",
    "        print(f\"\\n📈 Progress: {downloaded}/~150 estimate images downloaded\")\n",
    "        print(f\"   Target: ~50 curated images from these downloads\")\n",
    "    else:\n",
    "        print(f\"\\n✅ Good progress! {downloaded} images ready for curation!\")\n",
    "\n",
    "display_download_summary()"
   ]
  },
  {
   "cell_type": "markdown",
   "id": "a343c156",
   "metadata": {},
   "source": [
    "## Ready for Manual Testing\n",
    "\n",
    "**Next Steps:**\n",
    "1. ✅ Environment setup complete\n",
    "2. ✅ Directory structure created\n",
    "3. ✅ Authentication configured\n",
    "4. ✅ Basic processing functions ready\n",
    "\n",
    "**To Continue:**\n",
    "- Uncomment and run the download cell when ready\n",
    "- Proceed with image curation (GUI implementation coming next)\n",
    "\n",
    "**For Runpod Deployment:**\n",
    "- This notebook will work in runpod after cloning from GitHub\n",
    "- Run the requirements installation cell first\n",
    "- Ensure OAuth credentials are available "
   ]
  }
 ],
 "metadata": {
  "jupytext": {
   "cell_metadata_filter": "-all",
   "main_language": "python",
   "notebook_metadata_filter": "-all"
  },
  "language_info": {
   "name": "python"
  }
 },
 "nbformat": 4,
 "nbformat_minor": 5
}
